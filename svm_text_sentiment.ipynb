{
  "nbformat": 4,
  "nbformat_minor": 0,
  "metadata": {
    "colab": {
      "name": "svm_text_sentiment.ipynb",
      "provenance": [],
      "mount_file_id": "1bpJik2FL13Sd2YXfH09APwYmr28ITcv-",
      "authorship_tag": "ABX9TyNb333IKeXvHmWedS4aOHUq",
      "include_colab_link": true
    },
    "kernelspec": {
      "name": "python3",
      "display_name": "Python 3"
    },
    "language_info": {
      "name": "python"
    },
    "accelerator": "GPU"
  },
  "cells": [
    {
      "cell_type": "markdown",
      "metadata": {
        "id": "view-in-github",
        "colab_type": "text"
      },
      "source": [
        "<a href=\"https://colab.research.google.com/github/sean-halpin/ml_tweepy_proj/blob/main/svm_text_sentiment.ipynb\" target=\"_parent\"><img src=\"https://colab.research.google.com/assets/colab-badge.svg\" alt=\"Open In Colab\"/></a>"
      ]
    },
    {
      "cell_type": "code",
      "source": [
        "!pip install vaderSentiment\n",
        "!pip install spellchecker\n",
        "!pip install pyspellchecker\n",
        "!pip install plot_keras_history"
      ],
      "metadata": {
        "id": "l_32RV-zeCXX"
      },
      "execution_count": null,
      "outputs": []
    },
    {
      "cell_type": "code",
      "source": [
        "from google.colab import drive\n",
        "drive.mount('/content/drive/')\n",
        "import os\n",
        "os.chdir(\"/content/drive/My Drive/Colab Notebooks\")"
      ],
      "metadata": {
        "id": "zT5s9ms6s9ts"
      },
      "execution_count": null,
      "outputs": []
    },
    {
      "cell_type": "code",
      "source": [
        "import numpy as np\n",
        "import pandas as pd \n",
        "import re\n",
        "import string\n",
        "import nltk\n",
        "from nltk.corpus import stopwords\n",
        "nltk.download('stopwords')\n",
        "nltk.download('punkt')\n",
        "nltk.download('wordnet')\n",
        "from nltk.tokenize import word_tokenize \n",
        "from nltk.stem.porter import *\n",
        "from nltk.stem.wordnet import WordNetLemmatizer"
      ],
      "metadata": {
        "id": "FwEx4tlwsxq-"
      },
      "execution_count": null,
      "outputs": []
    },
    {
      "cell_type": "code",
      "source": [
        "df = pd.read_csv(\"tweets_annotated.1650577206.elonmusk.csv\")"
      ],
      "metadata": {
        "id": "UbGJkBZWs0Gy"
      },
      "execution_count": null,
      "outputs": []
    },
    {
      "cell_type": "code",
      "source": [
        "stop_words = set(stopwords.words('english'))\n",
        "def no_stopwords(text):\n",
        "  tokenwords = word_tokenize(text) \n",
        "  result = [w for w in tokenwords if not w in stop_words] \n",
        "  result = [] \n",
        "  for w in tokenwords: \n",
        "      if w not in stop_words: \n",
        "          result.append(w)\n",
        "  return \" \".join(result)"
      ],
      "metadata": {
        "id": "DsR1tpd2pQw1"
      },
      "execution_count": null,
      "outputs": []
    },
    {
      "cell_type": "code",
      "source": [
        "w_tokenizer = nltk.tokenize.WhitespaceTokenizer()\n",
        "lemmatizer = nltk.stem.WordNetLemmatizer()\n",
        "\n",
        "def lemmatize_text(text):\n",
        "    return \" \".join([lemmatizer.lemmatize(w) for w in w_tokenizer.tokenize(text)])"
      ],
      "metadata": {
        "id": "cza8vvcYrc_9"
      },
      "execution_count": null,
      "outputs": []
    },
    {
      "cell_type": "code",
      "source": [
        "output= string.punctuation\n",
        "print('list of punctuations:', output)"
      ],
      "metadata": {
        "id": "JNZIkIUslkTS"
      },
      "execution_count": null,
      "outputs": []
    },
    {
      "cell_type": "code",
      "source": [
        "df['tweet'] = df['tweet'].str.replace('http\\S+|www.\\S+|@.\\S+|&amp;.\\S+|<.*?>', '', case=False)\n",
        "df['tweet'] = df['tweet'].str.lower()\n",
        "df['tweet'] = df['tweet'].str.strip()\n",
        "df['tweet'] = df['tweet'].str.translate(str.maketrans('', '', output))\n",
        "df['lemmatized_tweet'] = df['tweet'].apply(lemmatize_text).apply(no_stopwords)"
      ],
      "metadata": {
        "id": "9GbavaxZZG9H"
      },
      "execution_count": null,
      "outputs": []
    },
    {
      "cell_type": "code",
      "source": [
        "df = df.drop_duplicates('tweet', keep='last')"
      ],
      "metadata": {
        "id": "Z3DEAihohlOf"
      },
      "execution_count": null,
      "outputs": []
    },
    {
      "cell_type": "code",
      "source": [
        "X = df.lemmatized_tweet.values.reshape(-1,1)\n",
        "y = df.sentiment.values.reshape(-1,1)"
      ],
      "metadata": {
        "id": "QyOGzEB9ZsKC"
      },
      "execution_count": null,
      "outputs": []
    },
    {
      "cell_type": "code",
      "source": [
        "from collections import Counter\n",
        "from imblearn.under_sampling import RandomUnderSampler\n",
        "rus = RandomUnderSampler(random_state=0)\n",
        "X_resampled, y_resampled = rus.fit_resample(X,y)\n",
        "print(sorted(Counter(y_resampled).items()))"
      ],
      "metadata": {
        "id": "biKHmIc4ZftK"
      },
      "execution_count": null,
      "outputs": []
    },
    {
      "cell_type": "code",
      "source": [
        "df_resampled = pd.DataFrame ({ 'lemmatized_tweet': X_resampled.flatten(), 'sentiment': y_resampled})"
      ],
      "metadata": {
        "id": "C-GzbM90bJaj"
      },
      "execution_count": null,
      "outputs": []
    },
    {
      "cell_type": "code",
      "source": [
        "df_resampled.head()"
      ],
      "metadata": {
        "id": "RkY_CIBJdONZ"
      },
      "execution_count": null,
      "outputs": []
    },
    {
      "cell_type": "code",
      "source": [
        "from sklearn.pipeline import Pipeline\n",
        "from sklearn.feature_extraction.text import TfidfTransformer\n",
        "from sklearn.feature_extraction.text import CountVectorizer\n",
        "from sklearn.linear_model import SGDClassifier\n",
        "from sklearn.model_selection import train_test_split"
      ],
      "metadata": {
        "id": "k0tVHkK0xMzW"
      },
      "execution_count": null,
      "outputs": []
    },
    {
      "cell_type": "code",
      "source": [
        "X_train, X_test, y_train, y_test = train_test_split(df_resampled.lemmatized_tweet, df_resampled.sentiment, test_size=0.3, random_state=32)"
      ],
      "metadata": {
        "id": "yWYlxz8bx-Gi"
      },
      "execution_count": null,
      "outputs": []
    },
    {
      "cell_type": "markdown",
      "source": [
        "# Text Classifier"
      ],
      "metadata": {
        "id": "hZnDCfyRvxnm"
      }
    },
    {
      "cell_type": "code",
      "source": [
        "text_clf = Pipeline([\n",
        "    ('vect', CountVectorizer()),\n",
        "    ('tfidf', TfidfTransformer()),\n",
        "    ('clf', SGDClassifier(loss='hinge', penalty='l2',\n",
        "                          alpha=1e-3, random_state=42,\n",
        "                          max_iter=5, tol=None)),\n",
        "])\n",
        "\n",
        "text_clf.fit(X_train, y_train)\n",
        "\n",
        "predicted = text_clf.predict(X_test)\n",
        "np.mean(predicted == y_test)"
      ],
      "metadata": {
        "id": "FDeKiuRww5T2"
      },
      "execution_count": null,
      "outputs": []
    },
    {
      "cell_type": "code",
      "source": [
        "from sklearn.metrics import confusion_matrix\n",
        "from sklearn import metrics\n",
        "import seaborn as sns\n",
        "def clf_metrics(y_test, predicted):\n",
        "  print(metrics.classification_report(y_test, predicted))\n",
        "  c_matrix = metrics.confusion_matrix(y_test, predicted)\n",
        "  ax = sns.heatmap(c_matrix, annot=True,      \n",
        "                    xticklabels=['negative','neutral','positive'],                \n",
        "                    yticklabels=['negative','neutral','positive'],                \n",
        "                  cbar=True, cmap='Blues', fmt='g')\n",
        "  ax.set_xlabel(\"Prediction\")\n",
        "  ax.set_ylabel(\"Actual\")"
      ],
      "metadata": {
        "id": "jvRncbECb6m8"
      },
      "execution_count": null,
      "outputs": []
    },
    {
      "cell_type": "code",
      "source": [
        "clf_metrics(y_test, predicted)"
      ],
      "metadata": {
        "id": "x-aQ8UYec9ws"
      },
      "execution_count": null,
      "outputs": []
    },
    {
      "cell_type": "code",
      "source": [
        "import numpy as np\n",
        "import matplotlib.pyplot as plt\n",
        "from sklearn.datasets import load_digits\n",
        "from sklearn.model_selection import learning_curve\n",
        "\n",
        "\n",
        "def plot_learning_curve(\n",
        "    estimator,\n",
        "    title,\n",
        "    X,\n",
        "    y,\n",
        "    axes=None,\n",
        "    ylim=None,\n",
        "    cv=None,\n",
        "    n_jobs=None,\n",
        "    train_sizes=np.linspace(0.1, 1.0, 5),\n",
        "):\n",
        "    if axes is None:\n",
        "        _, (ax) = plt.subplots(1, 1, figsize=(20, 5))\n",
        "\n",
        "    ax.set_title(title)\n",
        "    if ylim is not None:\n",
        "        ax.set_ylim(*ylim)\n",
        "    ax.set_xlabel(\"Training examples\")\n",
        "    ax.set_ylabel(\"Score\")\n",
        "\n",
        "    train_sizes, train_scores, test_scores, fit_times, _ = learning_curve(\n",
        "        estimator,\n",
        "        X,\n",
        "        y,\n",
        "        cv=cv,\n",
        "        n_jobs=n_jobs,\n",
        "        train_sizes=train_sizes,\n",
        "        return_times=True,\n",
        "    )\n",
        "    train_scores_mean = np.mean(train_scores, axis=1)\n",
        "    train_scores_std = np.std(train_scores, axis=1)\n",
        "    test_scores_mean = np.mean(test_scores, axis=1)\n",
        "    test_scores_std = np.std(test_scores, axis=1)\n",
        "    fit_times_mean = np.mean(fit_times, axis=1)\n",
        "    fit_times_std = np.std(fit_times, axis=1)\n",
        "\n",
        "    # Plot learning curve\n",
        "    ax.grid()\n",
        "    ax.fill_between(\n",
        "        train_sizes,\n",
        "        train_scores_mean - train_scores_std,\n",
        "        train_scores_mean + train_scores_std,\n",
        "        alpha=0.1,\n",
        "        color=\"r\",\n",
        "    )\n",
        "    ax.fill_between(\n",
        "        train_sizes,\n",
        "        test_scores_mean - test_scores_std,\n",
        "        test_scores_mean + test_scores_std,\n",
        "        alpha=0.1,\n",
        "        color=\"g\",\n",
        "    )\n",
        "    ax.plot(\n",
        "        train_sizes, train_scores_mean, \"o-\", color=\"r\", label=\"Training score\"\n",
        "    )\n",
        "    ax.plot(\n",
        "        train_sizes, test_scores_mean, \"o-\", color=\"g\", label=\"Cross-validation score\"\n",
        "    )\n",
        "    ax.legend(loc=\"best\")\n",
        "    return plt\n",
        "\n",
        "\n",
        "plot_learning_curve(\n",
        "    text_clf, \"LC \", X=X_test, y=y_test,ylim=(0.1, 1.01), cv=5, n_jobs=-1\n",
        ")\n",
        "\n",
        "plt.show()"
      ],
      "metadata": {
        "id": "rzLGkp55v4uK"
      },
      "execution_count": null,
      "outputs": []
    },
    {
      "cell_type": "markdown",
      "source": [
        "# Vader"
      ],
      "metadata": {
        "id": "qrMaqZMBvpqT"
      }
    },
    {
      "cell_type": "code",
      "source": [
        "from vaderSentiment.vaderSentiment import SentimentIntensityAnalyzer"
      ],
      "metadata": {
        "id": "4IO2obn26CfF"
      },
      "execution_count": null,
      "outputs": []
    },
    {
      "cell_type": "code",
      "source": [
        "analyzer = SentimentIntensityAnalyzer()\n",
        "def vader_sentiment(sentence):\n",
        "  vs = analyzer.polarity_scores(sentence)\n",
        "  comp = vs['compound']\n",
        "  if comp > 0.05:\n",
        "    return 'positive'\n",
        "  elif comp < -0.05:\n",
        "    return 'negative'\n",
        "  else:\n",
        "    return 'neutral'"
      ],
      "metadata": {
        "id": "rCMZRRrb5lNl"
      },
      "execution_count": null,
      "outputs": []
    },
    {
      "cell_type": "code",
      "source": [
        "vader_predicted = X_test.apply(vader_sentiment)"
      ],
      "metadata": {
        "id": "uiXINY-HefH5"
      },
      "execution_count": null,
      "outputs": []
    },
    {
      "cell_type": "code",
      "source": [
        "clf_metrics(y_test, vader_predicted)"
      ],
      "metadata": {
        "id": "yv0Jd1scfCii"
      },
      "execution_count": null,
      "outputs": []
    },
    {
      "cell_type": "code",
      "source": [
        "pd.set_option('max_colwidth', -1)"
      ],
      "metadata": {
        "id": "ngp9I54_kS4-"
      },
      "execution_count": null,
      "outputs": []
    },
    {
      "cell_type": "code",
      "source": [
        "len(X_test[(y_test == \"neutral\") & (vader_predicted == \"positive\")])"
      ],
      "metadata": {
        "id": "sinyvvmZfley"
      },
      "execution_count": null,
      "outputs": []
    },
    {
      "cell_type": "code",
      "source": [
        "X_test[(y_test == \"neutral\") & (vader_predicted == \"positive\")]"
      ],
      "metadata": {
        "id": "VgszAVv-h9u6"
      },
      "execution_count": null,
      "outputs": []
    },
    {
      "cell_type": "markdown",
      "source": [
        "# Deep Neural Network Classifier"
      ],
      "metadata": {
        "id": "PbyiZMBA2JwE"
      }
    },
    {
      "cell_type": "code",
      "source": [
        "import numpy as np\n",
        "import pandas as pd\n",
        "import re\n",
        "import gensim\n",
        "from nltk.tokenize import TreebankWordTokenizer\n",
        "from nltk.tokenize.treebank import TreebankWordDetokenizer\n",
        "from sklearn.model_selection import train_test_split\n",
        "import tensorflow as tf"
      ],
      "metadata": {
        "id": "VGraRTvu2M7e"
      },
      "execution_count": null,
      "outputs": []
    },
    {
      "cell_type": "code",
      "source": [
        "def labels_categorical(data):\n",
        "  labels = np.array(data)\n",
        "  y = []\n",
        "  for i in range(len(labels)):\n",
        "      if labels[i] == 'neutral':\n",
        "          y.append(0)\n",
        "      if labels[i] == 'negative':\n",
        "          y.append(1)\n",
        "      if labels[i] == 'positive':\n",
        "          y.append(2)\n",
        "  y = np.array(y)\n",
        "  labels = tf.keras.utils.to_categorical(y, 3, dtype=\"float32\")\n",
        "  del y\n",
        "  return labels"
      ],
      "metadata": {
        "id": "1SSI4v1k8J_t"
      },
      "execution_count": null,
      "outputs": []
    },
    {
      "cell_type": "code",
      "source": [
        "labels = labels_categorical(df_resampled.sentiment)"
      ],
      "metadata": {
        "id": "1gbZIrzF8s-M"
      },
      "execution_count": null,
      "outputs": []
    },
    {
      "cell_type": "code",
      "source": [
        "from keras.preprocessing.text import Tokenizer\n",
        "from keras.preprocessing.sequence import pad_sequences\n",
        "from keras import regularizers\n",
        "\n",
        "max_words = 2500\n",
        "max_len = 100\n",
        "\n",
        "tokenizer = Tokenizer(num_words=max_words)\n",
        "tokenizer.fit_on_texts(df_resampled.lemmatized_tweet)\n",
        "sequences = tokenizer.texts_to_sequences(df_resampled.lemmatized_tweet)\n",
        "tweets = pad_sequences(sequences, maxlen=max_len)\n",
        "print(tweets)"
      ],
      "metadata": {
        "id": "LTd9bp9gzSuk"
      },
      "execution_count": null,
      "outputs": []
    },
    {
      "cell_type": "code",
      "source": [
        "X_train, X_test, y_train, y_test = train_test_split(tweets, labels, test_size=0.3, random_state=32)"
      ],
      "metadata": {
        "id": "tq6zVGuA8xbo"
      },
      "execution_count": null,
      "outputs": []
    },
    {
      "cell_type": "code",
      "source": [
        "print(X_train.shape)\n",
        "print(X_test.shape)\n",
        "print(y_train.shape)\n",
        "print(y_test.shape)"
      ],
      "metadata": {
        "id": "cm3Mfpiq81CJ"
      },
      "execution_count": null,
      "outputs": []
    },
    {
      "cell_type": "code",
      "source": [
        "from keras.models import Sequential\n",
        "from keras import layers\n",
        "from keras import regularizers\n",
        "from keras import backend as K\n",
        "from keras.callbacks import ModelCheckpoint\n",
        "from keras.layers import Embedding\n",
        "embedding_layer = Embedding(1000, 32)\n",
        "\n",
        "model1 = Sequential()\n",
        "model1.add(layers.Embedding(max_words, 10))\n",
        "model1.add(layers.LSTM(90,dropout=0.5, return_sequences=True))\n",
        "model1.add(layers.LSTM(90,dropout=0.5, return_sequences=True))\n",
        "model1.add(layers.LSTM(30,dropout=0.5, return_sequences=False))\n",
        "model1.add(layers.Dense(3,activation='softmax'))\n",
        "\n",
        "model1.compile(optimizer='rmsprop',loss='categorical_crossentropy', metrics=['accuracy'])"
      ],
      "metadata": {
        "id": "4SY2V_ks3X7H"
      },
      "execution_count": null,
      "outputs": []
    },
    {
      "cell_type": "code",
      "source": [
        "model1.summary()"
      ],
      "metadata": {
        "id": "KOipYoR0APQJ"
      },
      "execution_count": null,
      "outputs": []
    },
    {
      "cell_type": "code",
      "source": [
        "#Implementing model checkpoins to save the best metric and do not lose it on training.\n",
        "checkpoint1 = ModelCheckpoint(\"best_model1.hdf5\", monitor='val_accuracy', verbose=1,save_best_only=True, mode='auto', period=1,save_weights_only=False)\n",
        "history = model1.fit(X_train, y_train, epochs=200,validation_data=(X_test, y_test),callbacks=[checkpoint1])"
      ],
      "metadata": {
        "colab": {
          "base_uri": "https://localhost:8080/"
        },
        "id": "KHjLziPmAyD_",
        "outputId": "9535c4c5-7daf-40dc-e84e-9886444958bb"
      },
      "execution_count": 223,
      "outputs": [
        {
          "output_type": "stream",
          "name": "stdout",
          "text": [
            "82/83 [============================>.] - ETA: 0s - loss: 0.9188 - accuracy: 0.5316\n",
            "Epoch 4: val_accuracy improved from 0.47298 to 0.54827, saving model to best_model1.hdf5\n",
            "83/83 [==============================] - 1s 16ms/step - loss: 0.9192 - accuracy: 0.5317 - val_loss: 0.9732 - val_accuracy: 0.5483\n",
            "Epoch 5/200\n",
            "82/83 [============================>.] - ETA: 0s - loss: 0.8803 - accuracy: 0.5789\n",
            "Epoch 5: val_accuracy did not improve from 0.54827\n",
            "83/83 [==============================] - 1s 16ms/step - loss: 0.8793 - accuracy: 0.5792 - val_loss: 0.9822 - val_accuracy: 0.4969\n",
            "Epoch 6/200\n",
            "81/83 [============================>.] - ETA: 0s - loss: 0.8386 - accuracy: 0.6076\n",
            "Epoch 6: val_accuracy did not improve from 0.54827\n",
            "83/83 [==============================] - 1s 16ms/step - loss: 0.8421 - accuracy: 0.6058 - val_loss: 0.9441 - val_accuracy: 0.5412\n",
            "Epoch 7/200\n",
            "81/83 [============================>.] - ETA: 0s - loss: 0.8085 - accuracy: 0.6277\n",
            "Epoch 7: val_accuracy improved from 0.54827 to 0.55802, saving model to best_model1.hdf5\n",
            "83/83 [==============================] - 1s 17ms/step - loss: 0.8068 - accuracy: 0.6293 - val_loss: 0.9430 - val_accuracy: 0.5580\n",
            "Epoch 8/200\n",
            "83/83 [==============================] - ETA: 0s - loss: 0.7943 - accuracy: 0.6441\n",
            "Epoch 8: val_accuracy did not improve from 0.55802\n",
            "83/83 [==============================] - 1s 16ms/step - loss: 0.7943 - accuracy: 0.6441 - val_loss: 0.9136 - val_accuracy: 0.5536\n",
            "Epoch 9/200\n",
            "81/83 [============================>.] - ETA: 0s - loss: 0.7785 - accuracy: 0.6470\n",
            "Epoch 9: val_accuracy improved from 0.55802 to 0.55979, saving model to best_model1.hdf5\n",
            "83/83 [==============================] - 1s 16ms/step - loss: 0.7783 - accuracy: 0.6476 - val_loss: 0.9189 - val_accuracy: 0.5598\n",
            "Epoch 10/200\n",
            "81/83 [============================>.] - ETA: 0s - loss: 0.7491 - accuracy: 0.6659\n",
            "Epoch 10: val_accuracy did not improve from 0.55979\n",
            "83/83 [==============================] - 1s 16ms/step - loss: 0.7489 - accuracy: 0.6662 - val_loss: 0.9340 - val_accuracy: 0.5509\n",
            "Epoch 11/200\n",
            "83/83 [==============================] - ETA: 0s - loss: 0.7378 - accuracy: 0.6802\n",
            "Epoch 11: val_accuracy improved from 0.55979 to 0.57396, saving model to best_model1.hdf5\n",
            "83/83 [==============================] - 1s 16ms/step - loss: 0.7378 - accuracy: 0.6802 - val_loss: 0.9656 - val_accuracy: 0.5740\n",
            "Epoch 12/200\n",
            "81/83 [============================>.] - ETA: 0s - loss: 0.7354 - accuracy: 0.6782\n",
            "Epoch 12: val_accuracy did not improve from 0.57396\n",
            "83/83 [==============================] - 1s 16ms/step - loss: 0.7347 - accuracy: 0.6783 - val_loss: 0.9281 - val_accuracy: 0.5695\n",
            "Epoch 13/200\n",
            "83/83 [==============================] - ETA: 0s - loss: 0.7219 - accuracy: 0.6776\n",
            "Epoch 13: val_accuracy improved from 0.57396 to 0.58193, saving model to best_model1.hdf5\n",
            "83/83 [==============================] - 1s 16ms/step - loss: 0.7219 - accuracy: 0.6776 - val_loss: 0.9227 - val_accuracy: 0.5819\n",
            "Epoch 14/200\n",
            "82/83 [============================>.] - ETA: 0s - loss: 0.7187 - accuracy: 0.6837\n",
            "Epoch 14: val_accuracy did not improve from 0.58193\n",
            "83/83 [==============================] - 1s 16ms/step - loss: 0.7188 - accuracy: 0.6840 - val_loss: 0.9339 - val_accuracy: 0.5722\n",
            "Epoch 15/200\n",
            "81/83 [============================>.] - ETA: 0s - loss: 0.7032 - accuracy: 0.6998\n",
            "Epoch 15: val_accuracy improved from 0.58193 to 0.59433, saving model to best_model1.hdf5\n",
            "83/83 [==============================] - 1s 16ms/step - loss: 0.7024 - accuracy: 0.7003 - val_loss: 0.9283 - val_accuracy: 0.5943\n",
            "Epoch 16/200\n",
            "83/83 [==============================] - ETA: 0s - loss: 0.7055 - accuracy: 0.6977\n",
            "Epoch 16: val_accuracy did not improve from 0.59433\n",
            "83/83 [==============================] - 1s 16ms/step - loss: 0.7055 - accuracy: 0.6977 - val_loss: 0.9237 - val_accuracy: 0.5837\n",
            "Epoch 17/200\n",
            "82/83 [============================>.] - ETA: 0s - loss: 0.7083 - accuracy: 0.6829\n",
            "Epoch 17: val_accuracy did not improve from 0.59433\n",
            "83/83 [==============================] - 1s 17ms/step - loss: 0.7082 - accuracy: 0.6829 - val_loss: 0.9066 - val_accuracy: 0.5934\n",
            "Epoch 18/200\n",
            "83/83 [==============================] - ETA: 0s - loss: 0.6900 - accuracy: 0.7000\n",
            "Epoch 18: val_accuracy did not improve from 0.59433\n",
            "83/83 [==============================] - 1s 16ms/step - loss: 0.6900 - accuracy: 0.7000 - val_loss: 0.9130 - val_accuracy: 0.5934\n",
            "Epoch 19/200\n",
            "82/83 [============================>.] - ETA: 0s - loss: 0.6775 - accuracy: 0.7001\n",
            "Epoch 19: val_accuracy did not improve from 0.59433\n",
            "83/83 [==============================] - 1s 16ms/step - loss: 0.6786 - accuracy: 0.6996 - val_loss: 0.9103 - val_accuracy: 0.5899\n",
            "Epoch 20/200\n",
            "81/83 [============================>.] - ETA: 0s - loss: 0.6783 - accuracy: 0.7068\n",
            "Epoch 20: val_accuracy improved from 0.59433 to 0.59699, saving model to best_model1.hdf5\n",
            "83/83 [==============================] - 1s 16ms/step - loss: 0.6778 - accuracy: 0.7076 - val_loss: 0.9081 - val_accuracy: 0.5970\n",
            "Epoch 21/200\n",
            "82/83 [============================>.] - ETA: 0s - loss: 0.6771 - accuracy: 0.7096\n",
            "Epoch 21: val_accuracy did not improve from 0.59699\n",
            "83/83 [==============================] - 1s 16ms/step - loss: 0.6776 - accuracy: 0.7095 - val_loss: 0.9098 - val_accuracy: 0.5934\n",
            "Epoch 22/200\n",
            "82/83 [============================>.] - ETA: 0s - loss: 0.6744 - accuracy: 0.7161\n",
            "Epoch 22: val_accuracy improved from 0.59699 to 0.60585, saving model to best_model1.hdf5\n",
            "83/83 [==============================] - 1s 16ms/step - loss: 0.6748 - accuracy: 0.7163 - val_loss: 0.8936 - val_accuracy: 0.6058\n",
            "Epoch 23/200\n",
            "83/83 [==============================] - ETA: 0s - loss: 0.6675 - accuracy: 0.7034\n",
            "Epoch 23: val_accuracy did not improve from 0.60585\n",
            "83/83 [==============================] - 1s 16ms/step - loss: 0.6675 - accuracy: 0.7034 - val_loss: 0.9134 - val_accuracy: 0.5943\n",
            "Epoch 24/200\n",
            "80/83 [===========================>..] - ETA: 0s - loss: 0.6677 - accuracy: 0.7145\n",
            "Epoch 24: val_accuracy did not improve from 0.60585\n",
            "83/83 [==============================] - 1s 16ms/step - loss: 0.6693 - accuracy: 0.7121 - val_loss: 0.9279 - val_accuracy: 0.6005\n",
            "Epoch 25/200\n",
            "80/83 [===========================>..] - ETA: 0s - loss: 0.6547 - accuracy: 0.7172\n",
            "Epoch 25: val_accuracy did not improve from 0.60585\n",
            "83/83 [==============================] - 1s 16ms/step - loss: 0.6595 - accuracy: 0.7163 - val_loss: 0.9170 - val_accuracy: 0.6032\n",
            "Epoch 26/200\n",
            "83/83 [==============================] - ETA: 0s - loss: 0.6640 - accuracy: 0.7174\n",
            "Epoch 26: val_accuracy did not improve from 0.60585\n",
            "83/83 [==============================] - 1s 16ms/step - loss: 0.6640 - accuracy: 0.7174 - val_loss: 0.9195 - val_accuracy: 0.6041\n",
            "Epoch 27/200\n",
            "80/83 [===========================>..] - ETA: 0s - loss: 0.6688 - accuracy: 0.7102\n",
            "Epoch 27: val_accuracy did not improve from 0.60585\n",
            "83/83 [==============================] - 1s 16ms/step - loss: 0.6658 - accuracy: 0.7110 - val_loss: 0.9275 - val_accuracy: 0.5961\n",
            "Epoch 28/200\n",
            "81/83 [============================>.] - ETA: 0s - loss: 0.6562 - accuracy: 0.7288\n",
            "Epoch 28: val_accuracy did not improve from 0.60585\n",
            "83/83 [==============================] - 1s 16ms/step - loss: 0.6554 - accuracy: 0.7288 - val_loss: 0.9234 - val_accuracy: 0.6005\n",
            "Epoch 29/200\n",
            "83/83 [==============================] - ETA: 0s - loss: 0.6599 - accuracy: 0.7148\n",
            "Epoch 29: val_accuracy did not improve from 0.60585\n",
            "83/83 [==============================] - 1s 16ms/step - loss: 0.6599 - accuracy: 0.7148 - val_loss: 0.9754 - val_accuracy: 0.5943\n",
            "Epoch 30/200\n",
            "83/83 [==============================] - ETA: 0s - loss: 0.6453 - accuracy: 0.7258\n",
            "Epoch 30: val_accuracy did not improve from 0.60585\n",
            "83/83 [==============================] - 1s 17ms/step - loss: 0.6453 - accuracy: 0.7258 - val_loss: 0.9719 - val_accuracy: 0.5952\n",
            "Epoch 31/200\n",
            "81/83 [============================>.] - ETA: 0s - loss: 0.6498 - accuracy: 0.7249\n",
            "Epoch 31: val_accuracy did not improve from 0.60585\n",
            "83/83 [==============================] - 1s 16ms/step - loss: 0.6508 - accuracy: 0.7243 - val_loss: 0.9358 - val_accuracy: 0.5943\n",
            "Epoch 32/200\n",
            "80/83 [===========================>..] - ETA: 0s - loss: 0.6355 - accuracy: 0.7312\n",
            "Epoch 32: val_accuracy improved from 0.60585 to 0.60762, saving model to best_model1.hdf5\n",
            "83/83 [==============================] - 2s 23ms/step - loss: 0.6345 - accuracy: 0.7303 - val_loss: 0.9491 - val_accuracy: 0.6076\n",
            "Epoch 33/200\n",
            "80/83 [===========================>..] - ETA: 0s - loss: 0.6507 - accuracy: 0.7195\n",
            "Epoch 33: val_accuracy did not improve from 0.60762\n",
            "83/83 [==============================] - 1s 16ms/step - loss: 0.6478 - accuracy: 0.7216 - val_loss: 0.9531 - val_accuracy: 0.5979\n",
            "Epoch 34/200\n",
            "81/83 [============================>.] - ETA: 0s - loss: 0.6377 - accuracy: 0.7307\n",
            "Epoch 34: val_accuracy did not improve from 0.60762\n",
            "83/83 [==============================] - 1s 16ms/step - loss: 0.6381 - accuracy: 0.7315 - val_loss: 0.9411 - val_accuracy: 0.5996\n",
            "Epoch 35/200\n",
            "81/83 [============================>.] - ETA: 0s - loss: 0.6420 - accuracy: 0.7334\n",
            "Epoch 35: val_accuracy did not improve from 0.60762\n",
            "83/83 [==============================] - 1s 16ms/step - loss: 0.6410 - accuracy: 0.7330 - val_loss: 0.9877 - val_accuracy: 0.5979\n",
            "Epoch 36/200\n",
            "80/83 [===========================>..] - ETA: 0s - loss: 0.6407 - accuracy: 0.7238\n",
            "Epoch 36: val_accuracy did not improve from 0.60762\n",
            "83/83 [==============================] - 1s 16ms/step - loss: 0.6363 - accuracy: 0.7273 - val_loss: 1.0209 - val_accuracy: 0.5988\n",
            "Epoch 37/200\n",
            "80/83 [===========================>..] - ETA: 0s - loss: 0.6354 - accuracy: 0.7375\n",
            "Epoch 37: val_accuracy did not improve from 0.60762\n",
            "83/83 [==============================] - 1s 16ms/step - loss: 0.6364 - accuracy: 0.7379 - val_loss: 0.9779 - val_accuracy: 0.6005\n",
            "Epoch 38/200\n",
            "83/83 [==============================] - ETA: 0s - loss: 0.6397 - accuracy: 0.7235\n",
            "Epoch 38: val_accuracy did not improve from 0.60762\n",
            "83/83 [==============================] - 1s 16ms/step - loss: 0.6397 - accuracy: 0.7235 - val_loss: 0.9525 - val_accuracy: 0.6005\n",
            "Epoch 39/200\n",
            "81/83 [============================>.] - ETA: 0s - loss: 0.6403 - accuracy: 0.7326\n",
            "Epoch 39: val_accuracy did not improve from 0.60762\n",
            "83/83 [==============================] - 1s 16ms/step - loss: 0.6395 - accuracy: 0.7322 - val_loss: 0.9299 - val_accuracy: 0.6050\n",
            "Epoch 40/200\n",
            "82/83 [============================>.] - ETA: 0s - loss: 0.6290 - accuracy: 0.7351\n",
            "Epoch 40: val_accuracy did not improve from 0.60762\n",
            "83/83 [==============================] - 1s 16ms/step - loss: 0.6288 - accuracy: 0.7357 - val_loss: 0.9731 - val_accuracy: 0.5996\n",
            "Epoch 41/200\n",
            "81/83 [============================>.] - ETA: 0s - loss: 0.6338 - accuracy: 0.7350\n",
            "Epoch 41: val_accuracy did not improve from 0.60762\n",
            "83/83 [==============================] - 1s 16ms/step - loss: 0.6323 - accuracy: 0.7353 - val_loss: 0.9776 - val_accuracy: 0.5988\n",
            "Epoch 42/200\n",
            "81/83 [============================>.] - ETA: 0s - loss: 0.6298 - accuracy: 0.7342\n",
            "Epoch 42: val_accuracy did not improve from 0.60762\n",
            "83/83 [==============================] - 1s 16ms/step - loss: 0.6320 - accuracy: 0.7338 - val_loss: 0.9699 - val_accuracy: 0.5934\n",
            "Epoch 43/200\n",
            "81/83 [============================>.] - ETA: 0s - loss: 0.6277 - accuracy: 0.7388\n",
            "Epoch 43: val_accuracy did not improve from 0.60762\n",
            "83/83 [==============================] - 1s 16ms/step - loss: 0.6266 - accuracy: 0.7395 - val_loss: 0.9788 - val_accuracy: 0.6014\n",
            "Epoch 44/200\n",
            "82/83 [============================>.] - ETA: 0s - loss: 0.6218 - accuracy: 0.7329\n",
            "Epoch 44: val_accuracy improved from 0.60762 to 0.61116, saving model to best_model1.hdf5\n",
            "83/83 [==============================] - 2s 28ms/step - loss: 0.6228 - accuracy: 0.7326 - val_loss: 0.9662 - val_accuracy: 0.6112\n",
            "Epoch 45/200\n",
            "81/83 [============================>.] - ETA: 0s - loss: 0.6253 - accuracy: 0.7303\n",
            "Epoch 45: val_accuracy did not improve from 0.61116\n",
            "83/83 [==============================] - 1s 16ms/step - loss: 0.6263 - accuracy: 0.7300 - val_loss: 0.9899 - val_accuracy: 0.6076\n",
            "Epoch 46/200\n",
            "81/83 [============================>.] - ETA: 0s - loss: 0.6191 - accuracy: 0.7384\n",
            "Epoch 46: val_accuracy did not improve from 0.61116\n",
            "83/83 [==============================] - 1s 16ms/step - loss: 0.6181 - accuracy: 0.7387 - val_loss: 1.0058 - val_accuracy: 0.6005\n",
            "Epoch 47/200\n",
            "81/83 [============================>.] - ETA: 0s - loss: 0.6183 - accuracy: 0.7357\n",
            "Epoch 47: val_accuracy did not improve from 0.61116\n",
            "83/83 [==============================] - 1s 16ms/step - loss: 0.6197 - accuracy: 0.7357 - val_loss: 0.9807 - val_accuracy: 0.5979\n",
            "Epoch 48/200\n",
            "81/83 [============================>.] - ETA: 0s - loss: 0.6335 - accuracy: 0.7338\n",
            "Epoch 48: val_accuracy did not improve from 0.61116\n",
            "83/83 [==============================] - 1s 16ms/step - loss: 0.6368 - accuracy: 0.7319 - val_loss: 0.9442 - val_accuracy: 0.6014\n",
            "Epoch 49/200\n",
            "82/83 [============================>.] - ETA: 0s - loss: 0.6268 - accuracy: 0.7382\n",
            "Epoch 49: val_accuracy did not improve from 0.61116\n",
            "83/83 [==============================] - 1s 16ms/step - loss: 0.6266 - accuracy: 0.7383 - val_loss: 0.9632 - val_accuracy: 0.6050\n",
            "Epoch 50/200\n",
            "83/83 [==============================] - ETA: 0s - loss: 0.6251 - accuracy: 0.7425\n",
            "Epoch 50: val_accuracy did not improve from 0.61116\n",
            "83/83 [==============================] - 1s 16ms/step - loss: 0.6251 - accuracy: 0.7425 - val_loss: 0.9561 - val_accuracy: 0.6050\n",
            "Epoch 51/200\n",
            "80/83 [===========================>..] - ETA: 0s - loss: 0.6216 - accuracy: 0.7336\n",
            "Epoch 51: val_accuracy did not improve from 0.61116\n",
            "83/83 [==============================] - 1s 17ms/step - loss: 0.6240 - accuracy: 0.7319 - val_loss: 0.9799 - val_accuracy: 0.6005\n",
            "Epoch 52/200\n",
            "81/83 [============================>.] - ETA: 0s - loss: 0.6186 - accuracy: 0.7346\n",
            "Epoch 52: val_accuracy did not improve from 0.61116\n",
            "83/83 [==============================] - 1s 16ms/step - loss: 0.6189 - accuracy: 0.7345 - val_loss: 0.9553 - val_accuracy: 0.6023\n",
            "Epoch 53/200\n",
            "83/83 [==============================] - ETA: 0s - loss: 0.6284 - accuracy: 0.7330\n",
            "Epoch 53: val_accuracy did not improve from 0.61116\n",
            "83/83 [==============================] - 1s 16ms/step - loss: 0.6284 - accuracy: 0.7330 - val_loss: 0.9508 - val_accuracy: 0.6005\n",
            "Epoch 54/200\n",
            "81/83 [============================>.] - ETA: 0s - loss: 0.6166 - accuracy: 0.7350\n",
            "Epoch 54: val_accuracy did not improve from 0.61116\n",
            "83/83 [==============================] - 1s 16ms/step - loss: 0.6158 - accuracy: 0.7353 - val_loss: 0.9786 - val_accuracy: 0.6067\n",
            "Epoch 55/200\n",
            "83/83 [==============================] - ETA: 0s - loss: 0.6068 - accuracy: 0.7345\n",
            "Epoch 55: val_accuracy did not improve from 0.61116\n",
            "83/83 [==============================] - 1s 16ms/step - loss: 0.6068 - accuracy: 0.7345 - val_loss: 0.9733 - val_accuracy: 0.5970\n",
            "Epoch 56/200\n",
            "81/83 [============================>.] - ETA: 0s - loss: 0.6103 - accuracy: 0.7461\n",
            "Epoch 56: val_accuracy did not improve from 0.61116\n",
            "83/83 [==============================] - 1s 16ms/step - loss: 0.6108 - accuracy: 0.7467 - val_loss: 0.9473 - val_accuracy: 0.6023\n",
            "Epoch 57/200\n",
            "81/83 [============================>.] - ETA: 0s - loss: 0.6107 - accuracy: 0.7461\n",
            "Epoch 57: val_accuracy did not improve from 0.61116\n",
            "83/83 [==============================] - 1s 16ms/step - loss: 0.6137 - accuracy: 0.7455 - val_loss: 0.9724 - val_accuracy: 0.6067\n",
            "Epoch 58/200\n",
            "81/83 [============================>.] - ETA: 0s - loss: 0.6097 - accuracy: 0.7357\n",
            "Epoch 58: val_accuracy did not improve from 0.61116\n",
            "83/83 [==============================] - 1s 16ms/step - loss: 0.6086 - accuracy: 0.7357 - val_loss: 0.9903 - val_accuracy: 0.6067\n",
            "Epoch 59/200\n",
            "80/83 [===========================>..] - ETA: 0s - loss: 0.6224 - accuracy: 0.7406\n",
            "Epoch 59: val_accuracy did not improve from 0.61116\n",
            "83/83 [==============================] - 1s 16ms/step - loss: 0.6192 - accuracy: 0.7414 - val_loss: 1.0000 - val_accuracy: 0.6103\n",
            "Epoch 60/200\n",
            "80/83 [===========================>..] - ETA: 0s - loss: 0.6145 - accuracy: 0.7457\n",
            "Epoch 60: val_accuracy did not improve from 0.61116\n",
            "83/83 [==============================] - 1s 16ms/step - loss: 0.6151 - accuracy: 0.7444 - val_loss: 0.9506 - val_accuracy: 0.6032\n",
            "Epoch 61/200\n",
            "80/83 [===========================>..] - ETA: 0s - loss: 0.6111 - accuracy: 0.7434\n",
            "Epoch 61: val_accuracy did not improve from 0.61116\n",
            "83/83 [==============================] - 1s 17ms/step - loss: 0.6084 - accuracy: 0.7452 - val_loss: 0.9810 - val_accuracy: 0.5961\n",
            "Epoch 62/200\n",
            "81/83 [============================>.] - ETA: 0s - loss: 0.6024 - accuracy: 0.7461\n",
            "Epoch 62: val_accuracy did not improve from 0.61116\n",
            "83/83 [==============================] - 1s 16ms/step - loss: 0.6025 - accuracy: 0.7455 - val_loss: 0.9930 - val_accuracy: 0.6023\n",
            "Epoch 63/200\n",
            "80/83 [===========================>..] - ETA: 0s - loss: 0.6125 - accuracy: 0.7402\n",
            "Epoch 63: val_accuracy did not improve from 0.61116\n",
            "83/83 [==============================] - 1s 16ms/step - loss: 0.6150 - accuracy: 0.7387 - val_loss: 0.9933 - val_accuracy: 0.5872\n",
            "Epoch 64/200\n",
            "81/83 [============================>.] - ETA: 0s - loss: 0.6019 - accuracy: 0.7492\n",
            "Epoch 64: val_accuracy did not improve from 0.61116\n",
            "83/83 [==============================] - 1s 16ms/step - loss: 0.6025 - accuracy: 0.7493 - val_loss: 1.0056 - val_accuracy: 0.6005\n",
            "Epoch 65/200\n",
            "80/83 [===========================>..] - ETA: 0s - loss: 0.5919 - accuracy: 0.7426\n",
            "Epoch 65: val_accuracy did not improve from 0.61116\n",
            "83/83 [==============================] - 1s 16ms/step - loss: 0.5929 - accuracy: 0.7436 - val_loss: 1.0131 - val_accuracy: 0.5908\n",
            "Epoch 66/200\n",
            "81/83 [============================>.] - ETA: 0s - loss: 0.5971 - accuracy: 0.7473\n",
            "Epoch 66: val_accuracy did not improve from 0.61116\n",
            "83/83 [==============================] - 1s 16ms/step - loss: 0.6013 - accuracy: 0.7448 - val_loss: 1.0210 - val_accuracy: 0.5952\n",
            "Epoch 67/200\n",
            "81/83 [============================>.] - ETA: 0s - loss: 0.6170 - accuracy: 0.7373\n",
            "Epoch 67: val_accuracy did not improve from 0.61116\n",
            "83/83 [==============================] - 1s 16ms/step - loss: 0.6182 - accuracy: 0.7360 - val_loss: 0.9958 - val_accuracy: 0.6058\n",
            "Epoch 68/200\n",
            "80/83 [===========================>..] - ETA: 0s - loss: 0.5999 - accuracy: 0.7367\n",
            "Epoch 68: val_accuracy did not improve from 0.61116\n",
            "83/83 [==============================] - 1s 16ms/step - loss: 0.6019 - accuracy: 0.7360 - val_loss: 0.9701 - val_accuracy: 0.5970\n",
            "Epoch 69/200\n",
            "80/83 [===========================>..] - ETA: 0s - loss: 0.6094 - accuracy: 0.7543\n",
            "Epoch 69: val_accuracy did not improve from 0.61116\n",
            "83/83 [==============================] - 1s 16ms/step - loss: 0.6076 - accuracy: 0.7547 - val_loss: 0.9778 - val_accuracy: 0.5979\n",
            "Epoch 70/200\n",
            "81/83 [============================>.] - ETA: 0s - loss: 0.5927 - accuracy: 0.7593\n",
            "Epoch 70: val_accuracy did not improve from 0.61116\n",
            "83/83 [==============================] - 1s 16ms/step - loss: 0.5931 - accuracy: 0.7600 - val_loss: 0.9831 - val_accuracy: 0.6050\n",
            "Epoch 71/200\n",
            "81/83 [============================>.] - ETA: 0s - loss: 0.6043 - accuracy: 0.7488\n",
            "Epoch 71: val_accuracy did not improve from 0.61116\n",
            "83/83 [==============================] - 1s 16ms/step - loss: 0.6079 - accuracy: 0.7474 - val_loss: 0.9879 - val_accuracy: 0.5970\n",
            "Epoch 72/200\n",
            "80/83 [===========================>..] - ETA: 0s - loss: 0.6120 - accuracy: 0.7465\n",
            "Epoch 72: val_accuracy did not improve from 0.61116\n",
            "83/83 [==============================] - 1s 16ms/step - loss: 0.6137 - accuracy: 0.7448 - val_loss: 0.9806 - val_accuracy: 0.5979\n",
            "Epoch 73/200\n",
            "81/83 [============================>.] - ETA: 0s - loss: 0.5881 - accuracy: 0.7631\n",
            "Epoch 73: val_accuracy did not improve from 0.61116\n",
            "83/83 [==============================] - 1s 17ms/step - loss: 0.5869 - accuracy: 0.7626 - val_loss: 0.9952 - val_accuracy: 0.5952\n",
            "Epoch 74/200\n",
            "81/83 [============================>.] - ETA: 0s - loss: 0.5899 - accuracy: 0.7531\n",
            "Epoch 74: val_accuracy did not improve from 0.61116\n",
            "83/83 [==============================] - 1s 16ms/step - loss: 0.5896 - accuracy: 0.7528 - val_loss: 0.9848 - val_accuracy: 0.6050\n",
            "Epoch 75/200\n",
            "81/83 [============================>.] - ETA: 0s - loss: 0.5859 - accuracy: 0.7554\n",
            "Epoch 75: val_accuracy did not improve from 0.61116\n",
            "83/83 [==============================] - 1s 16ms/step - loss: 0.5875 - accuracy: 0.7550 - val_loss: 1.0068 - val_accuracy: 0.5917\n",
            "Epoch 76/200\n",
            "82/83 [============================>.] - ETA: 0s - loss: 0.5890 - accuracy: 0.7542\n",
            "Epoch 76: val_accuracy did not improve from 0.61116\n",
            "83/83 [==============================] - 1s 16ms/step - loss: 0.5889 - accuracy: 0.7539 - val_loss: 1.0142 - val_accuracy: 0.5979\n",
            "Epoch 77/200\n",
            "83/83 [==============================] - ETA: 0s - loss: 0.5969 - accuracy: 0.7440\n",
            "Epoch 77: val_accuracy did not improve from 0.61116\n",
            "83/83 [==============================] - 1s 17ms/step - loss: 0.5969 - accuracy: 0.7440 - val_loss: 0.9831 - val_accuracy: 0.6058\n",
            "Epoch 78/200\n",
            "80/83 [===========================>..] - ETA: 0s - loss: 0.5981 - accuracy: 0.7457\n",
            "Epoch 78: val_accuracy did not improve from 0.61116\n",
            "83/83 [==============================] - 1s 16ms/step - loss: 0.5927 - accuracy: 0.7490 - val_loss: 1.0494 - val_accuracy: 0.6050\n",
            "Epoch 79/200\n",
            "81/83 [============================>.] - ETA: 0s - loss: 0.5918 - accuracy: 0.7508\n",
            "Epoch 79: val_accuracy did not improve from 0.61116\n",
            "83/83 [==============================] - 1s 16ms/step - loss: 0.5940 - accuracy: 0.7497 - val_loss: 0.9828 - val_accuracy: 0.6076\n",
            "Epoch 80/200\n",
            "81/83 [============================>.] - ETA: 0s - loss: 0.5901 - accuracy: 0.7550\n",
            "Epoch 80: val_accuracy improved from 0.61116 to 0.61205, saving model to best_model1.hdf5\n",
            "83/83 [==============================] - 2s 27ms/step - loss: 0.5913 - accuracy: 0.7531 - val_loss: 1.0046 - val_accuracy: 0.6120\n",
            "Epoch 81/200\n",
            "81/83 [============================>.] - ETA: 0s - loss: 0.5994 - accuracy: 0.7461\n",
            "Epoch 81: val_accuracy did not improve from 0.61205\n",
            "83/83 [==============================] - 1s 16ms/step - loss: 0.5989 - accuracy: 0.7455 - val_loss: 1.0164 - val_accuracy: 0.5961\n",
            "Epoch 82/200\n",
            "81/83 [============================>.] - ETA: 0s - loss: 0.5774 - accuracy: 0.7596\n",
            "Epoch 82: val_accuracy did not improve from 0.61205\n",
            "83/83 [==============================] - 1s 16ms/step - loss: 0.5783 - accuracy: 0.7585 - val_loss: 1.0165 - val_accuracy: 0.5881\n",
            "Epoch 83/200\n",
            "82/83 [============================>.] - ETA: 0s - loss: 0.5862 - accuracy: 0.7595\n",
            "Epoch 83: val_accuracy did not improve from 0.61205\n",
            "83/83 [==============================] - 1s 16ms/step - loss: 0.5852 - accuracy: 0.7603 - val_loss: 1.0236 - val_accuracy: 0.6032\n",
            "Epoch 84/200\n",
            "80/83 [===========================>..] - ETA: 0s - loss: 0.5760 - accuracy: 0.7594\n",
            "Epoch 84: val_accuracy did not improve from 0.61205\n",
            "83/83 [==============================] - 1s 16ms/step - loss: 0.5792 - accuracy: 0.7585 - val_loss: 1.0105 - val_accuracy: 0.5934\n",
            "Epoch 85/200\n",
            "81/83 [============================>.] - ETA: 0s - loss: 0.5851 - accuracy: 0.7539\n",
            "Epoch 85: val_accuracy did not improve from 0.61205\n",
            "83/83 [==============================] - 1s 16ms/step - loss: 0.5832 - accuracy: 0.7535 - val_loss: 1.0036 - val_accuracy: 0.5952\n",
            "Epoch 86/200\n",
            "81/83 [============================>.] - ETA: 0s - loss: 0.5896 - accuracy: 0.7458\n",
            "Epoch 86: val_accuracy did not improve from 0.61205\n",
            "83/83 [==============================] - 1s 16ms/step - loss: 0.5940 - accuracy: 0.7436 - val_loss: 0.9806 - val_accuracy: 0.5917\n",
            "Epoch 87/200\n",
            "82/83 [============================>.] - ETA: 0s - loss: 0.5882 - accuracy: 0.7515\n",
            "Epoch 87: val_accuracy did not improve from 0.61205\n",
            "83/83 [==============================] - 1s 16ms/step - loss: 0.5888 - accuracy: 0.7512 - val_loss: 1.0389 - val_accuracy: 0.5988\n",
            "Epoch 88/200\n",
            "81/83 [============================>.] - ETA: 0s - loss: 0.5702 - accuracy: 0.7593\n",
            "Epoch 88: val_accuracy did not improve from 0.61205\n",
            "83/83 [==============================] - 1s 16ms/step - loss: 0.5677 - accuracy: 0.7615 - val_loss: 1.0423 - val_accuracy: 0.5881\n",
            "Epoch 89/200\n",
            "80/83 [===========================>..] - ETA: 0s - loss: 0.5677 - accuracy: 0.7633\n",
            "Epoch 89: val_accuracy did not improve from 0.61205\n",
            "83/83 [==============================] - 1s 16ms/step - loss: 0.5684 - accuracy: 0.7622 - val_loss: 1.0312 - val_accuracy: 0.5926\n",
            "Epoch 90/200\n",
            "80/83 [===========================>..] - ETA: 0s - loss: 0.5737 - accuracy: 0.7594\n",
            "Epoch 90: val_accuracy did not improve from 0.61205\n",
            "83/83 [==============================] - 1s 16ms/step - loss: 0.5767 - accuracy: 0.7577 - val_loss: 1.0174 - val_accuracy: 0.5961\n",
            "Epoch 91/200\n",
            "81/83 [============================>.] - ETA: 0s - loss: 0.5667 - accuracy: 0.7674\n",
            "Epoch 91: val_accuracy did not improve from 0.61205\n",
            "83/83 [==============================] - 1s 16ms/step - loss: 0.5655 - accuracy: 0.7679 - val_loss: 1.0495 - val_accuracy: 0.5810\n",
            "Epoch 92/200\n",
            "80/83 [===========================>..] - ETA: 0s - loss: 0.5711 - accuracy: 0.7559\n",
            "Epoch 92: val_accuracy did not improve from 0.61205\n",
            "83/83 [==============================] - 1s 16ms/step - loss: 0.5695 - accuracy: 0.7562 - val_loss: 1.0234 - val_accuracy: 0.5970\n",
            "Epoch 93/200\n",
            "80/83 [===========================>..] - ETA: 0s - loss: 0.5845 - accuracy: 0.7563\n",
            "Epoch 93: val_accuracy did not improve from 0.61205\n",
            "83/83 [==============================] - 1s 16ms/step - loss: 0.5838 - accuracy: 0.7569 - val_loss: 0.9985 - val_accuracy: 0.5943\n",
            "Epoch 94/200\n",
            "80/83 [===========================>..] - ETA: 0s - loss: 0.5698 - accuracy: 0.7570\n",
            "Epoch 94: val_accuracy did not improve from 0.61205\n",
            "83/83 [==============================] - 1s 16ms/step - loss: 0.5715 - accuracy: 0.7569 - val_loss: 1.0332 - val_accuracy: 0.5899\n",
            "Epoch 95/200\n",
            "81/83 [============================>.] - ETA: 0s - loss: 0.5580 - accuracy: 0.7647\n",
            "Epoch 95: val_accuracy did not improve from 0.61205\n",
            "83/83 [==============================] - 1s 16ms/step - loss: 0.5593 - accuracy: 0.7638 - val_loss: 1.0318 - val_accuracy: 0.5952\n",
            "Epoch 96/200\n",
            "82/83 [============================>.] - ETA: 0s - loss: 0.5825 - accuracy: 0.7508\n",
            "Epoch 96: val_accuracy did not improve from 0.61205\n",
            "83/83 [==============================] - 1s 16ms/step - loss: 0.5833 - accuracy: 0.7497 - val_loss: 1.0272 - val_accuracy: 0.5952\n",
            "Epoch 97/200\n",
            "82/83 [============================>.] - ETA: 0s - loss: 0.5656 - accuracy: 0.7599\n",
            "Epoch 97: val_accuracy did not improve from 0.61205\n",
            "83/83 [==============================] - 1s 17ms/step - loss: 0.5662 - accuracy: 0.7596 - val_loss: 1.0660 - val_accuracy: 0.6023\n",
            "Epoch 98/200\n",
            "81/83 [============================>.] - ETA: 0s - loss: 0.5689 - accuracy: 0.7623\n",
            "Epoch 98: val_accuracy did not improve from 0.61205\n",
            "83/83 [==============================] - 1s 16ms/step - loss: 0.5674 - accuracy: 0.7634 - val_loss: 1.0419 - val_accuracy: 0.5943\n",
            "Epoch 99/200\n",
            "80/83 [===========================>..] - ETA: 0s - loss: 0.5641 - accuracy: 0.7652\n",
            "Epoch 99: val_accuracy did not improve from 0.61205\n",
            "83/83 [==============================] - 1s 16ms/step - loss: 0.5631 - accuracy: 0.7664 - val_loss: 1.0588 - val_accuracy: 0.5881\n",
            "Epoch 100/200\n",
            "82/83 [============================>.] - ETA: 0s - loss: 0.5706 - accuracy: 0.7565\n",
            "Epoch 100: val_accuracy did not improve from 0.61205\n",
            "83/83 [==============================] - 1s 16ms/step - loss: 0.5705 - accuracy: 0.7562 - val_loss: 1.0529 - val_accuracy: 0.5917\n",
            "Epoch 101/200\n",
            "81/83 [============================>.] - ETA: 0s - loss: 0.5593 - accuracy: 0.7720\n",
            "Epoch 101: val_accuracy did not improve from 0.61205\n",
            "83/83 [==============================] - 1s 16ms/step - loss: 0.5587 - accuracy: 0.7717 - val_loss: 1.0578 - val_accuracy: 0.6014\n",
            "Epoch 102/200\n",
            "81/83 [============================>.] - ETA: 0s - loss: 0.5589 - accuracy: 0.7643\n",
            "Epoch 102: val_accuracy did not improve from 0.61205\n",
            "83/83 [==============================] - 1s 16ms/step - loss: 0.5615 - accuracy: 0.7634 - val_loss: 1.0393 - val_accuracy: 0.5881\n",
            "Epoch 103/200\n",
            "83/83 [==============================] - ETA: 0s - loss: 0.5667 - accuracy: 0.7626\n",
            "Epoch 103: val_accuracy did not improve from 0.61205\n",
            "83/83 [==============================] - 1s 16ms/step - loss: 0.5667 - accuracy: 0.7626 - val_loss: 1.0167 - val_accuracy: 0.5917\n",
            "Epoch 104/200\n",
            "81/83 [============================>.] - ETA: 0s - loss: 0.5653 - accuracy: 0.7658\n",
            "Epoch 104: val_accuracy did not improve from 0.61205\n",
            "83/83 [==============================] - 1s 16ms/step - loss: 0.5634 - accuracy: 0.7676 - val_loss: 1.0220 - val_accuracy: 0.5970\n",
            "Epoch 105/200\n",
            "81/83 [============================>.] - ETA: 0s - loss: 0.5573 - accuracy: 0.7677\n",
            "Epoch 105: val_accuracy did not improve from 0.61205\n",
            "83/83 [==============================] - 1s 16ms/step - loss: 0.5595 - accuracy: 0.7664 - val_loss: 1.0352 - val_accuracy: 0.5890\n",
            "Epoch 106/200\n",
            "81/83 [============================>.] - ETA: 0s - loss: 0.5685 - accuracy: 0.7608\n",
            "Epoch 106: val_accuracy did not improve from 0.61205\n",
            "83/83 [==============================] - 1s 16ms/step - loss: 0.5697 - accuracy: 0.7611 - val_loss: 1.0231 - val_accuracy: 0.5846\n",
            "Epoch 107/200\n",
            "81/83 [============================>.] - ETA: 0s - loss: 0.5466 - accuracy: 0.7751\n",
            "Epoch 107: val_accuracy did not improve from 0.61205\n",
            "83/83 [==============================] - 1s 16ms/step - loss: 0.5453 - accuracy: 0.7759 - val_loss: 1.0750 - val_accuracy: 0.5837\n",
            "Epoch 108/200\n",
            "80/83 [===========================>..] - ETA: 0s - loss: 0.5475 - accuracy: 0.7789\n",
            "Epoch 108: val_accuracy did not improve from 0.61205\n",
            "83/83 [==============================] - 1s 16ms/step - loss: 0.5447 - accuracy: 0.7793 - val_loss: 1.0967 - val_accuracy: 0.5899\n",
            "Epoch 109/200\n",
            "81/83 [============================>.] - ETA: 0s - loss: 0.5485 - accuracy: 0.7778\n",
            "Epoch 109: val_accuracy did not improve from 0.61205\n",
            "83/83 [==============================] - 1s 16ms/step - loss: 0.5472 - accuracy: 0.7778 - val_loss: 1.0816 - val_accuracy: 0.5926\n",
            "Epoch 110/200\n",
            "80/83 [===========================>..] - ETA: 0s - loss: 0.5451 - accuracy: 0.7652\n",
            "Epoch 110: val_accuracy did not improve from 0.61205\n",
            "83/83 [==============================] - 1s 16ms/step - loss: 0.5444 - accuracy: 0.7653 - val_loss: 1.0723 - val_accuracy: 0.5934\n",
            "Epoch 111/200\n",
            "81/83 [============================>.] - ETA: 0s - loss: 0.5513 - accuracy: 0.7685\n",
            "Epoch 111: val_accuracy did not improve from 0.61205\n",
            "83/83 [==============================] - 1s 16ms/step - loss: 0.5511 - accuracy: 0.7679 - val_loss: 1.0611 - val_accuracy: 0.5881\n",
            "Epoch 112/200\n",
            "81/83 [============================>.] - ETA: 0s - loss: 0.5413 - accuracy: 0.7720\n",
            "Epoch 112: val_accuracy did not improve from 0.61205\n",
            "83/83 [==============================] - 1s 16ms/step - loss: 0.5383 - accuracy: 0.7744 - val_loss: 1.1086 - val_accuracy: 0.5943\n",
            "Epoch 113/200\n",
            "81/83 [============================>.] - ETA: 0s - loss: 0.5636 - accuracy: 0.7596\n",
            "Epoch 113: val_accuracy did not improve from 0.61205\n",
            "83/83 [==============================] - 1s 16ms/step - loss: 0.5633 - accuracy: 0.7588 - val_loss: 1.0325 - val_accuracy: 0.6032\n",
            "Epoch 114/200\n",
            "81/83 [============================>.] - ETA: 0s - loss: 0.5467 - accuracy: 0.7789\n",
            "Epoch 114: val_accuracy did not improve from 0.61205\n",
            "83/83 [==============================] - 1s 16ms/step - loss: 0.5510 - accuracy: 0.7755 - val_loss: 1.0664 - val_accuracy: 0.5996\n",
            "Epoch 115/200\n",
            "81/83 [============================>.] - ETA: 0s - loss: 0.5621 - accuracy: 0.7662\n",
            "Epoch 115: val_accuracy did not improve from 0.61205\n",
            "83/83 [==============================] - 1s 16ms/step - loss: 0.5610 - accuracy: 0.7660 - val_loss: 1.0571 - val_accuracy: 0.5979\n",
            "Epoch 116/200\n",
            "81/83 [============================>.] - ETA: 0s - loss: 0.5346 - accuracy: 0.7758\n",
            "Epoch 116: val_accuracy did not improve from 0.61205\n",
            "83/83 [==============================] - 1s 16ms/step - loss: 0.5377 - accuracy: 0.7748 - val_loss: 1.0393 - val_accuracy: 0.5961\n",
            "Epoch 117/200\n",
            "81/83 [============================>.] - ETA: 0s - loss: 0.5300 - accuracy: 0.7843\n",
            "Epoch 117: val_accuracy did not improve from 0.61205\n",
            "83/83 [==============================] - 1s 16ms/step - loss: 0.5356 - accuracy: 0.7820 - val_loss: 1.0679 - val_accuracy: 0.5988\n",
            "Epoch 118/200\n",
            "81/83 [============================>.] - ETA: 0s - loss: 0.5628 - accuracy: 0.7566\n",
            "Epoch 118: val_accuracy did not improve from 0.61205\n",
            "83/83 [==============================] - 1s 16ms/step - loss: 0.5642 - accuracy: 0.7554 - val_loss: 1.0804 - val_accuracy: 0.5899\n",
            "Epoch 119/200\n",
            "81/83 [============================>.] - ETA: 0s - loss: 0.5344 - accuracy: 0.7758\n",
            "Epoch 119: val_accuracy did not improve from 0.61205\n",
            "83/83 [==============================] - 1s 16ms/step - loss: 0.5358 - accuracy: 0.7744 - val_loss: 1.0915 - val_accuracy: 0.5934\n",
            "Epoch 120/200\n",
            "81/83 [============================>.] - ETA: 0s - loss: 0.5434 - accuracy: 0.7716\n",
            "Epoch 120: val_accuracy did not improve from 0.61205\n",
            "83/83 [==============================] - 1s 16ms/step - loss: 0.5419 - accuracy: 0.7740 - val_loss: 1.0967 - val_accuracy: 0.5890\n",
            "Epoch 121/200\n",
            "81/83 [============================>.] - ETA: 0s - loss: 0.5408 - accuracy: 0.7809\n",
            "Epoch 121: val_accuracy did not improve from 0.61205\n",
            "83/83 [==============================] - 1s 16ms/step - loss: 0.5400 - accuracy: 0.7816 - val_loss: 1.0859 - val_accuracy: 0.5881\n",
            "Epoch 122/200\n",
            "80/83 [===========================>..] - ETA: 0s - loss: 0.5471 - accuracy: 0.7777\n",
            "Epoch 122: val_accuracy did not improve from 0.61205\n",
            "83/83 [==============================] - 1s 17ms/step - loss: 0.5453 - accuracy: 0.7786 - val_loss: 1.0983 - val_accuracy: 0.5881\n",
            "Epoch 123/200\n",
            "83/83 [==============================] - ETA: 0s - loss: 0.5315 - accuracy: 0.7858\n",
            "Epoch 123: val_accuracy did not improve from 0.61205\n",
            "83/83 [==============================] - 1s 16ms/step - loss: 0.5315 - accuracy: 0.7858 - val_loss: 1.0925 - val_accuracy: 0.5864\n",
            "Epoch 124/200\n",
            "81/83 [============================>.] - ETA: 0s - loss: 0.5279 - accuracy: 0.7897\n",
            "Epoch 124: val_accuracy did not improve from 0.61205\n",
            "83/83 [==============================] - 1s 16ms/step - loss: 0.5289 - accuracy: 0.7896 - val_loss: 1.1154 - val_accuracy: 0.5934\n",
            "Epoch 125/200\n",
            "81/83 [============================>.] - ETA: 0s - loss: 0.5272 - accuracy: 0.7828\n",
            "Epoch 125: val_accuracy did not improve from 0.61205\n",
            "83/83 [==============================] - 1s 16ms/step - loss: 0.5290 - accuracy: 0.7816 - val_loss: 1.1030 - val_accuracy: 0.5881\n",
            "Epoch 126/200\n",
            "82/83 [============================>.] - ETA: 0s - loss: 0.5301 - accuracy: 0.7835\n",
            "Epoch 126: val_accuracy did not improve from 0.61205\n",
            "83/83 [==============================] - 1s 17ms/step - loss: 0.5300 - accuracy: 0.7839 - val_loss: 1.1288 - val_accuracy: 0.5908\n",
            "Epoch 127/200\n",
            "81/83 [============================>.] - ETA: 0s - loss: 0.5304 - accuracy: 0.7917\n",
            "Epoch 127: val_accuracy did not improve from 0.61205\n",
            "83/83 [==============================] - 1s 16ms/step - loss: 0.5332 - accuracy: 0.7900 - val_loss: 1.0950 - val_accuracy: 0.5837\n",
            "Epoch 128/200\n",
            "81/83 [============================>.] - ETA: 0s - loss: 0.5336 - accuracy: 0.7870\n",
            "Epoch 128: val_accuracy did not improve from 0.61205\n",
            "83/83 [==============================] - 1s 16ms/step - loss: 0.5319 - accuracy: 0.7873 - val_loss: 1.1008 - val_accuracy: 0.5872\n",
            "Epoch 129/200\n",
            "81/83 [============================>.] - ETA: 0s - loss: 0.5188 - accuracy: 0.7870\n",
            "Epoch 129: val_accuracy did not improve from 0.61205\n",
            "83/83 [==============================] - 1s 16ms/step - loss: 0.5206 - accuracy: 0.7869 - val_loss: 1.0988 - val_accuracy: 0.5855\n",
            "Epoch 130/200\n",
            "81/83 [============================>.] - ETA: 0s - loss: 0.5395 - accuracy: 0.7716\n",
            "Epoch 130: val_accuracy did not improve from 0.61205\n",
            "83/83 [==============================] - 1s 16ms/step - loss: 0.5373 - accuracy: 0.7717 - val_loss: 1.0963 - val_accuracy: 0.5819\n",
            "Epoch 131/200\n",
            "82/83 [============================>.] - ETA: 0s - loss: 0.5483 - accuracy: 0.7759\n",
            "Epoch 131: val_accuracy did not improve from 0.61205\n",
            "83/83 [==============================] - 1s 16ms/step - loss: 0.5485 - accuracy: 0.7755 - val_loss: 1.0894 - val_accuracy: 0.5908\n",
            "Epoch 132/200\n",
            "82/83 [============================>.] - ETA: 0s - loss: 0.5316 - accuracy: 0.7752\n",
            "Epoch 132: val_accuracy did not improve from 0.61205\n",
            "83/83 [==============================] - 1s 16ms/step - loss: 0.5309 - accuracy: 0.7755 - val_loss: 1.0960 - val_accuracy: 0.5881\n",
            "Epoch 133/200\n",
            "80/83 [===========================>..] - ETA: 0s - loss: 0.5272 - accuracy: 0.7785\n",
            "Epoch 133: val_accuracy did not improve from 0.61205\n",
            "83/83 [==============================] - 1s 16ms/step - loss: 0.5283 - accuracy: 0.7790 - val_loss: 1.1136 - val_accuracy: 0.5926\n",
            "Epoch 134/200\n",
            "80/83 [===========================>..] - ETA: 0s - loss: 0.5243 - accuracy: 0.7805\n",
            "Epoch 134: val_accuracy did not improve from 0.61205\n",
            "83/83 [==============================] - 1s 17ms/step - loss: 0.5251 - accuracy: 0.7797 - val_loss: 1.0810 - val_accuracy: 0.5943\n",
            "Epoch 135/200\n",
            "81/83 [============================>.] - ETA: 0s - loss: 0.5206 - accuracy: 0.7855\n",
            "Epoch 135: val_accuracy did not improve from 0.61205\n",
            "83/83 [==============================] - 1s 16ms/step - loss: 0.5207 - accuracy: 0.7850 - val_loss: 1.1146 - val_accuracy: 0.5810\n",
            "Epoch 136/200\n",
            "82/83 [============================>.] - ETA: 0s - loss: 0.5243 - accuracy: 0.7832\n",
            "Epoch 136: val_accuracy did not improve from 0.61205\n",
            "83/83 [==============================] - 1s 16ms/step - loss: 0.5237 - accuracy: 0.7835 - val_loss: 1.1347 - val_accuracy: 0.5837\n",
            "Epoch 137/200\n",
            "81/83 [============================>.] - ETA: 0s - loss: 0.5325 - accuracy: 0.7824\n",
            "Epoch 137: val_accuracy did not improve from 0.61205\n",
            "83/83 [==============================] - 1s 16ms/step - loss: 0.5308 - accuracy: 0.7839 - val_loss: 1.0774 - val_accuracy: 0.5917\n",
            "Epoch 138/200\n",
            "81/83 [============================>.] - ETA: 0s - loss: 0.5188 - accuracy: 0.7816\n",
            "Epoch 138: val_accuracy did not improve from 0.61205\n",
            "83/83 [==============================] - 1s 17ms/step - loss: 0.5202 - accuracy: 0.7809 - val_loss: 1.0942 - val_accuracy: 0.5890\n",
            "Epoch 139/200\n",
            "81/83 [============================>.] - ETA: 0s - loss: 0.5207 - accuracy: 0.7878\n",
            "Epoch 139: val_accuracy did not improve from 0.61205\n",
            "83/83 [==============================] - 1s 16ms/step - loss: 0.5213 - accuracy: 0.7877 - val_loss: 1.1120 - val_accuracy: 0.5864\n",
            "Epoch 140/200\n",
            "80/83 [===========================>..] - ETA: 0s - loss: 0.5348 - accuracy: 0.7746\n",
            "Epoch 140: val_accuracy did not improve from 0.61205\n",
            "83/83 [==============================] - 1s 16ms/step - loss: 0.5352 - accuracy: 0.7752 - val_loss: 1.0978 - val_accuracy: 0.5908\n",
            "Epoch 141/200\n",
            "81/83 [============================>.] - ETA: 0s - loss: 0.5196 - accuracy: 0.7855\n",
            "Epoch 141: val_accuracy did not improve from 0.61205\n",
            "83/83 [==============================] - 1s 16ms/step - loss: 0.5199 - accuracy: 0.7862 - val_loss: 1.1056 - val_accuracy: 0.5917\n",
            "Epoch 142/200\n",
            "80/83 [===========================>..] - ETA: 0s - loss: 0.4989 - accuracy: 0.7867\n",
            "Epoch 142: val_accuracy did not improve from 0.61205\n",
            "83/83 [==============================] - 1s 17ms/step - loss: 0.4989 - accuracy: 0.7873 - val_loss: 1.1367 - val_accuracy: 0.5908\n",
            "Epoch 143/200\n",
            "83/83 [==============================] - ETA: 0s - loss: 0.5228 - accuracy: 0.7877\n",
            "Epoch 143: val_accuracy did not improve from 0.61205\n",
            "83/83 [==============================] - 1s 17ms/step - loss: 0.5228 - accuracy: 0.7877 - val_loss: 1.1232 - val_accuracy: 0.5934\n",
            "Epoch 144/200\n",
            "80/83 [===========================>..] - ETA: 0s - loss: 0.5070 - accuracy: 0.7863\n",
            "Epoch 144: val_accuracy did not improve from 0.61205\n",
            "83/83 [==============================] - 1s 17ms/step - loss: 0.5095 - accuracy: 0.7850 - val_loss: 1.1643 - val_accuracy: 0.5899\n",
            "Epoch 145/200\n",
            "81/83 [============================>.] - ETA: 0s - loss: 0.5154 - accuracy: 0.7812\n",
            "Epoch 145: val_accuracy did not improve from 0.61205\n",
            "83/83 [==============================] - 1s 16ms/step - loss: 0.5151 - accuracy: 0.7820 - val_loss: 1.1366 - val_accuracy: 0.5899\n",
            "Epoch 146/200\n",
            "81/83 [============================>.] - ETA: 0s - loss: 0.5124 - accuracy: 0.7890\n",
            "Epoch 146: val_accuracy did not improve from 0.61205\n",
            "83/83 [==============================] - 1s 16ms/step - loss: 0.5105 - accuracy: 0.7904 - val_loss: 1.1633 - val_accuracy: 0.5979\n",
            "Epoch 147/200\n",
            "82/83 [============================>.] - ETA: 0s - loss: 0.5214 - accuracy: 0.7847\n",
            "Epoch 147: val_accuracy did not improve from 0.61205\n",
            "83/83 [==============================] - 1s 16ms/step - loss: 0.5202 - accuracy: 0.7854 - val_loss: 1.1192 - val_accuracy: 0.5837\n",
            "Epoch 148/200\n",
            "80/83 [===========================>..] - ETA: 0s - loss: 0.5055 - accuracy: 0.7941\n",
            "Epoch 148: val_accuracy did not improve from 0.61205\n",
            "83/83 [==============================] - 1s 17ms/step - loss: 0.5022 - accuracy: 0.7961 - val_loss: 1.1555 - val_accuracy: 0.5855\n",
            "Epoch 149/200\n",
            "80/83 [===========================>..] - ETA: 0s - loss: 0.4972 - accuracy: 0.7910\n",
            "Epoch 149: val_accuracy did not improve from 0.61205\n",
            "83/83 [==============================] - 1s 17ms/step - loss: 0.4996 - accuracy: 0.7900 - val_loss: 1.1602 - val_accuracy: 0.5864\n",
            "Epoch 150/200\n",
            "81/83 [============================>.] - ETA: 0s - loss: 0.4986 - accuracy: 0.7971\n",
            "Epoch 150: val_accuracy did not improve from 0.61205\n",
            "83/83 [==============================] - 1s 16ms/step - loss: 0.4981 - accuracy: 0.7976 - val_loss: 1.1766 - val_accuracy: 0.5899\n",
            "Epoch 151/200\n",
            "80/83 [===========================>..] - ETA: 0s - loss: 0.5160 - accuracy: 0.7867\n",
            "Epoch 151: val_accuracy did not improve from 0.61205\n",
            "83/83 [==============================] - 1s 16ms/step - loss: 0.5146 - accuracy: 0.7869 - val_loss: 1.1883 - val_accuracy: 0.5890\n",
            "Epoch 152/200\n",
            "81/83 [============================>.] - ETA: 0s - loss: 0.5042 - accuracy: 0.7928\n",
            "Epoch 152: val_accuracy did not improve from 0.61205\n",
            "83/83 [==============================] - 1s 16ms/step - loss: 0.5043 - accuracy: 0.7930 - val_loss: 1.1755 - val_accuracy: 0.5837\n",
            "Epoch 153/200\n",
            "81/83 [============================>.] - ETA: 0s - loss: 0.5051 - accuracy: 0.7928\n",
            "Epoch 153: val_accuracy did not improve from 0.61205\n",
            "83/83 [==============================] - 1s 16ms/step - loss: 0.5046 - accuracy: 0.7926 - val_loss: 1.1414 - val_accuracy: 0.5864\n",
            "Epoch 154/200\n",
            "80/83 [===========================>..] - ETA: 0s - loss: 0.5106 - accuracy: 0.7949\n",
            "Epoch 154: val_accuracy did not improve from 0.61205\n",
            "83/83 [==============================] - 1s 17ms/step - loss: 0.5101 - accuracy: 0.7930 - val_loss: 1.1298 - val_accuracy: 0.5890\n",
            "Epoch 155/200\n",
            "83/83 [==============================] - ETA: 0s - loss: 0.5022 - accuracy: 0.8014\n",
            "Epoch 155: val_accuracy did not improve from 0.61205\n",
            "83/83 [==============================] - 1s 17ms/step - loss: 0.5022 - accuracy: 0.8014 - val_loss: 1.1705 - val_accuracy: 0.5943\n",
            "Epoch 156/200\n",
            "82/83 [============================>.] - ETA: 0s - loss: 0.4935 - accuracy: 0.7934\n",
            "Epoch 156: val_accuracy did not improve from 0.61205\n",
            "83/83 [==============================] - 1s 16ms/step - loss: 0.4941 - accuracy: 0.7930 - val_loss: 1.1549 - val_accuracy: 0.5881\n",
            "Epoch 157/200\n",
            "81/83 [============================>.] - ETA: 0s - loss: 0.5084 - accuracy: 0.7924\n",
            "Epoch 157: val_accuracy did not improve from 0.61205\n",
            "83/83 [==============================] - 1s 17ms/step - loss: 0.5104 - accuracy: 0.7911 - val_loss: 1.1365 - val_accuracy: 0.5952\n",
            "Epoch 158/200\n",
            "83/83 [==============================] - ETA: 0s - loss: 0.4929 - accuracy: 0.7953\n",
            "Epoch 158: val_accuracy did not improve from 0.61205\n",
            "83/83 [==============================] - 2s 18ms/step - loss: 0.4929 - accuracy: 0.7953 - val_loss: 1.1636 - val_accuracy: 0.5908\n",
            "Epoch 159/200\n",
            "80/83 [===========================>..] - ETA: 0s - loss: 0.5181 - accuracy: 0.7832\n",
            "Epoch 159: val_accuracy did not improve from 0.61205\n",
            "83/83 [==============================] - 1s 17ms/step - loss: 0.5184 - accuracy: 0.7843 - val_loss: 1.1221 - val_accuracy: 0.5881\n",
            "Epoch 160/200\n",
            "80/83 [===========================>..] - ETA: 0s - loss: 0.4862 - accuracy: 0.7984\n",
            "Epoch 160: val_accuracy did not improve from 0.61205\n",
            "83/83 [==============================] - 1s 16ms/step - loss: 0.4868 - accuracy: 0.7979 - val_loss: 1.1700 - val_accuracy: 0.5908\n",
            "Epoch 161/200\n",
            "83/83 [==============================] - ETA: 0s - loss: 0.4903 - accuracy: 0.7968\n",
            "Epoch 161: val_accuracy did not improve from 0.61205\n",
            "83/83 [==============================] - 1s 16ms/step - loss: 0.4903 - accuracy: 0.7968 - val_loss: 1.1964 - val_accuracy: 0.5899\n",
            "Epoch 162/200\n",
            "83/83 [==============================] - ETA: 0s - loss: 0.4826 - accuracy: 0.8033\n",
            "Epoch 162: val_accuracy did not improve from 0.61205\n",
            "83/83 [==============================] - 1s 16ms/step - loss: 0.4826 - accuracy: 0.8033 - val_loss: 1.1649 - val_accuracy: 0.5837\n",
            "Epoch 163/200\n",
            "80/83 [===========================>..] - ETA: 0s - loss: 0.4893 - accuracy: 0.7965\n",
            "Epoch 163: val_accuracy did not improve from 0.61205\n",
            "83/83 [==============================] - 1s 16ms/step - loss: 0.4912 - accuracy: 0.7964 - val_loss: 1.1797 - val_accuracy: 0.5810\n",
            "Epoch 164/200\n",
            "81/83 [============================>.] - ETA: 0s - loss: 0.4817 - accuracy: 0.8067\n",
            "Epoch 164: val_accuracy did not improve from 0.61205\n",
            "83/83 [==============================] - 1s 16ms/step - loss: 0.4812 - accuracy: 0.8063 - val_loss: 1.1862 - val_accuracy: 0.5917\n",
            "Epoch 165/200\n",
            "80/83 [===========================>..] - ETA: 0s - loss: 0.4845 - accuracy: 0.8012\n",
            "Epoch 165: val_accuracy did not improve from 0.61205\n",
            "83/83 [==============================] - 1s 16ms/step - loss: 0.4849 - accuracy: 0.8010 - val_loss: 1.1883 - val_accuracy: 0.5917\n",
            "Epoch 166/200\n",
            "83/83 [==============================] - ETA: 0s - loss: 0.4870 - accuracy: 0.7991\n",
            "Epoch 166: val_accuracy did not improve from 0.61205\n",
            "83/83 [==============================] - 1s 17ms/step - loss: 0.4870 - accuracy: 0.7991 - val_loss: 1.1691 - val_accuracy: 0.5908\n",
            "Epoch 167/200\n",
            "80/83 [===========================>..] - ETA: 0s - loss: 0.4978 - accuracy: 0.7859\n",
            "Epoch 167: val_accuracy did not improve from 0.61205\n",
            "83/83 [==============================] - 1s 18ms/step - loss: 0.4988 - accuracy: 0.7850 - val_loss: 1.1799 - val_accuracy: 0.5952\n",
            "Epoch 168/200\n",
            "81/83 [============================>.] - ETA: 0s - loss: 0.4902 - accuracy: 0.8056\n",
            "Epoch 168: val_accuracy did not improve from 0.61205\n",
            "83/83 [==============================] - 1s 16ms/step - loss: 0.4885 - accuracy: 0.8052 - val_loss: 1.1605 - val_accuracy: 0.5917\n",
            "Epoch 169/200\n",
            "81/83 [============================>.] - ETA: 0s - loss: 0.4885 - accuracy: 0.7994\n",
            "Epoch 169: val_accuracy did not improve from 0.61205\n",
            "83/83 [==============================] - 1s 16ms/step - loss: 0.4886 - accuracy: 0.8002 - val_loss: 1.1765 - val_accuracy: 0.5899\n",
            "Epoch 170/200\n",
            "80/83 [===========================>..] - ETA: 0s - loss: 0.4836 - accuracy: 0.8109\n",
            "Epoch 170: val_accuracy did not improve from 0.61205\n",
            "83/83 [==============================] - 1s 17ms/step - loss: 0.4846 - accuracy: 0.8090 - val_loss: 1.1723 - val_accuracy: 0.5855\n",
            "Epoch 171/200\n",
            "80/83 [===========================>..] - ETA: 0s - loss: 0.4824 - accuracy: 0.7984\n",
            "Epoch 171: val_accuracy did not improve from 0.61205\n",
            "83/83 [==============================] - 1s 16ms/step - loss: 0.4818 - accuracy: 0.8006 - val_loss: 1.1658 - val_accuracy: 0.5908\n",
            "Epoch 172/200\n",
            "80/83 [===========================>..] - ETA: 0s - loss: 0.4795 - accuracy: 0.8031\n",
            "Epoch 172: val_accuracy did not improve from 0.61205\n",
            "83/83 [==============================] - 1s 16ms/step - loss: 0.4814 - accuracy: 0.8021 - val_loss: 1.1757 - val_accuracy: 0.5917\n",
            "Epoch 173/200\n",
            "81/83 [============================>.] - ETA: 0s - loss: 0.4942 - accuracy: 0.8017\n",
            "Epoch 173: val_accuracy did not improve from 0.61205\n",
            "83/83 [==============================] - 1s 16ms/step - loss: 0.4937 - accuracy: 0.8017 - val_loss: 1.1492 - val_accuracy: 0.5934\n",
            "Epoch 174/200\n",
            "82/83 [============================>.] - ETA: 0s - loss: 0.4919 - accuracy: 0.7988\n",
            "Epoch 174: val_accuracy did not improve from 0.61205\n",
            "83/83 [==============================] - 1s 16ms/step - loss: 0.4923 - accuracy: 0.7983 - val_loss: 1.1556 - val_accuracy: 0.5908\n",
            "Epoch 175/200\n",
            "80/83 [===========================>..] - ETA: 0s - loss: 0.4645 - accuracy: 0.8152\n",
            "Epoch 175: val_accuracy did not improve from 0.61205\n",
            "83/83 [==============================] - 1s 16ms/step - loss: 0.4638 - accuracy: 0.8154 - val_loss: 1.1793 - val_accuracy: 0.5881\n",
            "Epoch 176/200\n",
            "82/83 [============================>.] - ETA: 0s - loss: 0.4695 - accuracy: 0.8022\n",
            "Epoch 176: val_accuracy did not improve from 0.61205\n",
            "83/83 [==============================] - 1s 16ms/step - loss: 0.4700 - accuracy: 0.8021 - val_loss: 1.2131 - val_accuracy: 0.5819\n",
            "Epoch 177/200\n",
            "81/83 [============================>.] - ETA: 0s - loss: 0.4780 - accuracy: 0.8106\n",
            "Epoch 177: val_accuracy did not improve from 0.61205\n",
            "83/83 [==============================] - 1s 17ms/step - loss: 0.4756 - accuracy: 0.8116 - val_loss: 1.2094 - val_accuracy: 0.5846\n",
            "Epoch 178/200\n",
            "81/83 [============================>.] - ETA: 0s - loss: 0.4926 - accuracy: 0.7948\n",
            "Epoch 178: val_accuracy did not improve from 0.61205\n",
            "83/83 [==============================] - 1s 16ms/step - loss: 0.4907 - accuracy: 0.7972 - val_loss: 1.1903 - val_accuracy: 0.5881\n",
            "Epoch 179/200\n",
            "81/83 [============================>.] - ETA: 0s - loss: 0.4608 - accuracy: 0.8063\n",
            "Epoch 179: val_accuracy did not improve from 0.61205\n",
            "83/83 [==============================] - 1s 16ms/step - loss: 0.4639 - accuracy: 0.8048 - val_loss: 1.1991 - val_accuracy: 0.5881\n",
            "Epoch 180/200\n",
            "81/83 [============================>.] - ETA: 0s - loss: 0.4848 - accuracy: 0.8110\n",
            "Epoch 180: val_accuracy did not improve from 0.61205\n",
            "83/83 [==============================] - 1s 17ms/step - loss: 0.4862 - accuracy: 0.8105 - val_loss: 1.1909 - val_accuracy: 0.5837\n",
            "Epoch 181/200\n",
            "81/83 [============================>.] - ETA: 0s - loss: 0.4726 - accuracy: 0.8059\n",
            "Epoch 181: val_accuracy did not improve from 0.61205\n",
            "83/83 [==============================] - 1s 16ms/step - loss: 0.4724 - accuracy: 0.8059 - val_loss: 1.1957 - val_accuracy: 0.5872\n",
            "Epoch 182/200\n",
            "80/83 [===========================>..] - ETA: 0s - loss: 0.4737 - accuracy: 0.8016\n",
            "Epoch 182: val_accuracy did not improve from 0.61205\n",
            "83/83 [==============================] - 1s 17ms/step - loss: 0.4695 - accuracy: 0.8044 - val_loss: 1.2070 - val_accuracy: 0.5864\n",
            "Epoch 183/200\n",
            "80/83 [===========================>..] - ETA: 0s - loss: 0.4768 - accuracy: 0.8031\n",
            "Epoch 183: val_accuracy did not improve from 0.61205\n",
            "83/83 [==============================] - 1s 17ms/step - loss: 0.4757 - accuracy: 0.8040 - val_loss: 1.1817 - val_accuracy: 0.6023\n",
            "Epoch 184/200\n",
            "81/83 [============================>.] - ETA: 0s - loss: 0.4670 - accuracy: 0.8048\n",
            "Epoch 184: val_accuracy did not improve from 0.61205\n",
            "83/83 [==============================] - 1s 16ms/step - loss: 0.4674 - accuracy: 0.8040 - val_loss: 1.2318 - val_accuracy: 0.5899\n",
            "Epoch 185/200\n",
            "80/83 [===========================>..] - ETA: 0s - loss: 0.4816 - accuracy: 0.8066\n",
            "Epoch 185: val_accuracy did not improve from 0.61205\n",
            "83/83 [==============================] - 1s 16ms/step - loss: 0.4802 - accuracy: 0.8067 - val_loss: 1.1880 - val_accuracy: 0.5828\n",
            "Epoch 186/200\n",
            "83/83 [==============================] - ETA: 0s - loss: 0.4688 - accuracy: 0.8097\n",
            "Epoch 186: val_accuracy did not improve from 0.61205\n",
            "83/83 [==============================] - 1s 17ms/step - loss: 0.4688 - accuracy: 0.8097 - val_loss: 1.2010 - val_accuracy: 0.5917\n",
            "Epoch 187/200\n",
            "81/83 [============================>.] - ETA: 0s - loss: 0.4583 - accuracy: 0.8079\n",
            "Epoch 187: val_accuracy did not improve from 0.61205\n",
            "83/83 [==============================] - 1s 16ms/step - loss: 0.4573 - accuracy: 0.8090 - val_loss: 1.2139 - val_accuracy: 0.5810\n",
            "Epoch 188/200\n",
            "83/83 [==============================] - ETA: 0s - loss: 0.4638 - accuracy: 0.8109\n",
            "Epoch 188: val_accuracy did not improve from 0.61205\n",
            "83/83 [==============================] - 1s 17ms/step - loss: 0.4638 - accuracy: 0.8109 - val_loss: 1.2328 - val_accuracy: 0.5837\n",
            "Epoch 189/200\n",
            "81/83 [============================>.] - ETA: 0s - loss: 0.4607 - accuracy: 0.8125\n",
            "Epoch 189: val_accuracy did not improve from 0.61205\n",
            "83/83 [==============================] - 1s 16ms/step - loss: 0.4574 - accuracy: 0.8147 - val_loss: 1.2649 - val_accuracy: 0.5864\n",
            "Epoch 190/200\n",
            "80/83 [===========================>..] - ETA: 0s - loss: 0.4769 - accuracy: 0.8016\n",
            "Epoch 190: val_accuracy did not improve from 0.61205\n",
            "83/83 [==============================] - 1s 16ms/step - loss: 0.4775 - accuracy: 0.8025 - val_loss: 1.2027 - val_accuracy: 0.5934\n",
            "Epoch 191/200\n",
            "83/83 [==============================] - ETA: 0s - loss: 0.4802 - accuracy: 0.8044\n",
            "Epoch 191: val_accuracy did not improve from 0.61205\n",
            "83/83 [==============================] - 1s 17ms/step - loss: 0.4802 - accuracy: 0.8044 - val_loss: 1.1752 - val_accuracy: 0.5864\n",
            "Epoch 192/200\n",
            "81/83 [============================>.] - ETA: 0s - loss: 0.4792 - accuracy: 0.8040\n",
            "Epoch 192: val_accuracy did not improve from 0.61205\n",
            "83/83 [==============================] - 1s 16ms/step - loss: 0.4792 - accuracy: 0.8044 - val_loss: 1.2218 - val_accuracy: 0.5926\n",
            "Epoch 193/200\n",
            "82/83 [============================>.] - ETA: 0s - loss: 0.4752 - accuracy: 0.8053\n",
            "Epoch 193: val_accuracy did not improve from 0.61205\n",
            "83/83 [==============================] - 1s 16ms/step - loss: 0.4752 - accuracy: 0.8052 - val_loss: 1.2047 - val_accuracy: 0.5864\n",
            "Epoch 194/200\n",
            "81/83 [============================>.] - ETA: 0s - loss: 0.4629 - accuracy: 0.8148\n",
            "Epoch 194: val_accuracy did not improve from 0.61205\n",
            "83/83 [==============================] - 1s 17ms/step - loss: 0.4625 - accuracy: 0.8158 - val_loss: 1.2011 - val_accuracy: 0.5899\n",
            "Epoch 195/200\n",
            "81/83 [============================>.] - ETA: 0s - loss: 0.4596 - accuracy: 0.8125\n",
            "Epoch 195: val_accuracy did not improve from 0.61205\n",
            "83/83 [==============================] - 1s 16ms/step - loss: 0.4590 - accuracy: 0.8135 - val_loss: 1.2082 - val_accuracy: 0.5872\n",
            "Epoch 196/200\n",
            "81/83 [============================>.] - ETA: 0s - loss: 0.4482 - accuracy: 0.8183\n",
            "Epoch 196: val_accuracy did not improve from 0.61205\n",
            "83/83 [==============================] - 1s 16ms/step - loss: 0.4499 - accuracy: 0.8177 - val_loss: 1.2559 - val_accuracy: 0.5846\n",
            "Epoch 197/200\n",
            "81/83 [============================>.] - ETA: 0s - loss: 0.4658 - accuracy: 0.8048\n",
            "Epoch 197: val_accuracy did not improve from 0.61205\n",
            "83/83 [==============================] - 1s 16ms/step - loss: 0.4665 - accuracy: 0.8044 - val_loss: 1.2225 - val_accuracy: 0.5890\n",
            "Epoch 198/200\n",
            "83/83 [==============================] - ETA: 0s - loss: 0.4726 - accuracy: 0.7987\n",
            "Epoch 198: val_accuracy did not improve from 0.61205\n",
            "83/83 [==============================] - 1s 17ms/step - loss: 0.4726 - accuracy: 0.7987 - val_loss: 1.2365 - val_accuracy: 0.6005\n",
            "Epoch 199/200\n",
            "80/83 [===========================>..] - ETA: 0s - loss: 0.4512 - accuracy: 0.8188\n",
            "Epoch 199: val_accuracy did not improve from 0.61205\n",
            "83/83 [==============================] - 1s 16ms/step - loss: 0.4512 - accuracy: 0.8196 - val_loss: 1.2232 - val_accuracy: 0.5899\n",
            "Epoch 200/200\n",
            "81/83 [============================>.] - ETA: 0s - loss: 0.4565 - accuracy: 0.8102\n",
            "Epoch 200: val_accuracy did not improve from 0.61205\n",
            "83/83 [==============================] - 1s 17ms/step - loss: 0.4589 - accuracy: 0.8078 - val_loss: 1.2741 - val_accuracy: 0.5855\n"
          ]
        }
      ]
    },
    {
      "cell_type": "code",
      "source": [
        "import keras\n",
        "\n",
        "best_model = keras.models.load_model(\"best_model1.hdf5\")"
      ],
      "metadata": {
        "id": "dnXIUOeAALPk"
      },
      "execution_count": 224,
      "outputs": []
    },
    {
      "cell_type": "code",
      "source": [
        "test_loss, test_acc = best_model.evaluate(X_test, y_test, verbose=2)\n",
        "print('Model accuracy: ',test_acc)"
      ],
      "metadata": {
        "id": "G5r1a4CoAQoN",
        "outputId": "232f64ca-0faf-4078-f00c-a7ea15c81ea6",
        "colab": {
          "base_uri": "https://localhost:8080/"
        }
      },
      "execution_count": 225,
      "outputs": [
        {
          "output_type": "stream",
          "name": "stdout",
          "text": [
            "36/36 - 1s - loss: 1.0046 - accuracy: 0.6120 - 1s/epoch - 35ms/step\n",
            "Model accuracy:  0.6120460629463196\n"
          ]
        }
      ]
    },
    {
      "cell_type": "code",
      "source": [
        "predictions = best_model.predict(X_test)"
      ],
      "metadata": {
        "id": "pw_1i4JmBE97"
      },
      "execution_count": 226,
      "outputs": []
    },
    {
      "cell_type": "code",
      "source": [
        "clf_metrics(y_test.argmax(axis=1), np.around(predictions, decimals=0).argmax(axis=1))"
      ],
      "metadata": {
        "colab": {
          "base_uri": "https://localhost:8080/",
          "height": 453
        },
        "id": "L1iDVUHX-usW",
        "outputId": "ff1965d4-ae88-4d6f-e028-be5115430452"
      },
      "execution_count": 227,
      "outputs": [
        {
          "output_type": "stream",
          "name": "stdout",
          "text": [
            "              precision    recall  f1-score   support\n",
            "\n",
            "           0       0.51      0.70      0.59       394\n",
            "           1       0.70      0.55      0.62       363\n",
            "           2       0.68      0.56      0.61       372\n",
            "\n",
            "    accuracy                           0.60      1129\n",
            "   macro avg       0.63      0.60      0.61      1129\n",
            "weighted avg       0.63      0.60      0.61      1129\n",
            "\n"
          ]
        },
        {
          "output_type": "display_data",
          "data": {
            "text/plain": [
              "<Figure size 432x288 with 2 Axes>"
            ],
            "image/png": "[encoded data removed]"
          },
          "metadata": {
            "needs_background": "light"
          }
        }
      ]
    },
    {
      "cell_type": "code",
      "source": [
        "from plot_keras_history import show_history, plot_history\n",
        "import matplotlib.pyplot as plt\n",
        "\n",
        "show_history(history)\n",
        "plot_history(history, path=\"standard.png\")\n",
        "plt.close()"
      ],
      "metadata": {
        "colab": {
          "base_uri": "https://localhost:8080/",
          "height": 385
        },
        "id": "sY5wq9z9GEY2",
        "outputId": "ea0bac26-c1ac-4d7a-fb42-10756bee8e26"
      },
      "execution_count": 228,
      "outputs": [
        {
          "output_type": "display_data",
          "data": {
            "text/plain": [
              "<Figure size 720x360 with 2 Axes>"
            ],
            "image/png": "[encoded data removed]"
          },
          "metadata": {
            "needs_background": "light"
          }
        }
      ]
    },
    {
      "cell_type": "code",
      "source": [
        ""
      ],
      "metadata": {
        "id": "w-GTGB8E_sky"
      },
      "execution_count": null,
      "outputs": []
    }
  ]
}