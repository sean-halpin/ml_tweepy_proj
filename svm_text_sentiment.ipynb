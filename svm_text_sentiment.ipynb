{
  "nbformat": 4,
  "nbformat_minor": 0,
  "metadata": {
    "colab": {
      "name": "svm_text_sentiment.ipynb",
      "provenance": [],
      "mount_file_id": "1bpJik2FL13Sd2YXfH09APwYmr28ITcv-",
      "authorship_tag": "ABX9TyMWkUocACuUO5+c8TEXkHOZ",
      "include_colab_link": true
    },
    "kernelspec": {
      "name": "python3",
      "display_name": "Python 3"
    },
    "language_info": {
      "name": "python"
    },
    "accelerator": "GPU"
  },
  "cells": [
    {
      "cell_type": "markdown",
      "metadata": {
        "id": "view-in-github",
        "colab_type": "text"
      },
      "source": [
        "<a href=\"https://colab.research.google.com/github/sean-halpin/ml_tweepy_proj/blob/main/svm_text_sentiment.ipynb\" target=\"_parent\"><img src=\"https://colab.research.google.com/assets/colab-badge.svg\" alt=\"Open In Colab\"/></a>"
      ]
    },
    {
      "cell_type": "code",
      "source": [
        "from google.colab import drive\n",
        "drive.mount('/content/drive/')\n",
        "import os\n",
        "os.chdir(\"/content/drive/My Drive/Colab Notebooks\")"
      ],
      "metadata": {
        "id": "zT5s9ms6s9ts",
        "outputId": "8d9aac39-624c-48e3-b648-0c5af4596d9a",
        "colab": {
          "base_uri": "https://localhost:8080/"
        }
      },
      "execution_count": 2,
      "outputs": [
        {
          "output_type": "stream",
          "name": "stdout",
          "text": [
            "Mounted at /content/drive/\n"
          ]
        }
      ]
    },
    {
      "cell_type": "code",
      "source": [
        "!pip install vaderSentiment\n",
        "!pip install spellchecker\n",
        "!pip install pyspellchecker\n",
        "!pip install plot_keras_history"
      ],
      "metadata": {
        "id": "l_32RV-zeCXX"
      },
      "execution_count": null,
      "outputs": []
    },
    {
      "cell_type": "code",
      "source": [
        "import numpy as np\n",
        "import pandas as pd \n",
        "import re\n",
        "import string\n",
        "import nltk\n",
        "from nltk.corpus import stopwords\n",
        "nltk.download('stopwords')\n",
        "nltk.download('punkt')\n",
        "nltk.download('wordnet')\n",
        "from nltk.tokenize import word_tokenize \n",
        "from nltk.stem.porter import *\n",
        "from nltk.stem.wordnet import WordNetLemmatizer"
      ],
      "metadata": {
        "id": "FwEx4tlwsxq-",
        "outputId": "68fac1ef-f6c7-494b-b74e-cf3a0dc69a26",
        "colab": {
          "base_uri": "https://localhost:8080/"
        }
      },
      "execution_count": 3,
      "outputs": [
        {
          "output_type": "stream",
          "name": "stdout",
          "text": [
            "[nltk_data] Downloading package stopwords to /root/nltk_data...\n",
            "[nltk_data]   Unzipping corpora/stopwords.zip.\n",
            "[nltk_data] Downloading package punkt to /root/nltk_data...\n",
            "[nltk_data]   Unzipping tokenizers/punkt.zip.\n",
            "[nltk_data] Downloading package wordnet to /root/nltk_data...\n",
            "[nltk_data]   Unzipping corpora/wordnet.zip.\n"
          ]
        }
      ]
    },
    {
      "cell_type": "code",
      "source": [
        "df = pd.read_csv(\"tweets_annotated.1650577206.elonmusk.csv\")"
      ],
      "metadata": {
        "id": "UbGJkBZWs0Gy"
      },
      "execution_count": 4,
      "outputs": []
    },
    {
      "cell_type": "code",
      "source": [
        "stop_words = set(stopwords.words('english'))\n",
        "def no_stopwords(text):\n",
        "  tokenwords = word_tokenize(text) \n",
        "  result = [w for w in tokenwords if not w in stop_words] \n",
        "  result = [] \n",
        "  for w in tokenwords: \n",
        "      if w not in stop_words: \n",
        "          result.append(w)\n",
        "  return \" \".join(result)"
      ],
      "metadata": {
        "id": "DsR1tpd2pQw1"
      },
      "execution_count": 5,
      "outputs": []
    },
    {
      "cell_type": "code",
      "source": [
        "w_tokenizer = nltk.tokenize.WhitespaceTokenizer()\n",
        "lemmatizer = nltk.stem.WordNetLemmatizer()\n",
        "\n",
        "def lemmatize_text(text):\n",
        "    return \" \".join([lemmatizer.lemmatize(w) for w in w_tokenizer.tokenize(text)])"
      ],
      "metadata": {
        "id": "cza8vvcYrc_9"
      },
      "execution_count": 6,
      "outputs": []
    },
    {
      "cell_type": "code",
      "source": [
        "output= string.punctuation\n",
        "print('list of punctuations:', output)"
      ],
      "metadata": {
        "id": "JNZIkIUslkTS",
        "outputId": "8b5fe4b7-732f-4702-bc79-02b01ae401a0",
        "colab": {
          "base_uri": "https://localhost:8080/"
        }
      },
      "execution_count": 7,
      "outputs": [
        {
          "output_type": "stream",
          "name": "stdout",
          "text": [
            "list of punctuations: !\"#$%&'()*+,-./:;<=>?@[\\]^_`{|}~\n"
          ]
        }
      ]
    },
    {
      "cell_type": "code",
      "source": [
        "df['tweet'] = df['tweet'].str.replace('http\\S+|www.\\S+|@.\\S+|&amp;.\\S+|<.*?>', '', case=False)\n",
        "df['tweet'] = df['tweet'].str.lower()\n",
        "df['tweet'] = df['tweet'].str.strip()\n",
        "df['tweet'] = df['tweet'].str.translate(str.maketrans('', '', output))\n",
        "df['lemmatized_tweet'] = df['tweet'].apply(lemmatize_text).apply(no_stopwords)"
      ],
      "metadata": {
        "id": "9GbavaxZZG9H",
        "outputId": "52813d26-5f8e-4ff6-a667-6c895324987e",
        "colab": {
          "base_uri": "https://localhost:8080/"
        }
      },
      "execution_count": 9,
      "outputs": [
        {
          "output_type": "stream",
          "name": "stderr",
          "text": [
            "/usr/local/lib/python3.7/dist-packages/ipykernel_launcher.py:1: FutureWarning: The default value of regex will change from True to False in a future version.\n",
            "  \"\"\"Entry point for launching an IPython kernel.\n"
          ]
        }
      ]
    },
    {
      "cell_type": "code",
      "source": [
        "df = df.drop_duplicates('lemmatized_tweet', keep='last')"
      ],
      "metadata": {
        "id": "Z3DEAihohlOf"
      },
      "execution_count": 10,
      "outputs": []
    },
    {
      "cell_type": "code",
      "source": [
        "X = df.lemmatized_tweet.values.reshape(-1,1)\n",
        "y = df.sentiment.values.reshape(-1,1)"
      ],
      "metadata": {
        "id": "QyOGzEB9ZsKC"
      },
      "execution_count": 11,
      "outputs": []
    },
    {
      "cell_type": "code",
      "source": [
        "from collections import Counter\n",
        "from imblearn.under_sampling import RandomUnderSampler\n",
        "rus = RandomUnderSampler(random_state=0)\n",
        "X_resampled, y_resampled = rus.fit_resample(X,y)\n",
        "print(sorted(Counter(y_resampled).items()))"
      ],
      "metadata": {
        "id": "biKHmIc4ZftK",
        "outputId": "4628575f-d5ad-41a6-e036-26366394ea79",
        "colab": {
          "base_uri": "https://localhost:8080/"
        }
      },
      "execution_count": 12,
      "outputs": [
        {
          "output_type": "stream",
          "name": "stdout",
          "text": [
            "[('negative', 1239), ('neutral', 1239), ('positive', 1239)]\n"
          ]
        }
      ]
    },
    {
      "cell_type": "code",
      "source": [
        "df_resampled = pd.DataFrame ({ 'lemmatized_tweet': X_resampled.flatten(), 'sentiment': y_resampled})"
      ],
      "metadata": {
        "id": "C-GzbM90bJaj"
      },
      "execution_count": 13,
      "outputs": []
    },
    {
      "cell_type": "code",
      "source": [
        "df_resampled.head()"
      ],
      "metadata": {
        "id": "RkY_CIBJdONZ",
        "outputId": "e5682213-815e-4e96-9c44-e74c1c5b8938",
        "colab": {
          "base_uri": "https://localhost:8080/",
          "height": 206
        }
      },
      "execution_count": 14,
      "outputs": [
        {
          "output_type": "execute_result",
          "data": {
            "text/plain": [
              "                                    lemmatized_tweet sentiment\n",
              "0  truist analyst lowered twtr rating hold buy ap...  negative\n",
              "1  reminder still think elon musk bayseddd whatev...  negative\n",
              "2  tell elon lying opened mouth typed something t...  negative\n",
              "3  well happens one able say real elon musk anymo...  negative\n",
              "4  elon ha secured financing poison pill showing ...  negative"
            ],
            "text/html": [
              "\n",
              "  <div id=\"df-506abe38-fd1d-4950-8e0b-ad62d3090417\">\n",
              "    <div class=\"colab-df-container\">\n",
              "      <div>\n",
              "<style scoped>\n",
              "    .dataframe tbody tr th:only-of-type {\n",
              "        vertical-align: middle;\n",
              "    }\n",
              "\n",
              "    .dataframe tbody tr th {\n",
              "        vertical-align: top;\n",
              "    }\n",
              "\n",
              "    .dataframe thead th {\n",
              "        text-align: right;\n",
              "    }\n",
              "</style>\n",
              "<table border=\"1\" class=\"dataframe\">\n",
              "  <thead>\n",
              "    <tr style=\"text-align: right;\">\n",
              "      <th></th>\n",
              "      <th>lemmatized_tweet</th>\n",
              "      <th>sentiment</th>\n",
              "    </tr>\n",
              "  </thead>\n",
              "  <tbody>\n",
              "    <tr>\n",
              "      <th>0</th>\n",
              "      <td>truist analyst lowered twtr rating hold buy ap...</td>\n",
              "      <td>negative</td>\n",
              "    </tr>\n",
              "    <tr>\n",
              "      <th>1</th>\n",
              "      <td>reminder still think elon musk bayseddd whatev...</td>\n",
              "      <td>negative</td>\n",
              "    </tr>\n",
              "    <tr>\n",
              "      <th>2</th>\n",
              "      <td>tell elon lying opened mouth typed something t...</td>\n",
              "      <td>negative</td>\n",
              "    </tr>\n",
              "    <tr>\n",
              "      <th>3</th>\n",
              "      <td>well happens one able say real elon musk anymo...</td>\n",
              "      <td>negative</td>\n",
              "    </tr>\n",
              "    <tr>\n",
              "      <th>4</th>\n",
              "      <td>elon ha secured financing poison pill showing ...</td>\n",
              "      <td>negative</td>\n",
              "    </tr>\n",
              "  </tbody>\n",
              "</table>\n",
              "</div>\n",
              "      <button class=\"colab-df-convert\" onclick=\"convertToInteractive('df-506abe38-fd1d-4950-8e0b-ad62d3090417')\"\n",
              "              title=\"Convert this dataframe to an interactive table.\"\n",
              "              style=\"display:none;\">\n",
              "        \n",
              "  <svg xmlns=\"http://www.w3.org/2000/svg\" height=\"24px\"viewBox=\"0 0 24 24\"\n",
              "       width=\"24px\">\n",
              "    <path d=\"M0 0h24v24H0V0z\" fill=\"none\"/>\n",
              "    <path d=\"M18.56 5.44l.94 2.06.94-2.06 2.06-.94-2.06-.94-.94-2.06-.94 2.06-2.06.94zm-11 1L8.5 8.5l.94-2.06 2.06-.94-2.06-.94L8.5 2.5l-.94 2.06-2.06.94zm10 10l.94 2.06.94-2.06 2.06-.94-2.06-.94-.94-2.06-.94 2.06-2.06.94z\"/><path d=\"M17.41 7.96l-1.37-1.37c-.4-.4-.92-.59-1.43-.59-.52 0-1.04.2-1.43.59L10.3 9.45l-7.72 7.72c-.78.78-.78 2.05 0 2.83L4 21.41c.39.39.9.59 1.41.59.51 0 1.02-.2 1.41-.59l7.78-7.78 2.81-2.81c.8-.78.8-2.07 0-2.86zM5.41 20L4 18.59l7.72-7.72 1.47 1.35L5.41 20z\"/>\n",
              "  </svg>\n",
              "      </button>\n",
              "      \n",
              "  <style>\n",
              "    .colab-df-container {\n",
              "      display:flex;\n",
              "      flex-wrap:wrap;\n",
              "      gap: 12px;\n",
              "    }\n",
              "\n",
              "    .colab-df-convert {\n",
              "      background-color: #E8F0FE;\n",
              "      border: none;\n",
              "      border-radius: 50%;\n",
              "      cursor: pointer;\n",
              "      display: none;\n",
              "      fill: #1967D2;\n",
              "      height: 32px;\n",
              "      padding: 0 0 0 0;\n",
              "      width: 32px;\n",
              "    }\n",
              "\n",
              "    .colab-df-convert:hover {\n",
              "      background-color: #E2EBFA;\n",
              "      box-shadow: 0px 1px 2px rgba(60, 64, 67, 0.3), 0px 1px 3px 1px rgba(60, 64, 67, 0.15);\n",
              "      fill: #174EA6;\n",
              "    }\n",
              "\n",
              "    [theme=dark] .colab-df-convert {\n",
              "      background-color: #3B4455;\n",
              "      fill: #D2E3FC;\n",
              "    }\n",
              "\n",
              "    [theme=dark] .colab-df-convert:hover {\n",
              "      background-color: #434B5C;\n",
              "      box-shadow: 0px 1px 3px 1px rgba(0, 0, 0, 0.15);\n",
              "      filter: drop-shadow(0px 1px 2px rgba(0, 0, 0, 0.3));\n",
              "      fill: #FFFFFF;\n",
              "    }\n",
              "  </style>\n",
              "\n",
              "      <script>\n",
              "        const buttonEl =\n",
              "          document.querySelector('#df-506abe38-fd1d-4950-8e0b-ad62d3090417 button.colab-df-convert');\n",
              "        buttonEl.style.display =\n",
              "          google.colab.kernel.accessAllowed ? 'block' : 'none';\n",
              "\n",
              "        async function convertToInteractive(key) {\n",
              "          const element = document.querySelector('#df-506abe38-fd1d-4950-8e0b-ad62d3090417');\n",
              "          const dataTable =\n",
              "            await google.colab.kernel.invokeFunction('convertToInteractive',\n",
              "                                                     [key], {});\n",
              "          if (!dataTable) return;\n",
              "\n",
              "          const docLinkHtml = 'Like what you see? Visit the ' +\n",
              "            '<a target=\"_blank\" href=https://colab.research.google.com/notebooks/data_table.ipynb>data table notebook</a>'\n",
              "            + ' to learn more about interactive tables.';\n",
              "          element.innerHTML = '';\n",
              "          dataTable['output_type'] = 'display_data';\n",
              "          await google.colab.output.renderOutput(dataTable, element);\n",
              "          const docLink = document.createElement('div');\n",
              "          docLink.innerHTML = docLinkHtml;\n",
              "          element.appendChild(docLink);\n",
              "        }\n",
              "      </script>\n",
              "    </div>\n",
              "  </div>\n",
              "  "
            ]
          },
          "metadata": {},
          "execution_count": 14
        }
      ]
    },
    {
      "cell_type": "code",
      "source": [
        "from sklearn.pipeline import Pipeline\n",
        "from sklearn.feature_extraction.text import TfidfTransformer\n",
        "from sklearn.feature_extraction.text import CountVectorizer\n",
        "from sklearn.linear_model import SGDClassifier\n",
        "from sklearn.model_selection import train_test_split"
      ],
      "metadata": {
        "id": "k0tVHkK0xMzW"
      },
      "execution_count": 15,
      "outputs": []
    },
    {
      "cell_type": "code",
      "source": [
        "X_train, X_test, y_train, y_test = train_test_split(df_resampled.lemmatized_tweet, df_resampled.sentiment, test_size=0.2, random_state=32)"
      ],
      "metadata": {
        "id": "yWYlxz8bx-Gi"
      },
      "execution_count": 45,
      "outputs": []
    },
    {
      "cell_type": "markdown",
      "source": [
        "# Text Classifier"
      ],
      "metadata": {
        "id": "hZnDCfyRvxnm"
      }
    },
    {
      "cell_type": "code",
      "source": [
        "text_clf = Pipeline([\n",
        "    ('vect', CountVectorizer(max_features=100)),\n",
        "    ('tfidf', TfidfTransformer()),\n",
        "    ('clf', SGDClassifier(loss='hinge', penalty='l2',\n",
        "                          alpha=1e-3, random_state=42,\n",
        "                          max_iter=3, tol=None)),\n",
        "])\n",
        "\n",
        "text_clf.fit(X_train, y_train)\n",
        "\n",
        "predicted = text_clf.predict(X_test)\n",
        "np.mean(predicted == y_test)"
      ],
      "metadata": {
        "id": "FDeKiuRww5T2",
        "outputId": "fabae8ed-9184-4a0c-b766-3476195453af",
        "colab": {
          "base_uri": "https://localhost:8080/"
        }
      },
      "execution_count": 50,
      "outputs": [
        {
          "output_type": "execute_result",
          "data": {
            "text/plain": [
              "0.5120967741935484"
            ]
          },
          "metadata": {},
          "execution_count": 50
        }
      ]
    },
    {
      "cell_type": "code",
      "source": [
        "from sklearn.metrics import confusion_matrix\n",
        "from sklearn import metrics\n",
        "import seaborn as sns\n",
        "def clf_metrics(y_test, predicted):\n",
        "  print(metrics.classification_report(y_test, predicted))\n",
        "  c_matrix = metrics.confusion_matrix(y_test, predicted)\n",
        "  ax = sns.heatmap(c_matrix, annot=True,      \n",
        "                    xticklabels=['negative','neutral','positive'],                \n",
        "                    yticklabels=['negative','neutral','positive'],                \n",
        "                  cbar=True, cmap='Blues', fmt='g')\n",
        "  ax.set_xlabel(\"Prediction\")\n",
        "  ax.set_ylabel(\"Actual\")"
      ],
      "metadata": {
        "id": "jvRncbECb6m8"
      },
      "execution_count": 51,
      "outputs": []
    },
    {
      "cell_type": "code",
      "source": [
        "clf_metrics(y_test, predicted)"
      ],
      "metadata": {
        "id": "x-aQ8UYec9ws",
        "outputId": "eaa24817-43ae-4d2a-93ac-604a56f46ad8",
        "colab": {
          "base_uri": "https://localhost:8080/",
          "height": 453
        }
      },
      "execution_count": 52,
      "outputs": [
        {
          "output_type": "stream",
          "name": "stdout",
          "text": [
            "              precision    recall  f1-score   support\n",
            "\n",
            "    negative       0.50      0.56      0.53       236\n",
            "     neutral       0.52      0.52      0.52       265\n",
            "    positive       0.52      0.46      0.49       243\n",
            "\n",
            "    accuracy                           0.51       744\n",
            "   macro avg       0.51      0.51      0.51       744\n",
            "weighted avg       0.51      0.51      0.51       744\n",
            "\n"
          ]
        },
        {
          "output_type": "display_data",
          "data": {
            "text/plain": [
              "<Figure size 432x288 with 2 Axes>"
            ],
            "image/png": "[encoded data removed]"
          },
          "metadata": {
            "needs_background": "light"
          }
        }
      ]
    },
    {
      "cell_type": "code",
      "source": [
        "import numpy as np\n",
        "import matplotlib.pyplot as plt\n",
        "from sklearn.datasets import load_digits\n",
        "from sklearn.model_selection import learning_curve\n",
        "\n",
        "\n",
        "def plot_learning_curve(\n",
        "    estimator,\n",
        "    title,\n",
        "    X,\n",
        "    y,\n",
        "    axes=None,\n",
        "    ylim=None,\n",
        "    cv=None,\n",
        "    n_jobs=None,\n",
        "    train_sizes=np.linspace(0.1, 1.0, 5),\n",
        "):\n",
        "    if axes is None:\n",
        "        _, (ax) = plt.subplots(1, 1, figsize=(20, 5))\n",
        "\n",
        "    ax.set_title(title)\n",
        "    if ylim is not None:\n",
        "        ax.set_ylim(*ylim)\n",
        "    ax.set_xlabel(\"Training examples\")\n",
        "    ax.set_ylabel(\"Score\")\n",
        "\n",
        "    train_sizes, train_scores, test_scores, fit_times, _ = learning_curve(\n",
        "        estimator,\n",
        "        X,\n",
        "        y,\n",
        "        cv=cv,\n",
        "        n_jobs=n_jobs,\n",
        "        train_sizes=train_sizes,\n",
        "        return_times=True,\n",
        "    )\n",
        "    train_scores_mean = np.mean(train_scores, axis=1)\n",
        "    train_scores_std = np.std(train_scores, axis=1)\n",
        "    test_scores_mean = np.mean(test_scores, axis=1)\n",
        "    test_scores_std = np.std(test_scores, axis=1)\n",
        "    fit_times_mean = np.mean(fit_times, axis=1)\n",
        "    fit_times_std = np.std(fit_times, axis=1)\n",
        "\n",
        "    # Plot learning curve\n",
        "    ax.grid()\n",
        "    ax.fill_between(\n",
        "        train_sizes,\n",
        "        train_scores_mean - train_scores_std,\n",
        "        train_scores_mean + train_scores_std,\n",
        "        alpha=0.1,\n",
        "        color=\"r\",\n",
        "    )\n",
        "    ax.fill_between(\n",
        "        train_sizes,\n",
        "        test_scores_mean - test_scores_std,\n",
        "        test_scores_mean + test_scores_std,\n",
        "        alpha=0.1,\n",
        "        color=\"g\",\n",
        "    )\n",
        "    ax.plot(\n",
        "        train_sizes, train_scores_mean, \"o-\", color=\"r\", label=\"Training score\"\n",
        "    )\n",
        "    ax.plot(\n",
        "        train_sizes, test_scores_mean, \"o-\", color=\"g\", label=\"Cross-validation score\"\n",
        "    )\n",
        "    ax.legend(loc=\"best\")\n",
        "    return plt\n",
        "\n",
        "\n",
        "plot_learning_curve(\n",
        "    text_clf, \"LC \", X=X_test, y=y_test,ylim=(0.1, 1.01), cv=5, n_jobs=-1\n",
        ")\n",
        "\n",
        "plt.show()"
      ],
      "metadata": {
        "id": "rzLGkp55v4uK",
        "outputId": "0ecaa30a-35c5-43d3-9de5-7b03f53aacbb",
        "colab": {
          "base_uri": "https://localhost:8080/",
          "height": 350
        }
      },
      "execution_count": 53,
      "outputs": [
        {
          "output_type": "display_data",
          "data": {
            "text/plain": [
              "<Figure size 1440x360 with 1 Axes>"
            ],
            "image/png": "[encoded data removed]"
          },
          "metadata": {
            "needs_background": "light"
          }
        }
      ]
    },
    {
      "cell_type": "markdown",
      "source": [
        "# Vader"
      ],
      "metadata": {
        "id": "qrMaqZMBvpqT"
      }
    },
    {
      "cell_type": "code",
      "source": [
        "from vaderSentiment.vaderSentiment import SentimentIntensityAnalyzer"
      ],
      "metadata": {
        "id": "4IO2obn26CfF"
      },
      "execution_count": 54,
      "outputs": []
    },
    {
      "cell_type": "code",
      "source": [
        "analyzer = SentimentIntensityAnalyzer()\n",
        "def vader_sentiment(sentence):\n",
        "  vs = analyzer.polarity_scores(sentence)\n",
        "  comp = vs['compound']\n",
        "  if comp > 0.05:\n",
        "    return 'positive'\n",
        "  elif comp < -0.05:\n",
        "    return 'negative'\n",
        "  else:\n",
        "    return 'neutral'"
      ],
      "metadata": {
        "id": "rCMZRRrb5lNl"
      },
      "execution_count": 55,
      "outputs": []
    },
    {
      "cell_type": "code",
      "source": [
        "vader_predicted = X_test.apply(vader_sentiment)"
      ],
      "metadata": {
        "id": "uiXINY-HefH5"
      },
      "execution_count": 56,
      "outputs": []
    },
    {
      "cell_type": "code",
      "source": [
        "clf_metrics(y_test, vader_predicted)"
      ],
      "metadata": {
        "id": "yv0Jd1scfCii",
        "outputId": "b9990194-4f8f-44de-ffb6-96b5c3de6ad2",
        "colab": {
          "base_uri": "https://localhost:8080/",
          "height": 453
        }
      },
      "execution_count": 57,
      "outputs": [
        {
          "output_type": "stream",
          "name": "stdout",
          "text": [
            "              precision    recall  f1-score   support\n",
            "\n",
            "    negative       0.68      0.50      0.58       236\n",
            "     neutral       0.59      0.40      0.48       265\n",
            "    positive       0.48      0.77      0.59       243\n",
            "\n",
            "    accuracy                           0.56       744\n",
            "   macro avg       0.58      0.56      0.55       744\n",
            "weighted avg       0.58      0.56      0.55       744\n",
            "\n"
          ]
        },
        {
          "output_type": "display_data",
          "data": {
            "text/plain": [
              "<Figure size 432x288 with 2 Axes>"
            ],
            "image/png": "[encoded data removed]"
          },
          "metadata": {
            "needs_background": "light"
          }
        }
      ]
    },
    {
      "cell_type": "code",
      "source": [
        "pd.set_option('max_colwidth', -1)"
      ],
      "metadata": {
        "id": "ngp9I54_kS4-",
        "outputId": "8a186e60-bb46-4498-964e-681a46e111b4",
        "colab": {
          "base_uri": "https://localhost:8080/"
        }
      },
      "execution_count": 58,
      "outputs": [
        {
          "output_type": "stream",
          "name": "stderr",
          "text": [
            "/usr/local/lib/python3.7/dist-packages/ipykernel_launcher.py:1: FutureWarning: Passing a negative integer is deprecated in version 1.0 and will not be supported in future version. Instead, use None to not limit the column width.\n",
            "  \"\"\"Entry point for launching an IPython kernel.\n"
          ]
        }
      ]
    },
    {
      "cell_type": "code",
      "source": [
        "len(X_test[(y_test == \"neutral\") & (vader_predicted == \"positive\")])"
      ],
      "metadata": {
        "id": "sinyvvmZfley",
        "outputId": "8ea10f08-cde4-41c6-981f-debdaca05693",
        "colab": {
          "base_uri": "https://localhost:8080/"
        }
      },
      "execution_count": 59,
      "outputs": [
        {
          "output_type": "execute_result",
          "data": {
            "text/plain": [
              "119"
            ]
          },
          "metadata": {},
          "execution_count": 59
        }
      ]
    },
    {
      "cell_type": "code",
      "source": [
        "X_test[(y_test == \"neutral\") & (vader_predicted == \"positive\")]"
      ],
      "metadata": {
        "id": "VgszAVv-h9u6",
        "outputId": "fd716b71-9cc0-4447-b535-736ae9e2f593",
        "colab": {
          "base_uri": "https://localhost:8080/"
        }
      },
      "execution_count": 60,
      "outputs": [
        {
          "output_type": "execute_result",
          "data": {
            "text/plain": [
              "2454    tesla worker say pay price elon musk big promise                                                                                           \n",
              "1436    strategic would pay far elon musk way happens antitrust enviornment obvious board hold elon without violating fiduciary duty               \n",
              "1612    elon musk twitteri satyn alsa vpnsiz girer aly ediweri buy twitter make possible enter twitter without vpn twitter banned country gayrat et\n",
              "2237    wooo thanks motivation mo envy elon musk                                                                                                   \n",
              "1719    check article marketwatch elon musk say ha received funding commitment twitter buyout exploring tender offer                               \n",
              "                                                            ...                                                                                    \n",
              "1470    original poster implied wa elon musk supposed worshipping love car                                                                         \n",
              "1823    elon musk little like donald trump except money many brain cell better accent considerably le treason                                      \n",
              "1704    thats reason elon musk want buy                                                                                                            \n",
              "2257    doe elon musk rfid technology may want leverage twitter                                                                                    \n",
              "2325    elon musk pls tell u view today lahore jalsa imrankhanpti                                                                                  \n",
              "Name: lemmatized_tweet, Length: 119, dtype: object"
            ]
          },
          "metadata": {},
          "execution_count": 60
        }
      ]
    },
    {
      "cell_type": "markdown",
      "source": [
        "# Deep Neural Network Classifier"
      ],
      "metadata": {
        "id": "PbyiZMBA2JwE"
      }
    },
    {
      "cell_type": "code",
      "source": [
        "import numpy as np\n",
        "import pandas as pd\n",
        "import re\n",
        "import gensim\n",
        "from nltk.tokenize import TreebankWordTokenizer\n",
        "from nltk.tokenize.treebank import TreebankWordDetokenizer\n",
        "from sklearn.model_selection import train_test_split\n",
        "import tensorflow as tf"
      ],
      "metadata": {
        "id": "VGraRTvu2M7e"
      },
      "execution_count": 61,
      "outputs": []
    },
    {
      "cell_type": "code",
      "source": [
        "def labels_categorical(data):\n",
        "  labels = np.array(data)\n",
        "  y = []\n",
        "  for i in range(len(labels)):\n",
        "      if labels[i] == 'neutral':\n",
        "          y.append(0)\n",
        "      if labels[i] == 'negative':\n",
        "          y.append(1)\n",
        "      if labels[i] == 'positive':\n",
        "          y.append(2)\n",
        "  y = np.array(y)\n",
        "  labels = tf.keras.utils.to_categorical(y, 3, dtype=\"float32\")\n",
        "  del y\n",
        "  return labels"
      ],
      "metadata": {
        "id": "1SSI4v1k8J_t"
      },
      "execution_count": 62,
      "outputs": []
    },
    {
      "cell_type": "code",
      "source": [
        "labels = labels_categorical(df_resampled.sentiment)"
      ],
      "metadata": {
        "id": "1gbZIrzF8s-M"
      },
      "execution_count": 63,
      "outputs": []
    },
    {
      "cell_type": "code",
      "source": [
        "from keras.preprocessing.text import Tokenizer\n",
        "from keras.preprocessing.sequence import pad_sequences\n",
        "from keras import regularizers\n",
        "\n",
        "max_words = 500\n",
        "max_len = 200\n",
        "\n",
        "tokenizer = Tokenizer(num_words=max_words)\n",
        "tokenizer.fit_on_texts(df_resampled.lemmatized_tweet)\n",
        "sequences = tokenizer.texts_to_sequences(df_resampled.lemmatized_tweet)\n",
        "tweets = pad_sequences(sequences, maxlen=max_len)\n",
        "print(tweets)"
      ],
      "metadata": {
        "id": "LTd9bp9gzSuk",
        "outputId": "a5103e20-fc04-4140-e547-d8ce09b0ef5b",
        "colab": {
          "base_uri": "https://localhost:8080/"
        }
      },
      "execution_count": 72,
      "outputs": [
        {
          "output_type": "stream",
          "name": "stdout",
          "text": [
            "[[  0   0   0 ... 728 729  16]\n",
            " [  0   0   0 ...  90 350 115]\n",
            " [  0   0   0 ... 222   2 125]\n",
            " ...\n",
            " [  0   0   0 ... 118 206 191]\n",
            " [  0   0   0 ... 507   2   1]\n",
            " [  0   0   0 ... 855 119 133]]\n"
          ]
        }
      ]
    },
    {
      "cell_type": "code",
      "source": [
        "X_train, X_test, y_train, y_test = train_test_split(tweets, labels, test_size=0.3, random_state=32)"
      ],
      "metadata": {
        "id": "tq6zVGuA8xbo"
      },
      "execution_count": 73,
      "outputs": []
    },
    {
      "cell_type": "code",
      "source": [
        "print(X_train.shape)\n",
        "print(X_test.shape)\n",
        "print(y_train.shape)\n",
        "print(y_test.shape)"
      ],
      "metadata": {
        "id": "cm3Mfpiq81CJ",
        "outputId": "09af0b08-ac44-4322-b0da-d8fa4b83d52a",
        "colab": {
          "base_uri": "https://localhost:8080/"
        }
      },
      "execution_count": 74,
      "outputs": [
        {
          "output_type": "stream",
          "name": "stdout",
          "text": [
            "(2601, 200)\n",
            "(1116, 200)\n",
            "(2601, 3)\n",
            "(1116, 3)\n"
          ]
        }
      ]
    },
    {
      "cell_type": "code",
      "source": [
        "from keras.models import Sequential\n",
        "from keras import layers\n",
        "from keras import regularizers\n",
        "from keras import backend as K\n",
        "from keras.callbacks import ModelCheckpoint\n",
        "from keras.layers import Embedding\n",
        "embedding_layer = Embedding(100, 32)\n",
        "\n",
        "model1 = Sequential()\n",
        "model1.add(layers.Embedding(max_words, 5))\n",
        "model1.add(layers.LSTM(4,dropout=0.4, return_sequences=False))\n",
        "model1.add(layers.Dense(3,activation='softmax'))\n",
        "\n",
        "model1.compile(optimizer='rmsprop',loss='categorical_crossentropy', metrics=['accuracy'])"
      ],
      "metadata": {
        "id": "4SY2V_ks3X7H"
      },
      "execution_count": 109,
      "outputs": []
    },
    {
      "cell_type": "code",
      "source": [
        "model1.summary()"
      ],
      "metadata": {
        "id": "KOipYoR0APQJ",
        "outputId": "e29c0472-b4d3-4cd2-af9c-5edd02a4ba97",
        "colab": {
          "base_uri": "https://localhost:8080/"
        }
      },
      "execution_count": 110,
      "outputs": [
        {
          "output_type": "stream",
          "name": "stdout",
          "text": [
            "Model: \"sequential_7\"\n",
            "_________________________________________________________________\n",
            " Layer (type)                Output Shape              Param #   \n",
            "=================================================================\n",
            " embedding_15 (Embedding)    (None, None, 5)           5000      \n",
            "                                                                 \n",
            " lstm_11 (LSTM)              (None, 4)                 160       \n",
            "                                                                 \n",
            " dense_7 (Dense)             (None, 3)                 15        \n",
            "                                                                 \n",
            "=================================================================\n",
            "Total params: 5,175\n",
            "Trainable params: 5,175\n",
            "Non-trainable params: 0\n",
            "_________________________________________________________________\n"
          ]
        }
      ]
    },
    {
      "cell_type": "code",
      "source": [
        "#Implementing model checkpoins to save the best metric and do not lose it on training.\n",
        "checkpoint1 = ModelCheckpoint(\"best_model1.hdf5\", monitor='val_accuracy', verbose=1,save_best_only=True, mode='auto', period=1,save_weights_only=False)\n",
        "history = model1.fit(X_train, y_train, epochs=20,validation_data=(X_test, y_test),callbacks=[checkpoint1])"
      ],
      "metadata": {
        "id": "KHjLziPmAyD_"
      },
      "execution_count": null,
      "outputs": []
    },
    {
      "cell_type": "code",
      "source": [
        "import keras\n",
        "\n",
        "best_model = keras.models.load_model(\"best_model1.hdf5\")"
      ],
      "metadata": {
        "id": "dnXIUOeAALPk"
      },
      "execution_count": 112,
      "outputs": []
    },
    {
      "cell_type": "code",
      "source": [
        "test_loss, test_acc = best_model.evaluate(X_test, y_test, verbose=2)\n",
        "print('Model accuracy: ',test_acc)"
      ],
      "metadata": {
        "id": "G5r1a4CoAQoN",
        "outputId": "7c0382b5-9d2c-4ceb-d2a9-9210f3202f65",
        "colab": {
          "base_uri": "https://localhost:8080/"
        }
      },
      "execution_count": 113,
      "outputs": [
        {
          "output_type": "stream",
          "name": "stdout",
          "text": [
            "35/35 - 1s - loss: 0.8480 - accuracy: 0.6263 - 758ms/epoch - 22ms/step\n",
            "Model accuracy:  0.6263440847396851\n"
          ]
        }
      ]
    },
    {
      "cell_type": "code",
      "source": [
        "predictions = best_model.predict(X_test)"
      ],
      "metadata": {
        "id": "pw_1i4JmBE97"
      },
      "execution_count": 114,
      "outputs": []
    },
    {
      "cell_type": "code",
      "source": [
        "clf_metrics(y_test.argmax(axis=1), np.around(predictions, decimals=0).argmax(axis=1))"
      ],
      "metadata": {
        "colab": {
          "base_uri": "https://localhost:8080/",
          "height": 453
        },
        "id": "L1iDVUHX-usW",
        "outputId": "ed73cf1f-de15-4bc8-ca3e-e411d8485c2a"
      },
      "execution_count": 115,
      "outputs": [
        {
          "output_type": "stream",
          "name": "stdout",
          "text": [
            "              precision    recall  f1-score   support\n",
            "\n",
            "           0       0.54      0.71      0.61       387\n",
            "           1       0.68      0.61      0.64       357\n",
            "           2       0.67      0.52      0.59       372\n",
            "\n",
            "    accuracy                           0.61      1116\n",
            "   macro avg       0.63      0.61      0.61      1116\n",
            "weighted avg       0.63      0.61      0.61      1116\n",
            "\n"
          ]
        },
        {
          "output_type": "display_data",
          "data": {
            "text/plain": [
              "<Figure size 432x288 with 2 Axes>"
            ],
            "image/png": "[encoded data removed]"
          },
          "metadata": {
            "needs_background": "light"
          }
        }
      ]
    },
    {
      "cell_type": "code",
      "source": [
        "from plot_keras_history import show_history, plot_history\n",
        "import matplotlib.pyplot as plt\n",
        "\n",
        "show_history(history)\n",
        "plot_history(history, path=\"standard.png\")\n",
        "plt.close()"
      ],
      "metadata": {
        "colab": {
          "base_uri": "https://localhost:8080/",
          "height": 385
        },
        "id": "sY5wq9z9GEY2",
        "outputId": "482d0e64-ffca-43b7-b55e-ffe19639ebeb"
      },
      "execution_count": 116,
      "outputs": [
        {
          "output_type": "display_data",
          "data": {
            "text/plain": [
              "<Figure size 720x360 with 2 Axes>"
            ],
            "image/png": "[encoded data removed]"
          },
          "metadata": {
            "needs_background": "light"
          }
        }
      ]
    },
    {
      "cell_type": "code",
      "source": [
        ""
      ],
      "metadata": {
        "id": "w-GTGB8E_sky"
      },
      "execution_count": 116,
      "outputs": []
    }
  ]
}