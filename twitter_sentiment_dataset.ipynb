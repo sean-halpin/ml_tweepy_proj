{
  "nbformat": 4,
  "nbformat_minor": 0,
  "metadata": {
    "colab": {
      "name": "twitter_sentiment_dataset.ipynb",
      "provenance": [],
      "authorship_tag": "ABX9TyMhYIglVX4rJDbrBSDlB2pS",
      "include_colab_link": true
    },
    "kernelspec": {
      "name": "python3",
      "display_name": "Python 3"
    },
    "language_info": {
      "name": "python"
    }
  },
  "cells": [
    {
      "cell_type": "markdown",
      "metadata": {
        "id": "view-in-github",
        "colab_type": "text"
      },
      "source": [
        "<a href=\"https://colab.research.google.com/github/sean-halpin/ml_tweepy_proj/blob/main/twitter_sentiment_dataset.ipynb\" target=\"_parent\"><img src=\"https://colab.research.google.com/assets/colab-badge.svg\" alt=\"Open In Colab\"/></a>"
      ]
    },
    {
      "cell_type": "code",
      "source": [
        "!pip install tweepy --upgrade"
      ],
      "metadata": {
        "id": "nMBVkxnNOFfB"
      },
      "execution_count": null,
      "outputs": []
    },
    {
      "cell_type": "code",
      "execution_count": null,
      "metadata": {
        "id": "i3GzmremJ_al"
      },
      "outputs": [],
      "source": [
        "from google.colab import drive\n",
        "drive.mount('/content/drive/')\n",
        "import os\n",
        "os.chdir(\"/content/drive/My Drive/Colab Notebooks\")"
      ]
    },
    {
      "cell_type": "code",
      "source": [
        "BEARER_TOKEN = \"AAAAAAAAAAAAAAAAAAAAAN3pZwEAAAAASCDCIM1RgmZs05yRpfRg2Tis6bQ%3D9kVCbniKGCirILObLj1cHCWCHMPlxbAsA05C8rI4Kx2lsS8s5a\""
      ],
      "metadata": {
        "id": "46mmsl-oNpCX"
      },
      "execution_count": null,
      "outputs": []
    },
    {
      "cell_type": "code",
      "source": [
        "!pip install transformers"
      ],
      "metadata": {
        "id": "mgRABScwS5F6"
      },
      "execution_count": null,
      "outputs": []
    },
    {
      "cell_type": "code",
      "source": [
        "from transformers import AutoModelForSequenceClassification\n",
        "from transformers import TFAutoModelForSequenceClassification\n",
        "from transformers import AutoTokenizer\n",
        "import numpy as np\n",
        "from scipy.special import softmax\n",
        "import csv\n",
        "import urllib.request"
      ],
      "metadata": {
        "id": "wtlPl7MpTR67"
      },
      "execution_count": null,
      "outputs": []
    },
    {
      "cell_type": "code",
      "source": [
        "# Preprocess text (username and link placeholders)\n",
        "def preprocess(text):\n",
        "    new_text = []\n",
        " \n",
        " \n",
        "    for t in text.split(\" \"):\n",
        "        t = '@user' if t.startswith('@') and len(t) > 1 else t\n",
        "        t = 'http' if t.startswith('http') else t\n",
        "        new_text.append(t)\n",
        "    return \" \".join(new_text)"
      ],
      "metadata": {
        "id": "hObN96z9cKjM"
      },
      "execution_count": null,
      "outputs": []
    },
    {
      "cell_type": "code",
      "source": [
        "# Tasks:\n",
        "# emoji, emotion, hate, irony, offensive, sentiment\n",
        "# stance/abortion, stance/atheism, stance/climate, stance/feminist, stance/hillary\n",
        "\n",
        "task='sentiment'\n",
        "MODEL = f\"cardiffnlp/twitter-roberta-base-{task}\"\n",
        "\n",
        "tokenizer = AutoTokenizer.from_pretrained(MODEL)\n",
        "# download label mapping\n",
        "labels=[]\n",
        "mapping_link = f\"https://raw.githubusercontent.com/cardiffnlp/tweeteval/main/datasets/{task}/mapping.txt\"\n",
        "with urllib.request.urlopen(mapping_link) as f:\n",
        "    html = f.read().decode('utf-8').split(\"\\n\")\n",
        "    csvreader = csv.reader(html, delimiter='\\t')\n",
        "labels = [row[1] for row in csvreader if len(row) > 1]\n",
        "\n",
        "# PT\n",
        "model = AutoModelForSequenceClassification.from_pretrained(MODEL)\n",
        "model.save_pretrained(MODEL)\n",
        "tokenizer.save_pretrained(MODEL)"
      ],
      "metadata": {
        "id": "Vbmni7cecOY7"
      },
      "execution_count": null,
      "outputs": []
    },
    {
      "cell_type": "code",
      "source": [
        "API_KEY=\"\"\n",
        "API_SECRET=\"\"\n",
        "ACCESS_TOKEN=\"\"\n",
        "ACCESS_TOKEN_SECRET=\"\""
      ],
      "metadata": {
        "id": "tkeGct82zfEt"
      },
      "execution_count": null,
      "outputs": []
    },
    {
      "cell_type": "code",
      "source": [
        "import tweepy as tpy\n",
        "import tweepy as tweepy\n",
        "import pandas as pd\n",
        "\n",
        "client = tweepy.Client(\n",
        "    bearer_token=BEARER_TOKEN\n",
        ")"
      ],
      "metadata": {
        "id": "s8LQY43IL8Gj"
      },
      "execution_count": null,
      "outputs": []
    },
    {
      "cell_type": "code",
      "source": [
        "search_result=[]\n",
        "for tweet in tweepy.Paginator(client.search_recent_tweets, \"elon musk -is:retweet\",\n",
        "                              max_results=100, user_fields=['id','username','location'], \n",
        "                              tweet_fields=['id','author_id','created_at','geo','public_metrics','source'],\n",
        "                              place_fields=['place_type', 'geo', 'country'], expansions=['geo.place_id', 'author_id']).flatten(limit=3500):\n",
        "  search_result.append(tweet)"
      ],
      "metadata": {
        "id": "T7sn5gb8QKIS"
      },
      "execution_count": null,
      "outputs": []
    },
    {
      "cell_type": "code",
      "source": [
        "len(search_result)"
      ],
      "metadata": {
        "id": "DdCDWrvFileo"
      },
      "execution_count": null,
      "outputs": []
    },
    {
      "cell_type": "code",
      "source": [
        "print(search_result[0].text)\n",
        "print(search_result[0].created_at)\n",
        "print(search_result[0].geo)\n",
        "print(search_result[0].public_metrics)\n",
        "print(search_result[0].id)\n",
        "print(search_result[0].author_id)\n",
        "print(search_result[0].source)\n",
        "print(search_result[0])\n",
        "print(dir(search_result[0]))\n"
      ],
      "metadata": {
        "id": "gq7Zi5Js70KS"
      },
      "execution_count": null,
      "outputs": []
    },
    {
      "cell_type": "code",
      "source": [
        "!pip install langdetect"
      ],
      "metadata": {
        "id": "d1DyUzyqi1sq"
      },
      "execution_count": null,
      "outputs": []
    },
    {
      "cell_type": "code",
      "source": [
        "from langdetect import detect\n",
        "\n",
        "def classify_lang(input_text):\n",
        "  result = None\n",
        "  try:\n",
        "    result = detect(input_text)\n",
        "  except:\n",
        "    print(\"An exception occurred, classify_lang\")\n",
        "  return result"
      ],
      "metadata": {
        "id": "duqbaDfri0Ok"
      },
      "execution_count": null,
      "outputs": []
    },
    {
      "cell_type": "code",
      "source": [
        "list_of_lists = []\n",
        "i=0\n",
        "for sr in search_result:\n",
        "  print(i)\n",
        "  i+=1\n",
        "  if (classify_lang(sr.text) == \"en\"):\n",
        "    text = sr.text\n",
        "    text = preprocess(text)\n",
        "    encoded_input = tokenizer(text, return_tensors='pt')\n",
        "    output = model(**encoded_input)\n",
        "    scores = output[0][0].detach().numpy()\n",
        "    scores = softmax(scores)\n",
        "\n",
        "    ranking = np.argsort(scores)\n",
        "    ranking = ranking[::-1]\n",
        "\n",
        "    list_of_lists.append([sr.id,sr.author_id,sr.text,sr.geo, sr.created_at, sr.source,str(labels[ranking[0]])])"
      ],
      "metadata": {
        "id": "cT5WuFbETeKw",
        "outputId": "7b5d571b-4790-4a3c-d461-0addb9a13078",
        "colab": {
          "base_uri": "https://localhost:8080/"
        }
      },
      "execution_count": null,
      "outputs": [
        {
          "output_type": "stream",
          "name": "stdout",
          "text": [
            "1065\n",
            "1066\n",
            "1067\n",
            "1068\n",
            "1069\n",
            "1070\n",
            "1071\n",
            "1072\n",
            "1073\n",
            "1074\n",
            "1075\n",
            "1076\n",
            "1077\n",
            "1078\n",
            "1079\n",
            "1080\n",
            "An exception occurred, classify_lang\n",
            "1081\n",
            "1082\n",
            "1083\n",
            "1084\n",
            "1085\n",
            "1086\n",
            "1087\n",
            "1088\n",
            "1089\n",
            "1090\n",
            "1091\n",
            "1092\n",
            "1093\n",
            "1094\n",
            "1095\n",
            "1096\n",
            "1097\n",
            "1098\n",
            "1099\n",
            "1100\n",
            "1101\n",
            "1102\n",
            "1103\n",
            "1104\n",
            "1105\n",
            "1106\n",
            "1107\n",
            "1108\n",
            "1109\n",
            "1110\n",
            "1111\n",
            "1112\n",
            "1113\n",
            "1114\n"
          ]
        }
      ]
    },
    {
      "cell_type": "code",
      "source": [
        "cols = [\"id\",\"author_id\",\"tweet\",\"geo\",\"created_at\",\"source\",\"sentiment\"]\n",
        "df = pd.DataFrame(list_of_lists, columns=cols)\n",
        "df.head()"
      ],
      "metadata": {
        "id": "TVCP34AZPJfO"
      },
      "execution_count": null,
      "outputs": []
    },
    {
      "cell_type": "code",
      "source": [
        "df.describe()"
      ],
      "metadata": {
        "id": "9GXn3GqAk7bb"
      },
      "execution_count": null,
      "outputs": []
    },
    {
      "cell_type": "code",
      "source": [
        "df.info()"
      ],
      "metadata": {
        "id": "xE-EkQxhlB-X"
      },
      "execution_count": null,
      "outputs": []
    },
    {
      "cell_type": "code",
      "source": [
        "df['sentiment'].value_counts()"
      ],
      "metadata": {
        "id": "J2Caex41ce6a"
      },
      "execution_count": null,
      "outputs": []
    },
    {
      "cell_type": "code",
      "source": [
        "df = df.astype(str).apply(lambda x: x.str.encode('ascii', 'ignore').str.decode('ascii'))"
      ],
      "metadata": {
        "id": "XvLLcTsQVqnl"
      },
      "execution_count": null,
      "outputs": []
    },
    {
      "cell_type": "code",
      "source": [
        "df = df.replace(r'\\r+|\\n+|\\t+',' ', regex=True)"
      ],
      "metadata": {
        "id": "-HbNId_qVxyh"
      },
      "execution_count": null,
      "outputs": []
    },
    {
      "cell_type": "code",
      "source": [
        "df.isnull().any()"
      ],
      "metadata": {
        "id": "nuUHctuRV_t0"
      },
      "execution_count": null,
      "outputs": []
    },
    {
      "cell_type": "code",
      "source": [
        "import time\n",
        "epoch_time = int(time.time())"
      ],
      "metadata": {
        "id": "-BqjZFqZQtXy"
      },
      "execution_count": null,
      "outputs": []
    },
    {
      "cell_type": "code",
      "source": [
        "df.to_csv(\"tweets_annotated.{}.csv\".format(epoch_time), header=cols, index=False, escapechar=\"\\\\\", encoding='utf-8')"
      ],
      "metadata": {
        "id": "2Sv7U7TeVG0g"
      },
      "execution_count": null,
      "outputs": []
    },
    {
      "cell_type": "code",
      "source": [
        "test_df = pd.read_csv(\"tweets_annotated.{}.csv\".format(epoch_time))"
      ],
      "metadata": {
        "id": "XoQqKowjWZPD"
      },
      "execution_count": null,
      "outputs": []
    },
    {
      "cell_type": "code",
      "source": [
        "test_df.head(5)"
      ],
      "metadata": {
        "id": "TRumQoyRWgyM"
      },
      "execution_count": null,
      "outputs": []
    },
    {
      "cell_type": "code",
      "source": [
        "test_df['sentiment']. value_counts()"
      ],
      "metadata": {
        "id": "CeV_44HPWi9e"
      },
      "execution_count": null,
      "outputs": []
    },
    {
      "cell_type": "code",
      "source": [
        "test_df.info()"
      ],
      "metadata": {
        "id": "N1iPYumYWnNE"
      },
      "execution_count": null,
      "outputs": []
    },
    {
      "cell_type": "code",
      "source": [
        ""
      ],
      "metadata": {
        "id": "zmT_nZtLxzqU"
      },
      "execution_count": null,
      "outputs": []
    }
  ]
}