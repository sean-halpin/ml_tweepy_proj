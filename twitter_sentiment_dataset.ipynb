{
  "nbformat": 4,
  "nbformat_minor": 0,
  "metadata": {
    "colab": {
      "name": "twitter_sentiment_dataset.ipynb",
      "provenance": [],
      "authorship_tag": "ABX9TyP8dzWFch6elIppfj2RlLYI",
      "include_colab_link": true
    },
    "kernelspec": {
      "name": "python3",
      "display_name": "Python 3"
    },
    "language_info": {
      "name": "python"
    }
  },
  "cells": [
    {
      "cell_type": "markdown",
      "metadata": {
        "id": "view-in-github",
        "colab_type": "text"
      },
      "source": [
        "<a href=\"https://colab.research.google.com/github/sean-halpin/ml_tweepy_proj/blob/main/twitter_sentiment_dataset.ipynb\" target=\"_parent\"><img src=\"https://colab.research.google.com/assets/colab-badge.svg\" alt=\"Open In Colab\"/></a>"
      ]
    },
    {
      "cell_type": "code",
      "source": [
        "!pip install tweepy --upgrade"
      ],
      "metadata": {
        "id": "nMBVkxnNOFfB"
      },
      "execution_count": null,
      "outputs": []
    },
    {
      "cell_type": "code",
      "execution_count": null,
      "metadata": {
        "id": "i3GzmremJ_al"
      },
      "outputs": [],
      "source": [
        "from google.colab import drive\n",
        "drive.mount('/content/drive/')\n",
        "import os\n",
        "os.chdir(\"/content/drive/My Drive/Colab Notebooks\")"
      ]
    },
    {
      "cell_type": "code",
      "source": [
        "BEARER_TOKEN = \"\""
      ],
      "metadata": {
        "id": "46mmsl-oNpCX"
      },
      "execution_count": 2,
      "outputs": []
    },
    {
      "cell_type": "code",
      "source": [
        "!pip install transformers"
      ],
      "metadata": {
        "colab": {
          "base_uri": "https://localhost:8080/"
        },
        "id": "mgRABScwS5F6",
        "outputId": "5100dc48-5247-4e31-c20d-1ba8f6feca99"
      },
      "execution_count": 13,
      "outputs": [
        {
          "output_type": "stream",
          "name": "stdout",
          "text": [
            "Successfully installed huggingface-hub-0.4.0 pyyaml-6.0 sacremoses-0.0.47 tokenizers-0.11.6 transformers-4.17.0\n"
          ]
        }
      ]
    },
    {
      "cell_type": "code",
      "source": [
        "from transformers import AutoModelForSequenceClassification\n",
        "from transformers import TFAutoModelForSequenceClassification\n",
        "from transformers import AutoTokenizer\n",
        "import numpy as np\n",
        "from scipy.special import softmax\n",
        "import csv\n",
        "import urllib.request\n",
        "\n",
        "# Preprocess text (username and link placeholders)\n",
        "def preprocess(text):\n",
        "    new_text = []\n",
        " \n",
        " \n",
        "    for t in text.split(\" \"):\n",
        "        t = '@user' if t.startswith('@') and len(t) > 1 else t\n",
        "        t = 'http' if t.startswith('http') else t\n",
        "        new_text.append(t)\n",
        "    return \" \".join(new_text)\n",
        "\n",
        "# Tasks:\n",
        "# emoji, emotion, hate, irony, offensive, sentiment\n",
        "# stance/abortion, stance/atheism, stance/climate, stance/feminist, stance/hillary\n",
        "\n",
        "task='sentiment'\n",
        "MODEL = f\"cardiffnlp/twitter-roberta-base-{task}\"\n",
        "\n",
        "tokenizer = AutoTokenizer.from_pretrained(MODEL)\n",
        "\n",
        "# download label mapping\n",
        "labels=[]\n",
        "mapping_link = f\"https://raw.githubusercontent.com/cardiffnlp/tweeteval/main/datasets/{task}/mapping.txt\"\n",
        "with urllib.request.urlopen(mapping_link) as f:\n",
        "    html = f.read().decode('utf-8').split(\"\\n\")\n",
        "    csvreader = csv.reader(html, delimiter='\\t')\n",
        "labels = [row[1] for row in csvreader if len(row) > 1]\n",
        "\n",
        "# PT\n",
        "model = AutoModelForSequenceClassification.from_pretrained(MODEL)\n",
        "model.save_pretrained(MODEL)"
      ],
      "metadata": {
        "id": "wtlPl7MpTR67"
      },
      "execution_count": null,
      "outputs": []
    },
    {
      "cell_type": "code",
      "source": [
        "import tweepy\n",
        "\n",
        "client = tweepy.Client(\n",
        "    bearer_token=BT\n",
        ")"
      ],
      "metadata": {
        "id": "s8LQY43IL8Gj"
      },
      "execution_count": 3,
      "outputs": []
    },
    {
      "cell_type": "code",
      "source": [
        "search_result = client.search_recent_tweets(query=\"russia -is:retweet\",max_results=10)"
      ],
      "metadata": {
        "id": "V0jjBFNWNDbZ"
      },
      "execution_count": 11,
      "outputs": []
    },
    {
      "cell_type": "code",
      "source": [
        "import pandas as pd\n"
      ],
      "metadata": {
        "id": "jLOCKOTTUr85"
      },
      "execution_count": 32,
      "outputs": []
    },
    {
      "cell_type": "code",
      "source": [
        "list_of_lists = []\n",
        "i=0\n",
        "for sr in search_result.data:\n",
        "\n",
        "  print(\"{}:{}\".format(i,sr.text))\n",
        "  i+=1\n",
        "  text = sr.text\n",
        "  text = preprocess(text)\n",
        "  encoded_input = tokenizer(text, return_tensors='pt')\n",
        "  output = model(**encoded_input)\n",
        "  scores = output[0][0].detach().numpy()\n",
        "  scores = softmax(scores)\n",
        "\n",
        "  ranking = np.argsort(scores)\n",
        "  ranking = ranking[::-1]\n",
        "\n",
        "  for i in range(scores.shape[0]):\n",
        "      l = labels[ranking[i]]\n",
        "      s = scores[ranking[i]]\n",
        "      print(f\"\\t{i+1}) {l} {np.round(float(s), 4)}\")\n",
        "  print()\n",
        "  list_of_lists.append([sr.text, str(labels[ranking[0]])])"
      ],
      "metadata": {
        "colab": {
          "base_uri": "https://localhost:8080/"
        },
        "id": "cT5WuFbETeKw",
        "outputId": "33a2e604-7d81-40e1-ec2c-06f840bbdce9"
      },
      "execution_count": 33,
      "outputs": [
        {
          "output_type": "stream",
          "name": "stdout",
          "text": [
            "0:@hardcorehunte17 @phildstewart Russia didn’t give anyone much of a choice.  Sucks to be RU.\n",
            "\t1) negative 0.8852\n",
            "\t2) neutral 0.1051\n",
            "\t3) positive 0.0096\n",
            "\n",
            "2:L’ambaixada de #Rússia recolzant públicament i explícitament (amb citació personal inclosa) la postura de C. Montaner.\n",
            "\n",
            "No puc imaginar una vergonya més gran.\n",
            "\n",
            "L’ambaixada russa avisa Andorra que les relacions bilaterals queden malmeses via @AltaveuAndorra https://t.co/lEUlPJikOB\n",
            "\t1) neutral 0.8239\n",
            "\t2) negative 0.1304\n",
            "\t3) positive 0.0456\n",
            "\n",
            "2:Even without Russia's small drums, the tech investment beat goes on  The tech market has plenty of problems to contend with in 2022 and beyond but demand is not currently one of them. What is complicating prognostications for the wider global ICT market... https://t.co/pLG6mU2QUX\n",
            "\t1) negative 0.5969\n",
            "\t2) neutral 0.3574\n",
            "\t3) positive 0.0457\n",
            "\n",
            "2:12th day of special military operation by Russian Federation inside T-Borderland (#Ukraine). Look back last 3 days. #Donbass #Russia \n",
            "https://t.co/qxdF2e4geV\n",
            "\t1) neutral 0.8127\n",
            "\t2) negative 0.1435\n",
            "\t3) positive 0.0438\n",
            "\n",
            "2:Latvian Foreign Minister Edgars Rinkevics on Monday called for a permanent presence of U.S. troops in Latvia following Russia's invasion of Ukraine. https://t.co/BURy4VsJB9\n",
            "\t1) neutral 0.7685\n",
            "\t2) negative 0.2056\n",
            "\t3) positive 0.0259\n",
            "\n",
            "2:@RussianEmbassy @mfa_russia @FCDOGovUK @trussliz @DefenceHQ @RusEmbUSA @RussiaUN @BBCWorld @FT @REESOxford @guardian бред сивой кобылы\n",
            "\t1) neutral 0.8229\n",
            "\t2) negative 0.1092\n",
            "\t3) positive 0.0679\n",
            "\n",
            "2:@RussianEmbassy @mfa_russia @FCDOGovUK @trussliz @DefenceHQ @RusEmbUSA @RussiaUN @BBCWorld @FT @REESOxford @guardian https://t.co/unszZNQhmy\n",
            "\t1) neutral 0.725\n",
            "\t2) positive 0.1547\n",
            "\t3) negative 0.1203\n",
            "\n",
            "2:Assuming escalation continues and China stays loyal to their ally, Russia. The stock market is over for years lmao\n",
            "\t1) negative 0.6218\n",
            "\t2) neutral 0.3377\n",
            "\t3) positive 0.0405\n",
            "\n",
            "2:@BlogdoNoblat Essa enquete é de quem não sabe nada de política internacional. O Putin é um líder deplorável, mas essa guerra é culpa da OTAN que quer colocar mísseis no vizinho da Rússia. Por que existe a OTAN depois da queda da URSS? Seria bom estudar.\n",
            "\t1) neutral 0.685\n",
            "\t2) negative 0.2631\n",
            "\t3) positive 0.052\n",
            "\n",
            "2:There is no alternative for the U.S and its allies but to  accommodate Russia's concern about NATO expansion  so close to its borders. Is it necessary for Ukraine to be a member of NATO? This stalemate is as bad to the West as to Russia.\n",
            "\t1) negative 0.812\n",
            "\t2) neutral 0.1793\n",
            "\t3) positive 0.0087\n",
            "\n"
          ]
        }
      ]
    },
    {
      "cell_type": "code",
      "source": [
        "cols = [\"tweet\", \"sentiment\"]\n",
        "df = pd.DataFrame(list_of_lists, columns=cols)\n",
        "df.head()"
      ],
      "metadata": {
        "colab": {
          "base_uri": "https://localhost:8080/",
          "height": 206
        },
        "id": "TVCP34AZPJfO",
        "outputId": "64b50100-d81a-474d-ef43-3d89756a0dc7"
      },
      "execution_count": 37,
      "outputs": [
        {
          "output_type": "execute_result",
          "data": {
            "text/html": [
              "\n",
              "  <div id=\"df-58b8ffff-7fd8-460c-a083-00520deef782\">\n",
              "    <div class=\"colab-df-container\">\n",
              "      <div>\n",
              "<style scoped>\n",
              "    .dataframe tbody tr th:only-of-type {\n",
              "        vertical-align: middle;\n",
              "    }\n",
              "\n",
              "    .dataframe tbody tr th {\n",
              "        vertical-align: top;\n",
              "    }\n",
              "\n",
              "    .dataframe thead th {\n",
              "        text-align: right;\n",
              "    }\n",
              "</style>\n",
              "<table border=\"1\" class=\"dataframe\">\n",
              "  <thead>\n",
              "    <tr style=\"text-align: right;\">\n",
              "      <th></th>\n",
              "      <th>tweet</th>\n",
              "      <th>sentiment</th>\n",
              "    </tr>\n",
              "  </thead>\n",
              "  <tbody>\n",
              "    <tr>\n",
              "      <th>0</th>\n",
              "      <td>@hardcorehunte17 @phildstewart Russia didn’t g...</td>\n",
              "      <td>negative</td>\n",
              "    </tr>\n",
              "    <tr>\n",
              "      <th>1</th>\n",
              "      <td>L’ambaixada de #Rússia recolzant públicament i...</td>\n",
              "      <td>neutral</td>\n",
              "    </tr>\n",
              "    <tr>\n",
              "      <th>2</th>\n",
              "      <td>Even without Russia's small drums, the tech in...</td>\n",
              "      <td>negative</td>\n",
              "    </tr>\n",
              "    <tr>\n",
              "      <th>3</th>\n",
              "      <td>12th day of special military operation by Russ...</td>\n",
              "      <td>neutral</td>\n",
              "    </tr>\n",
              "    <tr>\n",
              "      <th>4</th>\n",
              "      <td>Latvian Foreign Minister Edgars Rinkevics on M...</td>\n",
              "      <td>neutral</td>\n",
              "    </tr>\n",
              "  </tbody>\n",
              "</table>\n",
              "</div>\n",
              "      <button class=\"colab-df-convert\" onclick=\"convertToInteractive('df-58b8ffff-7fd8-460c-a083-00520deef782')\"\n",
              "              title=\"Convert this dataframe to an interactive table.\"\n",
              "              style=\"display:none;\">\n",
              "        \n",
              "  <svg xmlns=\"http://www.w3.org/2000/svg\" height=\"24px\"viewBox=\"0 0 24 24\"\n",
              "       width=\"24px\">\n",
              "    <path d=\"M0 0h24v24H0V0z\" fill=\"none\"/>\n",
              "    <path d=\"M18.56 5.44l.94 2.06.94-2.06 2.06-.94-2.06-.94-.94-2.06-.94 2.06-2.06.94zm-11 1L8.5 8.5l.94-2.06 2.06-.94-2.06-.94L8.5 2.5l-.94 2.06-2.06.94zm10 10l.94 2.06.94-2.06 2.06-.94-2.06-.94-.94-2.06-.94 2.06-2.06.94z\"/><path d=\"M17.41 7.96l-1.37-1.37c-.4-.4-.92-.59-1.43-.59-.52 0-1.04.2-1.43.59L10.3 9.45l-7.72 7.72c-.78.78-.78 2.05 0 2.83L4 21.41c.39.39.9.59 1.41.59.51 0 1.02-.2 1.41-.59l7.78-7.78 2.81-2.81c.8-.78.8-2.07 0-2.86zM5.41 20L4 18.59l7.72-7.72 1.47 1.35L5.41 20z\"/>\n",
              "  </svg>\n",
              "      </button>\n",
              "      \n",
              "  <style>\n",
              "    .colab-df-container {\n",
              "      display:flex;\n",
              "      flex-wrap:wrap;\n",
              "      gap: 12px;\n",
              "    }\n",
              "\n",
              "    .colab-df-convert {\n",
              "      background-color: #E8F0FE;\n",
              "      border: none;\n",
              "      border-radius: 50%;\n",
              "      cursor: pointer;\n",
              "      display: none;\n",
              "      fill: #1967D2;\n",
              "      height: 32px;\n",
              "      padding: 0 0 0 0;\n",
              "      width: 32px;\n",
              "    }\n",
              "\n",
              "    .colab-df-convert:hover {\n",
              "      background-color: #E2EBFA;\n",
              "      box-shadow: 0px 1px 2px rgba(60, 64, 67, 0.3), 0px 1px 3px 1px rgba(60, 64, 67, 0.15);\n",
              "      fill: #174EA6;\n",
              "    }\n",
              "\n",
              "    [theme=dark] .colab-df-convert {\n",
              "      background-color: #3B4455;\n",
              "      fill: #D2E3FC;\n",
              "    }\n",
              "\n",
              "    [theme=dark] .colab-df-convert:hover {\n",
              "      background-color: #434B5C;\n",
              "      box-shadow: 0px 1px 3px 1px rgba(0, 0, 0, 0.15);\n",
              "      filter: drop-shadow(0px 1px 2px rgba(0, 0, 0, 0.3));\n",
              "      fill: #FFFFFF;\n",
              "    }\n",
              "  </style>\n",
              "\n",
              "      <script>\n",
              "        const buttonEl =\n",
              "          document.querySelector('#df-58b8ffff-7fd8-460c-a083-00520deef782 button.colab-df-convert');\n",
              "        buttonEl.style.display =\n",
              "          google.colab.kernel.accessAllowed ? 'block' : 'none';\n",
              "\n",
              "        async function convertToInteractive(key) {\n",
              "          const element = document.querySelector('#df-58b8ffff-7fd8-460c-a083-00520deef782');\n",
              "          const dataTable =\n",
              "            await google.colab.kernel.invokeFunction('convertToInteractive',\n",
              "                                                     [key], {});\n",
              "          if (!dataTable) return;\n",
              "\n",
              "          const docLinkHtml = 'Like what you see? Visit the ' +\n",
              "            '<a target=\"_blank\" href=https://colab.research.google.com/notebooks/data_table.ipynb>data table notebook</a>'\n",
              "            + ' to learn more about interactive tables.';\n",
              "          element.innerHTML = '';\n",
              "          dataTable['output_type'] = 'display_data';\n",
              "          await google.colab.output.renderOutput(dataTable, element);\n",
              "          const docLink = document.createElement('div');\n",
              "          docLink.innerHTML = docLinkHtml;\n",
              "          element.appendChild(docLink);\n",
              "        }\n",
              "      </script>\n",
              "    </div>\n",
              "  </div>\n",
              "  "
            ],
            "text/plain": [
              "                                               tweet sentiment\n",
              "0  @hardcorehunte17 @phildstewart Russia didn’t g...  negative\n",
              "1  L’ambaixada de #Rússia recolzant públicament i...   neutral\n",
              "2  Even without Russia's small drums, the tech in...  negative\n",
              "3  12th day of special military operation by Russ...   neutral\n",
              "4  Latvian Foreign Minister Edgars Rinkevics on M...   neutral"
            ]
          },
          "metadata": {},
          "execution_count": 37
        }
      ]
    },
    {
      "cell_type": "code",
      "source": [
        "df.to_csv(\"tweets_annotated.csv\", header=cols, index=False)"
      ],
      "metadata": {
        "id": "2Sv7U7TeVG0g"
      },
      "execution_count": 38,
      "outputs": []
    },
    {
      "cell_type": "code",
      "source": [
        ""
      ],
      "metadata": {
        "id": "XoQqKowjWZPD"
      },
      "execution_count": null,
      "outputs": []
    }
  ]
}