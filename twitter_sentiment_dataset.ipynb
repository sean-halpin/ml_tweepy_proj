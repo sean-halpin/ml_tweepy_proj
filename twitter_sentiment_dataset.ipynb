{
  "nbformat": 4,
  "nbformat_minor": 0,
  "metadata": {
    "colab": {
      "name": "twitter_sentiment_dataset.ipynb",
      "provenance": [],
      "authorship_tag": "ABX9TyP6EcRSa/XBr0VSt2PkFW5q",
      "include_colab_link": true
    },
    "kernelspec": {
      "name": "python3",
      "display_name": "Python 3"
    },
    "language_info": {
      "name": "python"
    }
  },
  "cells": [
    {
      "cell_type": "markdown",
      "metadata": {
        "id": "view-in-github",
        "colab_type": "text"
      },
      "source": [
        "<a href=\"https://colab.research.google.com/github/sean-halpin/ml_tweepy_proj/blob/main/twitter_sentiment_dataset.ipynb\" target=\"_parent\"><img src=\"https://colab.research.google.com/assets/colab-badge.svg\" alt=\"Open In Colab\"/></a>"
      ]
    },
    {
      "cell_type": "code",
      "source": [
        "!pip install tweepy --upgrade"
      ],
      "metadata": {
        "id": "nMBVkxnNOFfB"
      },
      "execution_count": null,
      "outputs": []
    },
    {
      "cell_type": "code",
      "execution_count": null,
      "metadata": {
        "id": "i3GzmremJ_al"
      },
      "outputs": [],
      "source": [
        "from google.colab import drive\n",
        "drive.mount('/content/drive/')\n",
        "import os\n",
        "os.chdir(\"/content/drive/My Drive/Colab Notebooks\")"
      ]
    },
    {
      "cell_type": "code",
      "source": [
        "BEARER_TOKEN = \"\""
      ],
      "metadata": {
        "id": "46mmsl-oNpCX"
      },
      "execution_count": null,
      "outputs": []
    },
    {
      "cell_type": "code",
      "source": [
        "!pip install transformers"
      ],
      "metadata": {
        "id": "mgRABScwS5F6"
      },
      "execution_count": null,
      "outputs": []
    },
    {
      "cell_type": "code",
      "source": [
        "from transformers import AutoModelForSequenceClassification\n",
        "from transformers import TFAutoModelForSequenceClassification\n",
        "from transformers import AutoTokenizer\n",
        "import numpy as np\n",
        "from scipy.special import softmax\n",
        "import csv\n",
        "import urllib.request"
      ],
      "metadata": {
        "id": "wtlPl7MpTR67"
      },
      "execution_count": null,
      "outputs": []
    },
    {
      "cell_type": "code",
      "source": [
        "# Preprocess text (username and link placeholders)\n",
        "def preprocess(text):\n",
        "    new_text = []\n",
        " \n",
        " \n",
        "    for t in text.split(\" \"):\n",
        "        t = '@user' if t.startswith('@') and len(t) > 1 else t\n",
        "        t = 'http' if t.startswith('http') else t\n",
        "        new_text.append(t)\n",
        "    return \" \".join(new_text)"
      ],
      "metadata": {
        "id": "hObN96z9cKjM"
      },
      "execution_count": null,
      "outputs": []
    },
    {
      "cell_type": "code",
      "source": [
        "# Tasks:\n",
        "# emoji, emotion, hate, irony, offensive, sentiment\n",
        "# stance/abortion, stance/atheism, stance/climate, stance/feminist, stance/hillary\n",
        "\n",
        "task='sentiment'\n",
        "MODEL = f\"cardiffnlp/twitter-roberta-base-{task}\"\n",
        "\n",
        "tokenizer = AutoTokenizer.from_pretrained(MODEL)\n",
        "# download label mapping\n",
        "labels=[]\n",
        "mapping_link = f\"https://raw.githubusercontent.com/cardiffnlp/tweeteval/main/datasets/{task}/mapping.txt\"\n",
        "with urllib.request.urlopen(mapping_link) as f:\n",
        "    html = f.read().decode('utf-8').split(\"\\n\")\n",
        "    csvreader = csv.reader(html, delimiter='\\t')\n",
        "labels = [row[1] for row in csvreader if len(row) > 1]\n",
        "\n",
        "# PT\n",
        "model = AutoModelForSequenceClassification.from_pretrained(MODEL)\n",
        "model.save_pretrained(MODEL)\n",
        "tokenizer.save_pretrained(MODEL)"
      ],
      "metadata": {
        "id": "Vbmni7cecOY7"
      },
      "execution_count": null,
      "outputs": []
    },
    {
      "cell_type": "code",
      "source": [
        "API_KEY=\"\"\n",
        "API_SECRET=\"\"\n",
        "ACCESS_TOKEN=\"\"\n",
        "ACCESS_TOKEN_SECRET=\"\""
      ],
      "metadata": {
        "id": "tkeGct82zfEt"
      },
      "execution_count": null,
      "outputs": []
    },
    {
      "cell_type": "code",
      "source": [
        "import tweepy as tpy\n",
        "import tweepy as tweepy\n",
        "import pandas as pd\n",
        "\n",
        "client = tweepy.Client(\n",
        "    bearer_token=BEARER_TOKEN\n",
        ")"
      ],
      "metadata": {
        "id": "s8LQY43IL8Gj"
      },
      "execution_count": null,
      "outputs": []
    },
    {
      "cell_type": "code",
      "source": [
        "search_result=[]\n",
        "for tweet in tweepy.Paginator(client.search_recent_tweets, \"elon musk -is:retweet\",\n",
        "                              max_results=100, tweet_fields=['created_at','geo','public_metrics']).flatten(limit=3500):\n",
        "  search_result.append(tweet)"
      ],
      "metadata": {
        "id": "T7sn5gb8QKIS"
      },
      "execution_count": null,
      "outputs": []
    },
    {
      "cell_type": "code",
      "source": [
        "print(search_result[0].text)\n",
        "print(search_result[0].created_at)\n",
        "print(search_result[0].geo)\n",
        "print(search_result[0].public_metrics)\n"
      ],
      "metadata": {
        "id": "gq7Zi5Js70KS"
      },
      "execution_count": null,
      "outputs": []
    },
    {
      "cell_type": "code",
      "source": [
        "!pip install langdetect"
      ],
      "metadata": {
        "id": "d6Xa3fX-htf-"
      },
      "execution_count": null,
      "outputs": []
    },
    {
      "cell_type": "code",
      "source": [
        "from langdetect import detect\n",
        "\n",
        "def classify_lang(input_text):\n",
        "  result = None\n",
        "  try:\n",
        "    result = detect(input_text)\n",
        "  except:\n",
        "    print(\"An exception occurred, classify_lang\")\n",
        "  return result"
      ],
      "metadata": {
        "id": "hP7tYEzffFyY"
      },
      "execution_count": null,
      "outputs": []
    },
    {
      "cell_type": "code",
      "source": [
        "list_of_lists = []\n",
        "i=0\n",
        "for sr in search_result:\n",
        "  i+=1\n",
        "  if (classify_lang(sr.text) == \"en\"):\n",
        "    text = sr.text\n",
        "    print(text)\n",
        "    text = preprocess(text)\n",
        "    encoded_input = tokenizer(text, return_tensors='pt')\n",
        "    output = model(**encoded_input)\n",
        "    scores = output[0][0].detach().numpy()\n",
        "    scores = softmax(scores)\n",
        "\n",
        "    ranking = np.argsort(scores)\n",
        "    ranking = ranking[::-1]\n",
        "\n",
        "    list_of_lists.append([sr.text,sr.geo, sr.created_at, str(labels[ranking[0]])])"
      ],
      "metadata": {
        "id": "cT5WuFbETeKw",
        "outputId": "9edd0e21-0eb4-42f5-9b8d-0b28ce782973",
        "colab": {
          "base_uri": "https://localhost:8080/"
        }
      },
      "execution_count": null,
      "outputs": [
        {
          "output_type": "stream",
          "name": "stdout",
          "text": [
            "@DebbieG68107721 @antifaoperative Exactly!!!!! Elon Musk could single handedly end homeless in this country.\n",
            "@BagdMilkSoWhat Elon Musk is a tech businessman. He is not a great engineer. He is out of touch and needs to focuse on what he’s good at leveraging tech.\n",
            "@crypto Great stuff Elon Musk!!! https://t.co/Z3TNgvjLaB\n",
            "@souljaboy Great stuff Elon Musk!!! https://t.co/J0kVPYnvmy\n",
            "And yes, let's get Roger McNamee to call elon \"nuts\"\n",
            "\n",
            "@elonmusk who I've never met a top gun engineer call \"amazing\"\n",
            "\n",
            "https://t.co/JUMwcta80X\n",
            "@mariolopezviva Elon musk is rolling on the floor right now, rent free &gt; 6.1 mansion\n",
            "The commentator wants me to panic about him saying what he wants to say. Two things :He could not cross the border between \"comment\" and \"translation\",and, the translation was  \n",
            "wrong. If the translation is wrong it will not be about \"Freedom of speech\"  https://t.co/2GUWBNzj37\n",
            "@nmontague22 @SwainForSenate So Elon Musk must pay his fair share but Disney doesn’t?\n",
            "Dans votre top trois des socially akward ?\n",
            "\n",
            "Moi j'ai\n",
            "\n",
            "1- Mark Zuckerberg\n",
            "2- Elon Musk\n",
            "3- Elizabeth Holmes\n",
            "Google search trends in Canada 🇨🇦: 1.Canucks 2.Jordan Poole 3.Calgary Flames 4.Malcolm Nance 5.District 31 6.Elon Musk Twitter tweets 7.Mattea Roach https://t.co/bowhIM3jgz\n"
          ]
        }
      ]
    },
    {
      "cell_type": "code",
      "source": [
        "cols = [\"tweet\",\"geo\",\"created_at\",\"sentiment\"]\n",
        "df = pd.DataFrame(list_of_lists, columns=cols)\n",
        "df.head()"
      ],
      "metadata": {
        "id": "TVCP34AZPJfO"
      },
      "execution_count": null,
      "outputs": []
    },
    {
      "cell_type": "code",
      "source": [
        "df.describe()"
      ],
      "metadata": {
        "id": "9GXn3GqAk7bb"
      },
      "execution_count": null,
      "outputs": []
    },
    {
      "cell_type": "code",
      "source": [
        "df.info()"
      ],
      "metadata": {
        "id": "xE-EkQxhlB-X"
      },
      "execution_count": null,
      "outputs": []
    },
    {
      "cell_type": "code",
      "source": [
        "df['sentiment'].value_counts()"
      ],
      "metadata": {
        "id": "J2Caex41ce6a"
      },
      "execution_count": null,
      "outputs": []
    },
    {
      "cell_type": "code",
      "source": [
        "df = df.astype(str).apply(lambda x: x.str.encode('ascii', 'ignore').str.decode('ascii'))"
      ],
      "metadata": {
        "id": "XvLLcTsQVqnl"
      },
      "execution_count": null,
      "outputs": []
    },
    {
      "cell_type": "code",
      "source": [
        "df = df.replace(r'\\r+|\\n+|\\t+',' ', regex=True)"
      ],
      "metadata": {
        "id": "-HbNId_qVxyh"
      },
      "execution_count": null,
      "outputs": []
    },
    {
      "cell_type": "code",
      "source": [
        "df.isnull().any()"
      ],
      "metadata": {
        "id": "nuUHctuRV_t0"
      },
      "execution_count": null,
      "outputs": []
    },
    {
      "cell_type": "code",
      "source": [
        "import time\n",
        "epoch_time = int(time.time())"
      ],
      "metadata": {
        "id": "-BqjZFqZQtXy"
      },
      "execution_count": null,
      "outputs": []
    },
    {
      "cell_type": "code",
      "source": [
        "df.to_csv(\"tweets_annotated.{}.csv\".format(epoch_time), header=cols, index=False, escapechar=\"\\\\\", encoding='utf-8')"
      ],
      "metadata": {
        "id": "2Sv7U7TeVG0g"
      },
      "execution_count": null,
      "outputs": []
    },
    {
      "cell_type": "code",
      "source": [
        "test_df = pd.read_csv(\"tweets_annotated.{}.csv\".format(epoch_time))"
      ],
      "metadata": {
        "id": "XoQqKowjWZPD"
      },
      "execution_count": null,
      "outputs": []
    },
    {
      "cell_type": "code",
      "source": [
        "test_df.head(5)"
      ],
      "metadata": {
        "id": "TRumQoyRWgyM"
      },
      "execution_count": null,
      "outputs": []
    },
    {
      "cell_type": "code",
      "source": [
        "test_df['sentiment']. value_counts()"
      ],
      "metadata": {
        "id": "CeV_44HPWi9e"
      },
      "execution_count": null,
      "outputs": []
    },
    {
      "cell_type": "code",
      "source": [
        ""
      ],
      "metadata": {
        "id": "N1iPYumYWnNE"
      },
      "execution_count": null,
      "outputs": []
    }
  ]
}