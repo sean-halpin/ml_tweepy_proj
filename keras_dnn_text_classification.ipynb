{
  "nbformat": 4,
  "nbformat_minor": 0,
  "metadata": {
    "colab": {
      "name": "keras_dnn_text_classification.ipynb",
      "provenance": [],
      "include_colab_link": true
    },
    "kernelspec": {
      "name": "python3",
      "display_name": "Python 3"
    },
    "language_info": {
      "name": "python"
    }
  },
  "cells": [
    {
      "cell_type": "markdown",
      "metadata": {
        "id": "view-in-github",
        "colab_type": "text"
      },
      "source": [
        "<a href=\"https://colab.research.google.com/github/sean-halpin/ml_tweepy_proj/blob/main/keras_dnn_text_classification.ipynb\" target=\"_parent\"><img src=\"https://colab.research.google.com/assets/colab-badge.svg\" alt=\"Open In Colab\"/></a>"
      ]
    },
    {
      "cell_type": "code",
      "source": [
        "from google.colab import drive\n",
        "drive.mount('/content/drive/')\n",
        "import os\n",
        "os.chdir(\"/content/drive/My Drive/Colab Notebooks\")"
      ],
      "metadata": {
        "colab": {
          "base_uri": "https://localhost:8080/"
        },
        "id": "zT5s9ms6s9ts",
        "outputId": "4dcbdc32-3e03-49fb-8d06-c89f23e319e4"
      },
      "execution_count": 1,
      "outputs": [
        {
          "output_type": "stream",
          "name": "stdout",
          "text": [
            "Mounted at /content/drive/\n"
          ]
        }
      ]
    },
    {
      "cell_type": "code",
      "source": [
        "import numpy as np\n",
        "import pandas as pd\n",
        "import re\n",
        "import gensim\n",
        "from nltk.tokenize import TreebankWordTokenizer\n",
        "from nltk.tokenize.treebank import TreebankWordDetokenizer\n",
        "from sklearn.model_selection import train_test_split\n",
        "import tensorflow as tf"
      ],
      "metadata": {
        "id": "FwEx4tlwsxq-"
      },
      "execution_count": 27,
      "outputs": []
    },
    {
      "cell_type": "code",
      "source": [
        "df = pd.read_csv(\"tweets_annotated.1646773409.csv\")"
      ],
      "metadata": {
        "id": "UbGJkBZWs0Gy"
      },
      "execution_count": 46,
      "outputs": []
    },
    {
      "cell_type": "code",
      "source": [
        "df.head(2)"
      ],
      "metadata": {
        "id": "D_gyZ4q42YnA",
        "outputId": "ddfdd662-2cdd-4a3a-a375-bf8fc5761012",
        "colab": {
          "base_uri": "https://localhost:8080/",
          "height": 112
        }
      },
      "execution_count": 47,
      "outputs": [
        {
          "output_type": "execute_result",
          "data": {
            "text/html": [
              "\n",
              "  <div id=\"df-c6fb14f4-1268-4956-bde6-8d2b857b4458\">\n",
              "    <div class=\"colab-df-container\">\n",
              "      <div>\n",
              "<style scoped>\n",
              "    .dataframe tbody tr th:only-of-type {\n",
              "        vertical-align: middle;\n",
              "    }\n",
              "\n",
              "    .dataframe tbody tr th {\n",
              "        vertical-align: top;\n",
              "    }\n",
              "\n",
              "    .dataframe thead th {\n",
              "        text-align: right;\n",
              "    }\n",
              "</style>\n",
              "<table border=\"1\" class=\"dataframe\">\n",
              "  <thead>\n",
              "    <tr style=\"text-align: right;\">\n",
              "      <th></th>\n",
              "      <th>tweet</th>\n",
              "      <th>sentiment</th>\n",
              "    </tr>\n",
              "  </thead>\n",
              "  <tbody>\n",
              "    <tr>\n",
              "      <th>0</th>\n",
              "      <td>I want to know why the first round is branded ...</td>\n",
              "      <td>negative</td>\n",
              "    </tr>\n",
              "    <tr>\n",
              "      <th>1</th>\n",
              "      <td>@DebbieW51726281 Hi there, this will be back o...</td>\n",
              "      <td>neutral</td>\n",
              "    </tr>\n",
              "  </tbody>\n",
              "</table>\n",
              "</div>\n",
              "      <button class=\"colab-df-convert\" onclick=\"convertToInteractive('df-c6fb14f4-1268-4956-bde6-8d2b857b4458')\"\n",
              "              title=\"Convert this dataframe to an interactive table.\"\n",
              "              style=\"display:none;\">\n",
              "        \n",
              "  <svg xmlns=\"http://www.w3.org/2000/svg\" height=\"24px\"viewBox=\"0 0 24 24\"\n",
              "       width=\"24px\">\n",
              "    <path d=\"M0 0h24v24H0V0z\" fill=\"none\"/>\n",
              "    <path d=\"M18.56 5.44l.94 2.06.94-2.06 2.06-.94-2.06-.94-.94-2.06-.94 2.06-2.06.94zm-11 1L8.5 8.5l.94-2.06 2.06-.94-2.06-.94L8.5 2.5l-.94 2.06-2.06.94zm10 10l.94 2.06.94-2.06 2.06-.94-2.06-.94-.94-2.06-.94 2.06-2.06.94z\"/><path d=\"M17.41 7.96l-1.37-1.37c-.4-.4-.92-.59-1.43-.59-.52 0-1.04.2-1.43.59L10.3 9.45l-7.72 7.72c-.78.78-.78 2.05 0 2.83L4 21.41c.39.39.9.59 1.41.59.51 0 1.02-.2 1.41-.59l7.78-7.78 2.81-2.81c.8-.78.8-2.07 0-2.86zM5.41 20L4 18.59l7.72-7.72 1.47 1.35L5.41 20z\"/>\n",
              "  </svg>\n",
              "      </button>\n",
              "      \n",
              "  <style>\n",
              "    .colab-df-container {\n",
              "      display:flex;\n",
              "      flex-wrap:wrap;\n",
              "      gap: 12px;\n",
              "    }\n",
              "\n",
              "    .colab-df-convert {\n",
              "      background-color: #E8F0FE;\n",
              "      border: none;\n",
              "      border-radius: 50%;\n",
              "      cursor: pointer;\n",
              "      display: none;\n",
              "      fill: #1967D2;\n",
              "      height: 32px;\n",
              "      padding: 0 0 0 0;\n",
              "      width: 32px;\n",
              "    }\n",
              "\n",
              "    .colab-df-convert:hover {\n",
              "      background-color: #E2EBFA;\n",
              "      box-shadow: 0px 1px 2px rgba(60, 64, 67, 0.3), 0px 1px 3px 1px rgba(60, 64, 67, 0.15);\n",
              "      fill: #174EA6;\n",
              "    }\n",
              "\n",
              "    [theme=dark] .colab-df-convert {\n",
              "      background-color: #3B4455;\n",
              "      fill: #D2E3FC;\n",
              "    }\n",
              "\n",
              "    [theme=dark] .colab-df-convert:hover {\n",
              "      background-color: #434B5C;\n",
              "      box-shadow: 0px 1px 3px 1px rgba(0, 0, 0, 0.15);\n",
              "      filter: drop-shadow(0px 1px 2px rgba(0, 0, 0, 0.3));\n",
              "      fill: #FFFFFF;\n",
              "    }\n",
              "  </style>\n",
              "\n",
              "      <script>\n",
              "        const buttonEl =\n",
              "          document.querySelector('#df-c6fb14f4-1268-4956-bde6-8d2b857b4458 button.colab-df-convert');\n",
              "        buttonEl.style.display =\n",
              "          google.colab.kernel.accessAllowed ? 'block' : 'none';\n",
              "\n",
              "        async function convertToInteractive(key) {\n",
              "          const element = document.querySelector('#df-c6fb14f4-1268-4956-bde6-8d2b857b4458');\n",
              "          const dataTable =\n",
              "            await google.colab.kernel.invokeFunction('convertToInteractive',\n",
              "                                                     [key], {});\n",
              "          if (!dataTable) return;\n",
              "\n",
              "          const docLinkHtml = 'Like what you see? Visit the ' +\n",
              "            '<a target=\"_blank\" href=https://colab.research.google.com/notebooks/data_table.ipynb>data table notebook</a>'\n",
              "            + ' to learn more about interactive tables.';\n",
              "          element.innerHTML = '';\n",
              "          dataTable['output_type'] = 'display_data';\n",
              "          await google.colab.output.renderOutput(dataTable, element);\n",
              "          const docLink = document.createElement('div');\n",
              "          docLink.innerHTML = docLinkHtml;\n",
              "          element.appendChild(docLink);\n",
              "        }\n",
              "      </script>\n",
              "    </div>\n",
              "  </div>\n",
              "  "
            ],
            "text/plain": [
              "                                               tweet sentiment\n",
              "0  I want to know why the first round is branded ...  negative\n",
              "1  @DebbieW51726281 Hi there, this will be back o...   neutral"
            ]
          },
          "metadata": {},
          "execution_count": 47
        }
      ]
    },
    {
      "cell_type": "code",
      "source": [
        "df.groupby('sentiment').nunique()"
      ],
      "metadata": {
        "id": "XEPfHaLA92Wi",
        "outputId": "d847f7dd-98a1-400e-8f00-a25db9762067",
        "colab": {
          "base_uri": "https://localhost:8080/",
          "height": 175
        }
      },
      "execution_count": 48,
      "outputs": [
        {
          "output_type": "execute_result",
          "data": {
            "text/html": [
              "\n",
              "  <div id=\"df-23323819-7710-4c2e-9fdf-6b3e39e9ad75\">\n",
              "    <div class=\"colab-df-container\">\n",
              "      <div>\n",
              "<style scoped>\n",
              "    .dataframe tbody tr th:only-of-type {\n",
              "        vertical-align: middle;\n",
              "    }\n",
              "\n",
              "    .dataframe tbody tr th {\n",
              "        vertical-align: top;\n",
              "    }\n",
              "\n",
              "    .dataframe thead th {\n",
              "        text-align: right;\n",
              "    }\n",
              "</style>\n",
              "<table border=\"1\" class=\"dataframe\">\n",
              "  <thead>\n",
              "    <tr style=\"text-align: right;\">\n",
              "      <th></th>\n",
              "      <th>tweet</th>\n",
              "    </tr>\n",
              "    <tr>\n",
              "      <th>sentiment</th>\n",
              "      <th></th>\n",
              "    </tr>\n",
              "  </thead>\n",
              "  <tbody>\n",
              "    <tr>\n",
              "      <th>negative</th>\n",
              "      <td>229</td>\n",
              "    </tr>\n",
              "    <tr>\n",
              "      <th>neutral</th>\n",
              "      <td>1361</td>\n",
              "    </tr>\n",
              "    <tr>\n",
              "      <th>positive</th>\n",
              "      <td>405</td>\n",
              "    </tr>\n",
              "  </tbody>\n",
              "</table>\n",
              "</div>\n",
              "      <button class=\"colab-df-convert\" onclick=\"convertToInteractive('df-23323819-7710-4c2e-9fdf-6b3e39e9ad75')\"\n",
              "              title=\"Convert this dataframe to an interactive table.\"\n",
              "              style=\"display:none;\">\n",
              "        \n",
              "  <svg xmlns=\"http://www.w3.org/2000/svg\" height=\"24px\"viewBox=\"0 0 24 24\"\n",
              "       width=\"24px\">\n",
              "    <path d=\"M0 0h24v24H0V0z\" fill=\"none\"/>\n",
              "    <path d=\"M18.56 5.44l.94 2.06.94-2.06 2.06-.94-2.06-.94-.94-2.06-.94 2.06-2.06.94zm-11 1L8.5 8.5l.94-2.06 2.06-.94-2.06-.94L8.5 2.5l-.94 2.06-2.06.94zm10 10l.94 2.06.94-2.06 2.06-.94-2.06-.94-.94-2.06-.94 2.06-2.06.94z\"/><path d=\"M17.41 7.96l-1.37-1.37c-.4-.4-.92-.59-1.43-.59-.52 0-1.04.2-1.43.59L10.3 9.45l-7.72 7.72c-.78.78-.78 2.05 0 2.83L4 21.41c.39.39.9.59 1.41.59.51 0 1.02-.2 1.41-.59l7.78-7.78 2.81-2.81c.8-.78.8-2.07 0-2.86zM5.41 20L4 18.59l7.72-7.72 1.47 1.35L5.41 20z\"/>\n",
              "  </svg>\n",
              "      </button>\n",
              "      \n",
              "  <style>\n",
              "    .colab-df-container {\n",
              "      display:flex;\n",
              "      flex-wrap:wrap;\n",
              "      gap: 12px;\n",
              "    }\n",
              "\n",
              "    .colab-df-convert {\n",
              "      background-color: #E8F0FE;\n",
              "      border: none;\n",
              "      border-radius: 50%;\n",
              "      cursor: pointer;\n",
              "      display: none;\n",
              "      fill: #1967D2;\n",
              "      height: 32px;\n",
              "      padding: 0 0 0 0;\n",
              "      width: 32px;\n",
              "    }\n",
              "\n",
              "    .colab-df-convert:hover {\n",
              "      background-color: #E2EBFA;\n",
              "      box-shadow: 0px 1px 2px rgba(60, 64, 67, 0.3), 0px 1px 3px 1px rgba(60, 64, 67, 0.15);\n",
              "      fill: #174EA6;\n",
              "    }\n",
              "\n",
              "    [theme=dark] .colab-df-convert {\n",
              "      background-color: #3B4455;\n",
              "      fill: #D2E3FC;\n",
              "    }\n",
              "\n",
              "    [theme=dark] .colab-df-convert:hover {\n",
              "      background-color: #434B5C;\n",
              "      box-shadow: 0px 1px 3px 1px rgba(0, 0, 0, 0.15);\n",
              "      filter: drop-shadow(0px 1px 2px rgba(0, 0, 0, 0.3));\n",
              "      fill: #FFFFFF;\n",
              "    }\n",
              "  </style>\n",
              "\n",
              "      <script>\n",
              "        const buttonEl =\n",
              "          document.querySelector('#df-23323819-7710-4c2e-9fdf-6b3e39e9ad75 button.colab-df-convert');\n",
              "        buttonEl.style.display =\n",
              "          google.colab.kernel.accessAllowed ? 'block' : 'none';\n",
              "\n",
              "        async function convertToInteractive(key) {\n",
              "          const element = document.querySelector('#df-23323819-7710-4c2e-9fdf-6b3e39e9ad75');\n",
              "          const dataTable =\n",
              "            await google.colab.kernel.invokeFunction('convertToInteractive',\n",
              "                                                     [key], {});\n",
              "          if (!dataTable) return;\n",
              "\n",
              "          const docLinkHtml = 'Like what you see? Visit the ' +\n",
              "            '<a target=\"_blank\" href=https://colab.research.google.com/notebooks/data_table.ipynb>data table notebook</a>'\n",
              "            + ' to learn more about interactive tables.';\n",
              "          element.innerHTML = '';\n",
              "          dataTable['output_type'] = 'display_data';\n",
              "          await google.colab.output.renderOutput(dataTable, element);\n",
              "          const docLink = document.createElement('div');\n",
              "          docLink.innerHTML = docLinkHtml;\n",
              "          element.appendChild(docLink);\n",
              "        }\n",
              "      </script>\n",
              "    </div>\n",
              "  </div>\n",
              "  "
            ],
            "text/plain": [
              "           tweet\n",
              "sentiment       \n",
              "negative     229\n",
              "neutral     1361\n",
              "positive     405"
            ]
          },
          "metadata": {},
          "execution_count": 48
        }
      ]
    },
    {
      "cell_type": "code",
      "source": [
        "df.isnull().sum()"
      ],
      "metadata": {
        "id": "7C3Yh0Xv-CsT",
        "outputId": "b3beb374-4f14-4fa4-d70d-638d6a659bd0",
        "colab": {
          "base_uri": "https://localhost:8080/"
        }
      },
      "execution_count": 49,
      "outputs": [
        {
          "output_type": "execute_result",
          "data": {
            "text/plain": [
              "tweet        0\n",
              "sentiment    0\n",
              "dtype: int64"
            ]
          },
          "metadata": {},
          "execution_count": 49
        }
      ]
    },
    {
      "cell_type": "code",
      "source": [
        "def depure_data(data):\n",
        "    \n",
        "    #Removing URLs with a regular expression\n",
        "    url_pattern = re.compile(r'https?://\\S+|www\\.\\S+')\n",
        "    data = url_pattern.sub(r'', data)\n",
        "\n",
        "    # Remove Emails\n",
        "    data = re.sub('\\S*@\\S*\\s?', '', data)\n",
        "\n",
        "    # Remove new line characters\n",
        "    data = re.sub('\\s+', ' ', data)\n",
        "\n",
        "    # Remove distracting single quotes\n",
        "    data = re.sub(\"\\'\", \"\", data)\n",
        "        \n",
        "    return data"
      ],
      "metadata": {
        "id": "aU7acmUbyW2F"
      },
      "execution_count": 50,
      "outputs": []
    },
    {
      "cell_type": "code",
      "source": [
        "def sent_to_words(sentences):\n",
        "    for sentence in sentences:\n",
        "        yield(gensim.utils.simple_preprocess(str(sentence),     deacc=True))"
      ],
      "metadata": {
        "id": "R-k_JEW4ycl0"
      },
      "execution_count": 51,
      "outputs": []
    },
    {
      "cell_type": "code",
      "source": [
        "def detokenize(text):\n",
        "    return TreebankWordDetokenizer().detokenize(text)"
      ],
      "metadata": {
        "id": "DoFl--TJy8U8"
      },
      "execution_count": 52,
      "outputs": []
    },
    {
      "cell_type": "code",
      "source": [
        "def labels_categorical(data):\n",
        "  labels = np.array(data)\n",
        "  y = []\n",
        "  for i in range(len(labels)):\n",
        "      if labels[i] == 'neutral':\n",
        "          y.append(0)\n",
        "      if labels[i] == 'negative':\n",
        "          y.append(1)\n",
        "      if labels[i] == 'positive':\n",
        "          y.append(2)\n",
        "  y = np.array(y)\n",
        "  labels = tf.keras.utils.to_categorical(y, 3, dtype=\"float32\")\n",
        "  del y\n",
        "  return labels"
      ],
      "metadata": {
        "id": "1SSI4v1k8J_t"
      },
      "execution_count": 53,
      "outputs": []
    },
    {
      "cell_type": "code",
      "source": [
        "labels = labels_categorical(df.sentiment)"
      ],
      "metadata": {
        "id": "1gbZIrzF8s-M"
      },
      "execution_count": 54,
      "outputs": []
    },
    {
      "cell_type": "code",
      "source": [
        "from keras.preprocessing.text import Tokenizer\n",
        "from keras.preprocessing.sequence import pad_sequences\n",
        "from keras import regularizers\n",
        "\n",
        "max_words = 5000\n",
        "max_len = 200\n",
        "\n",
        "tokenizer = Tokenizer(num_words=max_words)\n",
        "tokenizer.fit_on_texts(df.tweet)\n",
        "sequences = tokenizer.texts_to_sequences(df.tweet)\n",
        "tweets = pad_sequences(sequences, maxlen=max_len)\n",
        "print(tweets)"
      ],
      "metadata": {
        "id": "LTd9bp9gzSuk",
        "outputId": "d7cb0fff-2bd3-4ae9-bc8a-88882d8d5322",
        "colab": {
          "base_uri": "https://localhost:8080/"
        }
      },
      "execution_count": 55,
      "outputs": [
        {
          "output_type": "stream",
          "name": "stdout",
          "text": [
            "[[   0    0    0 ...    1    2 1791]\n",
            " [   0    0    0 ...  181 1134  588]\n",
            " [   0    0    0 ...    1    2 1798]\n",
            " ...\n",
            " [   0    0    0 ...    1    2   25]\n",
            " [   0    0    0 ...   39   38   41]\n",
            " [   0    0    0 ...    1    2   27]]\n"
          ]
        }
      ]
    },
    {
      "cell_type": "code",
      "source": [
        "X_train, X_test, y_train, y_test = train_test_split(tweets, labels, test_size=0.3, random_state=32)"
      ],
      "metadata": {
        "id": "vd15-FVS1MJP"
      },
      "execution_count": 56,
      "outputs": []
    },
    {
      "cell_type": "code",
      "source": [
        "from keras.models import Sequential\n",
        "from keras import layers\n",
        "from keras import regularizers\n",
        "from keras import backend as K\n",
        "from keras.callbacks import ModelCheckpoint\n",
        "from keras.layers import Embedding\n",
        "embedding_layer = Embedding(1000, 64)\n",
        "model1 = Sequential()\n",
        "model1.add(layers.Embedding(max_words, 20))\n",
        "model1.add(layers.LSTM(15,dropout=0.5))\n",
        "model1.add(layers.Dense(3,activation='softmax'))\n",
        "\n",
        "\n",
        "model1.compile(optimizer='rmsprop',loss='categorical_crossentropy', metrics=['accuracy'])\n",
        "#Implementing model checkpoins to save the best metric and do not lose it on training.\n",
        "checkpoint1 = ModelCheckpoint(\"best_model1.hdf5\", monitor='val_accuracy', verbose=1,save_best_only=True, mode='auto', period=1,save_weights_only=False)\n",
        "history = model1.fit(X_train, y_train, epochs=70,validation_data=(X_test, y_test),callbacks=[checkpoint1])"
      ],
      "metadata": {
        "id": "4SY2V_ks3X7H",
        "outputId": "1d39d02f-9a44-4cb7-972b-93d1dc15217f",
        "colab": {
          "base_uri": "https://localhost:8080/"
        }
      },
      "execution_count": 57,
      "outputs": [
        {
          "output_type": "stream",
          "name": "stdout",
          "text": [
            "WARNING:tensorflow:`period` argument is deprecated. Please use `save_freq` to specify the frequency in number of batches seen.\n",
            "Epoch 1/70\n",
            "44/44 [==============================] - ETA: 0s - loss: 0.8476 - accuracy: 0.6736\n",
            "Epoch 1: val_accuracy improved from -inf to 0.68500, saving model to best_model1.hdf5\n",
            "44/44 [==============================] - 6s 93ms/step - loss: 0.8476 - accuracy: 0.6736 - val_loss: 0.5989 - val_accuracy: 0.6850\n",
            "Epoch 2/70\n",
            "44/44 [==============================] - ETA: 0s - loss: 0.5720 - accuracy: 0.7614\n",
            "Epoch 2: val_accuracy improved from 0.68500 to 0.82500, saving model to best_model1.hdf5\n",
            "44/44 [==============================] - 3s 79ms/step - loss: 0.5720 - accuracy: 0.7614 - val_loss: 0.5178 - val_accuracy: 0.8250\n",
            "Epoch 3/70\n",
            "44/44 [==============================] - ETA: 0s - loss: 0.4931 - accuracy: 0.8171\n",
            "Epoch 3: val_accuracy improved from 0.82500 to 0.83000, saving model to best_model1.hdf5\n",
            "44/44 [==============================] - 4s 82ms/step - loss: 0.4931 - accuracy: 0.8171 - val_loss: 0.4529 - val_accuracy: 0.8300\n",
            "Epoch 4/70\n",
            "44/44 [==============================] - ETA: 0s - loss: 0.4325 - accuracy: 0.8479\n",
            "Epoch 4: val_accuracy improved from 0.83000 to 0.83833, saving model to best_model1.hdf5\n",
            "44/44 [==============================] - 3s 80ms/step - loss: 0.4325 - accuracy: 0.8479 - val_loss: 0.4010 - val_accuracy: 0.8383\n",
            "Epoch 5/70\n",
            "44/44 [==============================] - ETA: 0s - loss: 0.3703 - accuracy: 0.8636\n",
            "Epoch 5: val_accuracy did not improve from 0.83833\n",
            "44/44 [==============================] - 3s 78ms/step - loss: 0.3703 - accuracy: 0.8636 - val_loss: 0.3886 - val_accuracy: 0.8300\n",
            "Epoch 6/70\n",
            "44/44 [==============================] - ETA: 0s - loss: 0.3193 - accuracy: 0.8843\n",
            "Epoch 6: val_accuracy improved from 0.83833 to 0.84833, saving model to best_model1.hdf5\n",
            "44/44 [==============================] - 3s 79ms/step - loss: 0.3193 - accuracy: 0.8843 - val_loss: 0.3628 - val_accuracy: 0.8483\n",
            "Epoch 7/70\n",
            "44/44 [==============================] - ETA: 0s - loss: 0.3626 - accuracy: 0.8779\n",
            "Epoch 7: val_accuracy did not improve from 0.84833\n",
            "44/44 [==============================] - 4s 80ms/step - loss: 0.3626 - accuracy: 0.8779 - val_loss: 0.3552 - val_accuracy: 0.8483\n",
            "Epoch 8/70\n",
            "44/44 [==============================] - ETA: 0s - loss: 0.2518 - accuracy: 0.9057\n",
            "Epoch 8: val_accuracy did not improve from 0.84833\n",
            "44/44 [==============================] - 3s 77ms/step - loss: 0.2518 - accuracy: 0.9057 - val_loss: 0.3622 - val_accuracy: 0.8467\n",
            "Epoch 9/70\n",
            "44/44 [==============================] - ETA: 0s - loss: 0.2233 - accuracy: 0.9207\n",
            "Epoch 9: val_accuracy did not improve from 0.84833\n",
            "44/44 [==============================] - 3s 79ms/step - loss: 0.2233 - accuracy: 0.9207 - val_loss: 0.3684 - val_accuracy: 0.8317\n",
            "Epoch 10/70\n",
            "44/44 [==============================] - ETA: 0s - loss: 0.1988 - accuracy: 0.9293\n",
            "Epoch 10: val_accuracy did not improve from 0.84833\n",
            "44/44 [==============================] - 3s 78ms/step - loss: 0.1988 - accuracy: 0.9293 - val_loss: 0.3686 - val_accuracy: 0.8417\n",
            "Epoch 11/70\n",
            "44/44 [==============================] - ETA: 0s - loss: 0.1886 - accuracy: 0.9407\n",
            "Epoch 11: val_accuracy did not improve from 0.84833\n",
            "44/44 [==============================] - 3s 78ms/step - loss: 0.1886 - accuracy: 0.9407 - val_loss: 0.3834 - val_accuracy: 0.8467\n",
            "Epoch 12/70\n",
            "44/44 [==============================] - ETA: 0s - loss: 0.1667 - accuracy: 0.9443\n",
            "Epoch 12: val_accuracy improved from 0.84833 to 0.85000, saving model to best_model1.hdf5\n",
            "44/44 [==============================] - 4s 93ms/step - loss: 0.1667 - accuracy: 0.9443 - val_loss: 0.4162 - val_accuracy: 0.8500\n",
            "Epoch 13/70\n",
            "44/44 [==============================] - ETA: 0s - loss: 0.1470 - accuracy: 0.9514\n",
            "Epoch 13: val_accuracy improved from 0.85000 to 0.85833, saving model to best_model1.hdf5\n",
            "44/44 [==============================] - 3s 78ms/step - loss: 0.1470 - accuracy: 0.9514 - val_loss: 0.4353 - val_accuracy: 0.8583\n",
            "Epoch 14/70\n",
            "44/44 [==============================] - ETA: 0s - loss: 0.1428 - accuracy: 0.9514\n",
            "Epoch 14: val_accuracy did not improve from 0.85833\n",
            "44/44 [==============================] - 4s 80ms/step - loss: 0.1428 - accuracy: 0.9514 - val_loss: 0.4423 - val_accuracy: 0.8483\n",
            "Epoch 15/70\n",
            "44/44 [==============================] - ETA: 0s - loss: 0.1169 - accuracy: 0.9707\n",
            "Epoch 15: val_accuracy did not improve from 0.85833\n",
            "44/44 [==============================] - 4s 80ms/step - loss: 0.1169 - accuracy: 0.9707 - val_loss: 0.4396 - val_accuracy: 0.8533\n",
            "Epoch 16/70\n",
            "44/44 [==============================] - ETA: 0s - loss: 0.0972 - accuracy: 0.9721\n",
            "Epoch 16: val_accuracy did not improve from 0.85833\n",
            "44/44 [==============================] - 3s 79ms/step - loss: 0.0972 - accuracy: 0.9721 - val_loss: 0.4087 - val_accuracy: 0.8583\n",
            "Epoch 17/70\n",
            "44/44 [==============================] - ETA: 0s - loss: 0.0792 - accuracy: 0.9771\n",
            "Epoch 17: val_accuracy did not improve from 0.85833\n",
            "44/44 [==============================] - 3s 78ms/step - loss: 0.0792 - accuracy: 0.9771 - val_loss: 0.4161 - val_accuracy: 0.8583\n",
            "Epoch 18/70\n",
            "44/44 [==============================] - ETA: 0s - loss: 0.0744 - accuracy: 0.9821\n",
            "Epoch 18: val_accuracy improved from 0.85833 to 0.86333, saving model to best_model1.hdf5\n",
            "44/44 [==============================] - 4s 89ms/step - loss: 0.0744 - accuracy: 0.9821 - val_loss: 0.4585 - val_accuracy: 0.8633\n",
            "Epoch 19/70\n",
            "44/44 [==============================] - ETA: 0s - loss: 0.0570 - accuracy: 0.9850\n",
            "Epoch 19: val_accuracy did not improve from 0.86333\n",
            "44/44 [==============================] - 4s 80ms/step - loss: 0.0570 - accuracy: 0.9850 - val_loss: 0.4609 - val_accuracy: 0.8533\n",
            "Epoch 20/70\n",
            "44/44 [==============================] - ETA: 0s - loss: 0.0478 - accuracy: 0.9829\n",
            "Epoch 20: val_accuracy did not improve from 0.86333\n",
            "44/44 [==============================] - 3s 80ms/step - loss: 0.0478 - accuracy: 0.9829 - val_loss: 0.4465 - val_accuracy: 0.8550\n",
            "Epoch 21/70\n",
            "44/44 [==============================] - ETA: 0s - loss: 0.0445 - accuracy: 0.9886\n",
            "Epoch 21: val_accuracy improved from 0.86333 to 0.86833, saving model to best_model1.hdf5\n",
            "44/44 [==============================] - 4s 90ms/step - loss: 0.0445 - accuracy: 0.9886 - val_loss: 0.4723 - val_accuracy: 0.8683\n",
            "Epoch 22/70\n",
            "44/44 [==============================] - ETA: 0s - loss: 0.0402 - accuracy: 0.9871\n",
            "Epoch 22: val_accuracy did not improve from 0.86833\n",
            "44/44 [==============================] - 3s 78ms/step - loss: 0.0402 - accuracy: 0.9871 - val_loss: 0.4746 - val_accuracy: 0.8567\n",
            "Epoch 23/70\n",
            "44/44 [==============================] - ETA: 0s - loss: 0.0286 - accuracy: 0.9907\n",
            "Epoch 23: val_accuracy did not improve from 0.86833\n",
            "44/44 [==============================] - 3s 79ms/step - loss: 0.0286 - accuracy: 0.9907 - val_loss: 0.4965 - val_accuracy: 0.8667\n",
            "Epoch 24/70\n",
            "44/44 [==============================] - ETA: 0s - loss: 0.0312 - accuracy: 0.9914\n",
            "Epoch 24: val_accuracy did not improve from 0.86833\n",
            "44/44 [==============================] - 3s 79ms/step - loss: 0.0312 - accuracy: 0.9914 - val_loss: 0.5199 - val_accuracy: 0.8633\n",
            "Epoch 25/70\n",
            "44/44 [==============================] - ETA: 0s - loss: 0.0319 - accuracy: 0.9900\n",
            "Epoch 25: val_accuracy did not improve from 0.86833\n",
            "44/44 [==============================] - 3s 78ms/step - loss: 0.0319 - accuracy: 0.9900 - val_loss: 0.5752 - val_accuracy: 0.8600\n",
            "Epoch 26/70\n",
            "44/44 [==============================] - ETA: 0s - loss: 0.0169 - accuracy: 0.9964\n",
            "Epoch 26: val_accuracy did not improve from 0.86833\n",
            "44/44 [==============================] - 4s 80ms/step - loss: 0.0169 - accuracy: 0.9964 - val_loss: 0.5495 - val_accuracy: 0.8633\n",
            "Epoch 27/70\n",
            "44/44 [==============================] - ETA: 0s - loss: 0.0219 - accuracy: 0.9929\n",
            "Epoch 27: val_accuracy did not improve from 0.86833\n",
            "44/44 [==============================] - 3s 79ms/step - loss: 0.0219 - accuracy: 0.9929 - val_loss: 0.5453 - val_accuracy: 0.8583\n",
            "Epoch 28/70\n",
            "44/44 [==============================] - ETA: 0s - loss: 0.0102 - accuracy: 0.9979\n",
            "Epoch 28: val_accuracy did not improve from 0.86833\n",
            "44/44 [==============================] - 4s 80ms/step - loss: 0.0102 - accuracy: 0.9979 - val_loss: 0.5855 - val_accuracy: 0.8650\n",
            "Epoch 29/70\n",
            "44/44 [==============================] - ETA: 0s - loss: 0.0146 - accuracy: 0.9957\n",
            "Epoch 29: val_accuracy did not improve from 0.86833\n",
            "44/44 [==============================] - 4s 80ms/step - loss: 0.0146 - accuracy: 0.9957 - val_loss: 0.5767 - val_accuracy: 0.8650\n",
            "Epoch 30/70\n",
            "44/44 [==============================] - ETA: 0s - loss: 0.0095 - accuracy: 0.9986\n",
            "Epoch 30: val_accuracy did not improve from 0.86833\n",
            "44/44 [==============================] - 3s 79ms/step - loss: 0.0095 - accuracy: 0.9986 - val_loss: 0.6192 - val_accuracy: 0.8567\n",
            "Epoch 31/70\n",
            "44/44 [==============================] - ETA: 0s - loss: 0.0128 - accuracy: 0.9950\n",
            "Epoch 31: val_accuracy did not improve from 0.86833\n",
            "44/44 [==============================] - 4s 80ms/step - loss: 0.0128 - accuracy: 0.9950 - val_loss: 0.5987 - val_accuracy: 0.8617\n",
            "Epoch 32/70\n",
            "44/44 [==============================] - ETA: 0s - loss: 0.0116 - accuracy: 0.9964\n",
            "Epoch 32: val_accuracy did not improve from 0.86833\n",
            "44/44 [==============================] - 4s 80ms/step - loss: 0.0116 - accuracy: 0.9964 - val_loss: 0.5866 - val_accuracy: 0.8633\n",
            "Epoch 33/70\n",
            "44/44 [==============================] - ETA: 0s - loss: 0.0084 - accuracy: 0.9971\n",
            "Epoch 33: val_accuracy did not improve from 0.86833\n",
            "44/44 [==============================] - 4s 83ms/step - loss: 0.0084 - accuracy: 0.9971 - val_loss: 0.6059 - val_accuracy: 0.8567\n",
            "Epoch 34/70\n",
            "44/44 [==============================] - ETA: 0s - loss: 0.0137 - accuracy: 0.9971\n",
            "Epoch 34: val_accuracy did not improve from 0.86833\n",
            "44/44 [==============================] - 4s 83ms/step - loss: 0.0137 - accuracy: 0.9971 - val_loss: 0.6507 - val_accuracy: 0.8617\n",
            "Epoch 35/70\n",
            "44/44 [==============================] - ETA: 0s - loss: 0.0090 - accuracy: 0.9971\n",
            "Epoch 35: val_accuracy did not improve from 0.86833\n",
            "44/44 [==============================] - 4s 80ms/step - loss: 0.0090 - accuracy: 0.9971 - val_loss: 0.6395 - val_accuracy: 0.8567\n",
            "Epoch 36/70\n",
            "44/44 [==============================] - ETA: 0s - loss: 0.0060 - accuracy: 0.9971\n",
            "Epoch 36: val_accuracy did not improve from 0.86833\n",
            "44/44 [==============================] - 4s 80ms/step - loss: 0.0060 - accuracy: 0.9971 - val_loss: 0.6641 - val_accuracy: 0.8467\n",
            "Epoch 37/70\n",
            "44/44 [==============================] - ETA: 0s - loss: 0.0063 - accuracy: 0.9986\n",
            "Epoch 37: val_accuracy did not improve from 0.86833\n",
            "44/44 [==============================] - 3s 79ms/step - loss: 0.0063 - accuracy: 0.9986 - val_loss: 0.6770 - val_accuracy: 0.8483\n",
            "Epoch 38/70\n",
            "44/44 [==============================] - ETA: 0s - loss: 0.0091 - accuracy: 0.9979\n",
            "Epoch 38: val_accuracy did not improve from 0.86833\n",
            "44/44 [==============================] - 3s 79ms/step - loss: 0.0091 - accuracy: 0.9979 - val_loss: 0.6877 - val_accuracy: 0.8533\n",
            "Epoch 39/70\n",
            "44/44 [==============================] - ETA: 0s - loss: 0.0032 - accuracy: 0.9993\n",
            "Epoch 39: val_accuracy did not improve from 0.86833\n",
            "44/44 [==============================] - 3s 79ms/step - loss: 0.0032 - accuracy: 0.9993 - val_loss: 0.7676 - val_accuracy: 0.8533\n",
            "Epoch 40/70\n",
            "44/44 [==============================] - ETA: 0s - loss: 0.0073 - accuracy: 0.9979\n",
            "Epoch 40: val_accuracy did not improve from 0.86833\n",
            "44/44 [==============================] - 4s 81ms/step - loss: 0.0073 - accuracy: 0.9979 - val_loss: 0.7260 - val_accuracy: 0.8600\n",
            "Epoch 41/70\n",
            "44/44 [==============================] - ETA: 0s - loss: 0.0061 - accuracy: 0.9964\n",
            "Epoch 41: val_accuracy did not improve from 0.86833\n",
            "44/44 [==============================] - 4s 82ms/step - loss: 0.0061 - accuracy: 0.9964 - val_loss: 0.7448 - val_accuracy: 0.8567\n",
            "Epoch 42/70\n",
            "44/44 [==============================] - ETA: 0s - loss: 0.0026 - accuracy: 1.0000\n",
            "Epoch 42: val_accuracy did not improve from 0.86833\n",
            "44/44 [==============================] - 3s 78ms/step - loss: 0.0026 - accuracy: 1.0000 - val_loss: 0.7526 - val_accuracy: 0.8533\n",
            "Epoch 43/70\n",
            "44/44 [==============================] - ETA: 0s - loss: 0.0041 - accuracy: 0.9993\n",
            "Epoch 43: val_accuracy did not improve from 0.86833\n",
            "44/44 [==============================] - 4s 80ms/step - loss: 0.0041 - accuracy: 0.9993 - val_loss: 0.7844 - val_accuracy: 0.8550\n",
            "Epoch 44/70\n",
            "44/44 [==============================] - ETA: 0s - loss: 0.0051 - accuracy: 0.9993\n",
            "Epoch 44: val_accuracy did not improve from 0.86833\n",
            "44/44 [==============================] - 3s 80ms/step - loss: 0.0051 - accuracy: 0.9993 - val_loss: 0.8068 - val_accuracy: 0.8600\n",
            "Epoch 45/70\n",
            "44/44 [==============================] - ETA: 0s - loss: 0.0011 - accuracy: 1.0000\n",
            "Epoch 45: val_accuracy did not improve from 0.86833\n",
            "44/44 [==============================] - 4s 80ms/step - loss: 0.0011 - accuracy: 1.0000 - val_loss: 0.8172 - val_accuracy: 0.8500\n",
            "Epoch 46/70\n",
            "44/44 [==============================] - ETA: 0s - loss: 8.3170e-04 - accuracy: 1.0000\n",
            "Epoch 46: val_accuracy did not improve from 0.86833\n",
            "44/44 [==============================] - 4s 82ms/step - loss: 8.3170e-04 - accuracy: 1.0000 - val_loss: 0.8738 - val_accuracy: 0.8617\n",
            "Epoch 47/70\n",
            "44/44 [==============================] - ETA: 0s - loss: 0.0020 - accuracy: 0.9993\n",
            "Epoch 47: val_accuracy did not improve from 0.86833\n",
            "44/44 [==============================] - 3s 77ms/step - loss: 0.0020 - accuracy: 0.9993 - val_loss: 0.8438 - val_accuracy: 0.8467\n",
            "Epoch 48/70\n",
            "44/44 [==============================] - ETA: 0s - loss: 0.0037 - accuracy: 0.9993\n",
            "Epoch 48: val_accuracy did not improve from 0.86833\n",
            "44/44 [==============================] - 4s 80ms/step - loss: 0.0037 - accuracy: 0.9993 - val_loss: 0.8995 - val_accuracy: 0.8500\n",
            "Epoch 49/70\n",
            "44/44 [==============================] - ETA: 0s - loss: 4.9081e-04 - accuracy: 1.0000\n",
            "Epoch 49: val_accuracy did not improve from 0.86833\n",
            "44/44 [==============================] - 4s 81ms/step - loss: 4.9081e-04 - accuracy: 1.0000 - val_loss: 0.9399 - val_accuracy: 0.8500\n",
            "Epoch 50/70\n",
            "44/44 [==============================] - ETA: 0s - loss: 0.0021 - accuracy: 0.9986\n",
            "Epoch 50: val_accuracy did not improve from 0.86833\n",
            "44/44 [==============================] - 4s 81ms/step - loss: 0.0021 - accuracy: 0.9986 - val_loss: 0.9298 - val_accuracy: 0.8500\n",
            "Epoch 51/70\n",
            "44/44 [==============================] - ETA: 0s - loss: 0.0016 - accuracy: 0.9993\n",
            "Epoch 51: val_accuracy did not improve from 0.86833\n",
            "44/44 [==============================] - 4s 82ms/step - loss: 0.0016 - accuracy: 0.9993 - val_loss: 0.9145 - val_accuracy: 0.8467\n",
            "Epoch 52/70\n",
            "44/44 [==============================] - ETA: 0s - loss: 0.0084 - accuracy: 0.9971\n",
            "Epoch 52: val_accuracy did not improve from 0.86833\n",
            "44/44 [==============================] - 4s 101ms/step - loss: 0.0084 - accuracy: 0.9971 - val_loss: 0.8678 - val_accuracy: 0.8450\n",
            "Epoch 53/70\n",
            "44/44 [==============================] - ETA: 0s - loss: 0.0031 - accuracy: 0.9986\n",
            "Epoch 53: val_accuracy did not improve from 0.86833\n",
            "44/44 [==============================] - 6s 131ms/step - loss: 0.0031 - accuracy: 0.9986 - val_loss: 0.8532 - val_accuracy: 0.8467\n",
            "Epoch 54/70\n",
            "44/44 [==============================] - ETA: 0s - loss: 9.7139e-04 - accuracy: 0.9993\n",
            "Epoch 54: val_accuracy did not improve from 0.86833\n",
            "44/44 [==============================] - 5s 117ms/step - loss: 9.7139e-04 - accuracy: 0.9993 - val_loss: 0.9376 - val_accuracy: 0.8517\n",
            "Epoch 55/70\n",
            "44/44 [==============================] - ETA: 0s - loss: 0.0038 - accuracy: 0.9986\n",
            "Epoch 55: val_accuracy did not improve from 0.86833\n",
            "44/44 [==============================] - 3s 79ms/step - loss: 0.0038 - accuracy: 0.9986 - val_loss: 0.9338 - val_accuracy: 0.8500\n",
            "Epoch 56/70\n",
            "44/44 [==============================] - ETA: 0s - loss: 6.4788e-04 - accuracy: 1.0000\n",
            "Epoch 56: val_accuracy did not improve from 0.86833\n",
            "44/44 [==============================] - 4s 80ms/step - loss: 6.4788e-04 - accuracy: 1.0000 - val_loss: 0.9346 - val_accuracy: 0.8450\n",
            "Epoch 57/70\n",
            "44/44 [==============================] - ETA: 0s - loss: 0.0022 - accuracy: 0.9993\n",
            "Epoch 57: val_accuracy did not improve from 0.86833\n",
            "44/44 [==============================] - 3s 79ms/step - loss: 0.0022 - accuracy: 0.9993 - val_loss: 0.9331 - val_accuracy: 0.8450\n",
            "Epoch 58/70\n",
            "44/44 [==============================] - ETA: 0s - loss: 2.6906e-04 - accuracy: 1.0000\n",
            "Epoch 58: val_accuracy did not improve from 0.86833\n",
            "44/44 [==============================] - 6s 136ms/step - loss: 2.6906e-04 - accuracy: 1.0000 - val_loss: 0.9514 - val_accuracy: 0.8433\n",
            "Epoch 59/70\n",
            "44/44 [==============================] - ETA: 0s - loss: 5.6343e-04 - accuracy: 1.0000\n",
            "Epoch 59: val_accuracy did not improve from 0.86833\n",
            "44/44 [==============================] - 5s 106ms/step - loss: 5.6343e-04 - accuracy: 1.0000 - val_loss: 0.9986 - val_accuracy: 0.8417\n",
            "Epoch 60/70\n",
            "44/44 [==============================] - ETA: 0s - loss: 6.1058e-04 - accuracy: 1.0000\n",
            "Epoch 60: val_accuracy did not improve from 0.86833\n",
            "44/44 [==============================] - 4s 100ms/step - loss: 6.1058e-04 - accuracy: 1.0000 - val_loss: 1.0120 - val_accuracy: 0.8433\n",
            "Epoch 61/70\n",
            "44/44 [==============================] - ETA: 0s - loss: 8.3610e-04 - accuracy: 1.0000\n",
            "Epoch 61: val_accuracy did not improve from 0.86833\n",
            "44/44 [==============================] - 4s 92ms/step - loss: 8.3610e-04 - accuracy: 1.0000 - val_loss: 0.9930 - val_accuracy: 0.8417\n",
            "Epoch 62/70\n",
            "44/44 [==============================] - ETA: 0s - loss: 8.5770e-04 - accuracy: 1.0000\n",
            "Epoch 62: val_accuracy did not improve from 0.86833\n",
            "44/44 [==============================] - 4s 84ms/step - loss: 8.5770e-04 - accuracy: 1.0000 - val_loss: 0.9878 - val_accuracy: 0.8367\n",
            "Epoch 63/70\n",
            "44/44 [==============================] - ETA: 0s - loss: 0.0022 - accuracy: 0.9986\n",
            "Epoch 63: val_accuracy did not improve from 0.86833\n",
            "44/44 [==============================] - 5s 124ms/step - loss: 0.0022 - accuracy: 0.9986 - val_loss: 1.0429 - val_accuracy: 0.8450\n",
            "Epoch 64/70\n",
            "44/44 [==============================] - ETA: 0s - loss: 2.1482e-04 - accuracy: 1.0000\n",
            "Epoch 64: val_accuracy did not improve from 0.86833\n",
            "44/44 [==============================] - 4s 82ms/step - loss: 2.1482e-04 - accuracy: 1.0000 - val_loss: 1.0769 - val_accuracy: 0.8367\n",
            "Epoch 65/70\n",
            "44/44 [==============================] - ETA: 0s - loss: 5.4433e-04 - accuracy: 1.0000\n",
            "Epoch 65: val_accuracy did not improve from 0.86833\n",
            "44/44 [==============================] - 4s 80ms/step - loss: 5.4433e-04 - accuracy: 1.0000 - val_loss: 1.0387 - val_accuracy: 0.8383\n",
            "Epoch 66/70\n",
            "44/44 [==============================] - ETA: 0s - loss: 8.0301e-05 - accuracy: 1.0000\n",
            "Epoch 66: val_accuracy did not improve from 0.86833\n",
            "44/44 [==============================] - 3s 80ms/step - loss: 8.0301e-05 - accuracy: 1.0000 - val_loss: 1.0609 - val_accuracy: 0.8483\n",
            "Epoch 67/70\n",
            "44/44 [==============================] - ETA: 0s - loss: 1.0625e-04 - accuracy: 1.0000\n",
            "Epoch 67: val_accuracy did not improve from 0.86833\n",
            "44/44 [==============================] - 4s 80ms/step - loss: 1.0625e-04 - accuracy: 1.0000 - val_loss: 1.1088 - val_accuracy: 0.8533\n",
            "Epoch 68/70\n",
            "44/44 [==============================] - ETA: 0s - loss: 8.4922e-05 - accuracy: 1.0000\n",
            "Epoch 68: val_accuracy did not improve from 0.86833\n",
            "44/44 [==============================] - 4s 80ms/step - loss: 8.4922e-05 - accuracy: 1.0000 - val_loss: 1.1349 - val_accuracy: 0.8467\n",
            "Epoch 69/70\n",
            "44/44 [==============================] - ETA: 0s - loss: 3.2743e-04 - accuracy: 1.0000\n",
            "Epoch 69: val_accuracy did not improve from 0.86833\n",
            "44/44 [==============================] - 4s 81ms/step - loss: 3.2743e-04 - accuracy: 1.0000 - val_loss: 1.1249 - val_accuracy: 0.8500\n",
            "Epoch 70/70\n",
            "44/44 [==============================] - ETA: 0s - loss: 3.5230e-04 - accuracy: 1.0000\n",
            "Epoch 70: val_accuracy did not improve from 0.86833\n",
            "44/44 [==============================] - 7s 155ms/step - loss: 3.5230e-04 - accuracy: 1.0000 - val_loss: 1.1407 - val_accuracy: 0.8483\n"
          ]
        }
      ]
    },
    {
      "cell_type": "code",
      "source": [
        "import keras\n",
        "\n",
        "best_model = keras.models.load_model(\"best_model1.hdf5\")"
      ],
      "metadata": {
        "id": "dnXIUOeAALPk"
      },
      "execution_count": 58,
      "outputs": []
    },
    {
      "cell_type": "code",
      "source": [
        "test_loss, test_acc = best_model.evaluate(X_test, y_test, verbose=2)\n",
        "print('Model accuracy: ',test_acc)"
      ],
      "metadata": {
        "id": "G5r1a4CoAQoN",
        "outputId": "c68b3b13-958a-4cfa-8d68-1cdbe92ab048",
        "colab": {
          "base_uri": "https://localhost:8080/"
        }
      },
      "execution_count": 59,
      "outputs": [
        {
          "output_type": "stream",
          "name": "stdout",
          "text": [
            "19/19 - 1s - loss: 0.4723 - accuracy: 0.8683 - 754ms/epoch - 40ms/step\n",
            "Model accuracy:  0.8683333396911621\n"
          ]
        }
      ]
    },
    {
      "cell_type": "code",
      "source": [
        "predictions = best_model.predict(X_test)"
      ],
      "metadata": {
        "id": "pw_1i4JmBE97"
      },
      "execution_count": 61,
      "outputs": []
    },
    {
      "cell_type": "code",
      "source": [
        "from sklearn.metrics import confusion_matrix\n",
        "matrix = confusion_matrix(y_test.argmax(axis=1), np.around(predictions, decimals=0).argmax(axis=1))"
      ],
      "metadata": {
        "id": "Dd6yc-uq3d3P"
      },
      "execution_count": 62,
      "outputs": []
    },
    {
      "cell_type": "code",
      "source": [
        "import seaborn as sns\n",
        "import matplotlib.pyplot as plt \n",
        "conf_matrix = pd.DataFrame(matrix, index = ['Neutral','Negative','Positive'],columns = ['Neutral','Negative','Positive'])\n",
        "#Normalizing\n",
        "conf_matrix = conf_matrix.astype('float') / conf_matrix.sum(axis=1)[:, np.newaxis]\n",
        "plt.figure(figsize = (15,15))\n",
        "sns.heatmap(conf_matrix, annot=True, annot_kws={\"size\": 15})"
      ],
      "metadata": {
        "id": "vVTWi_rdAXTB",
        "outputId": "6f16fcaf-dc1d-4e46-b7fb-dc6fb76d34a8",
        "colab": {
          "base_uri": "https://localhost:8080/",
          "height": 935
        }
      },
      "execution_count": 63,
      "outputs": [
        {
          "output_type": "stream",
          "name": "stderr",
          "text": [
            "/usr/local/lib/python3.7/dist-packages/ipykernel_launcher.py:5: FutureWarning: Support for multi-dimensional indexing (e.g. `obj[:, None]`) is deprecated and will be removed in a future version.  Convert to a numpy array before indexing instead.\n",
            "  \"\"\"\n"
          ]
        },
        {
          "output_type": "execute_result",
          "data": {
            "text/plain": [
              "<matplotlib.axes._subplots.AxesSubplot at 0x7fa5cef74d50>"
            ]
          },
          "metadata": {},
          "execution_count": 63
        },
        {
          "output_type": "display_data",
          "data": {
            "image/png": "[encoded data removed]",
            "text/plain": [
              "<Figure size 1080x1080 with 2 Axes>"
            ]
          },
          "metadata": {
            "needs_background": "light"
          }
        }
      ]
    },
    {
      "cell_type": "code",
      "source": [
        "sentiment = ['Neutral','Negative','Positive']\n",
        "sequence = tokenizer.texts_to_sequences(['this experience has been the worst , want my money back'])\n",
        "test = pad_sequences(sequence, maxlen=max_len)\n",
        "sentiment[np.around(best_model.predict(test), decimals=0).argmax(axis=1)[0]]"
      ],
      "metadata": {
        "id": "9Afh_2QIAiT5",
        "outputId": "c36b72d8-a47f-43fc-ca9e-598c8ff29bf0",
        "colab": {
          "base_uri": "https://localhost:8080/",
          "height": 35
        }
      },
      "execution_count": 64,
      "outputs": [
        {
          "output_type": "execute_result",
          "data": {
            "application/vnd.google.colaboratory.intrinsic+json": {
              "type": "string"
            },
            "text/plain": [
              "'Negative'"
            ]
          },
          "metadata": {},
          "execution_count": 64
        }
      ]
    },
    {
      "cell_type": "code",
      "source": [
        "# 'Negative'\n",
        "sequence = tokenizer.texts_to_sequences(['this data science article is the best ever'])\n",
        "test = pad_sequences(sequence, maxlen=max_len)\n",
        "sentiment[np.around(best_model.predict(test), decimals=0).argmax(axis=1)[0]]"
      ],
      "metadata": {
        "id": "L4zZWLczAoNt",
        "outputId": "295484a1-d218-43a8-db39-8eadaa397fc5",
        "colab": {
          "base_uri": "https://localhost:8080/",
          "height": 35
        }
      },
      "execution_count": 65,
      "outputs": [
        {
          "output_type": "execute_result",
          "data": {
            "application/vnd.google.colaboratory.intrinsic+json": {
              "type": "string"
            },
            "text/plain": [
              "'Neutral'"
            ]
          },
          "metadata": {},
          "execution_count": 65
        }
      ]
    },
    {
      "cell_type": "code",
      "source": [
        "# 'Positive'\n",
        "sequence = tokenizer.texts_to_sequences(['i hate youtube ads, they are annoying'])\n",
        "test = pad_sequences(sequence, maxlen=max_len)\n",
        "sentiment[np.around(best_model.predict(test), decimals=0).argmax(axis=1)[0]]"
      ],
      "metadata": {
        "id": "HUgan-AwApx-",
        "outputId": "4f0f97ce-9844-4f6d-f7cf-90f8c4ed7f5a",
        "colab": {
          "base_uri": "https://localhost:8080/",
          "height": 35
        }
      },
      "execution_count": 66,
      "outputs": [
        {
          "output_type": "execute_result",
          "data": {
            "application/vnd.google.colaboratory.intrinsic+json": {
              "type": "string"
            },
            "text/plain": [
              "'Neutral'"
            ]
          },
          "metadata": {},
          "execution_count": 66
        }
      ]
    },
    {
      "cell_type": "code",
      "source": [
        "# 'Negative'\n",
        "sequence = tokenizer.texts_to_sequences(['i really loved how the technician helped me with the issue that i had'])\n",
        "test = pad_sequences(sequence, maxlen=max_len)\n",
        "sentiment[np.around(best_model.predict(test), decimals=0).argmax(axis=1)[0]]"
      ],
      "metadata": {
        "id": "w8Mw-eHJArUS",
        "outputId": "52a2cb3c-16cd-489c-a493-9ccf030e10ca",
        "colab": {
          "base_uri": "https://localhost:8080/",
          "height": 35
        }
      },
      "execution_count": 67,
      "outputs": [
        {
          "output_type": "execute_result",
          "data": {
            "application/vnd.google.colaboratory.intrinsic+json": {
              "type": "string"
            },
            "text/plain": [
              "'Negative'"
            ]
          },
          "metadata": {},
          "execution_count": 67
        }
      ]
    },
    {
      "cell_type": "code",
      "source": [
        ""
      ],
      "metadata": {
        "id": "RdxhsM-QBPZp"
      },
      "execution_count": null,
      "outputs": []
    }
  ]
}